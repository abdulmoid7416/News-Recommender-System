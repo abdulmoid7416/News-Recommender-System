{
 "cells": [
  {
   "cell_type": "markdown",
   "id": "608bd385",
   "metadata": {},
   "source": [
    "# Project Topic: Content based News Recommender Systems\n",
    "<br>\n",
    "\n",
    "### Team Members\n",
    "**Abdul Moid Mohammed** <br>\n",
    "**Mohammed Abdelghani** <br>\n",
    "**Shaik Mohammed Sohaib**"
   ]
  },
  {
   "cell_type": "markdown",
   "id": "2ed2fe27",
   "metadata": {},
   "source": [
    "### 1. importing main libraries:"
   ]
  },
  {
   "cell_type": "code",
   "execution_count": 93,
   "id": "a662a265",
   "metadata": {},
   "outputs": [],
   "source": [
    "import numpy as np\n",
    "import pandas as pd\n",
    "import matplotlib.pyplot as plt\n",
    "import plotly.graph_objects as plotly"
   ]
  },
  {
   "cell_type": "markdown",
   "id": "74230638",
   "metadata": {},
   "source": [
    "### 2. loading data"
   ]
  },
  {
   "cell_type": "code",
   "execution_count": 137,
   "id": "5408f05a",
   "metadata": {},
   "outputs": [],
   "source": [
    "news_dataset = pd.read_json(\"News_Category_Dataset_v2.json\",lines=True)"
   ]
  },
  {
   "cell_type": "code",
   "execution_count": 117,
   "id": "02dbf6a3",
   "metadata": {},
   "outputs": [
    {
     "data": {
      "text/plain": [
       "(200853, 6)"
      ]
     },
     "execution_count": 117,
     "metadata": {},
     "output_type": "execute_result"
    }
   ],
   "source": [
    "news_dataset.shape"
   ]
  },
  {
   "cell_type": "code",
   "execution_count": 118,
   "id": "8014b9ce",
   "metadata": {},
   "outputs": [
    {
     "name": "stdout",
     "output_type": "stream",
     "text": [
      "<class 'pandas.core.frame.DataFrame'>\n",
      "RangeIndex: 200853 entries, 0 to 200852\n",
      "Data columns (total 6 columns):\n",
      " #   Column             Non-Null Count   Dtype         \n",
      "---  ------             --------------   -----         \n",
      " 0   category           200853 non-null  object        \n",
      " 1   headline           200853 non-null  object        \n",
      " 2   authors            200853 non-null  object        \n",
      " 3   link               200853 non-null  object        \n",
      " 4   short_description  200853 non-null  object        \n",
      " 5   date               200853 non-null  datetime64[ns]\n",
      "dtypes: datetime64[ns](1), object(5)\n",
      "memory usage: 9.2+ MB\n"
     ]
    }
   ],
   "source": [
    "news_dataset.info()"
   ]
  },
  {
   "cell_type": "code",
   "execution_count": 119,
   "id": "e2d393e8",
   "metadata": {},
   "outputs": [
    {
     "data": {
      "text/html": [
       "<div>\n",
       "<style scoped>\n",
       "    .dataframe tbody tr th:only-of-type {\n",
       "        vertical-align: middle;\n",
       "    }\n",
       "\n",
       "    .dataframe tbody tr th {\n",
       "        vertical-align: top;\n",
       "    }\n",
       "\n",
       "    .dataframe thead th {\n",
       "        text-align: right;\n",
       "    }\n",
       "</style>\n",
       "<table border=\"1\" class=\"dataframe\">\n",
       "  <thead>\n",
       "    <tr style=\"text-align: right;\">\n",
       "      <th></th>\n",
       "      <th>category</th>\n",
       "      <th>headline</th>\n",
       "      <th>authors</th>\n",
       "      <th>link</th>\n",
       "      <th>short_description</th>\n",
       "      <th>date</th>\n",
       "    </tr>\n",
       "  </thead>\n",
       "  <tbody>\n",
       "    <tr>\n",
       "      <th>0</th>\n",
       "      <td>CRIME</td>\n",
       "      <td>There Were 2 Mass Shootings In Texas Last Week, But Only 1 On TV</td>\n",
       "      <td>Melissa Jeltsen</td>\n",
       "      <td>https://www.huffingtonpost.com/entry/texas-amanda-painter-mass-shooting_us_5b081ab4e4b0802d69caad89</td>\n",
       "      <td>She left her husband. He killed their children. Just another day in America.</td>\n",
       "      <td>2018-05-26</td>\n",
       "    </tr>\n",
       "    <tr>\n",
       "      <th>1</th>\n",
       "      <td>ENTERTAINMENT</td>\n",
       "      <td>Will Smith Joins Diplo And Nicky Jam For The 2018 World Cup's Official Song</td>\n",
       "      <td>Andy McDonald</td>\n",
       "      <td>https://www.huffingtonpost.com/entry/will-smith-joins-diplo-and-nicky-jam-for-the-official-2018-world-cup-song_us_5b09726fe4b0fdb2aa541201</td>\n",
       "      <td>Of course it has a song.</td>\n",
       "      <td>2018-05-26</td>\n",
       "    </tr>\n",
       "    <tr>\n",
       "      <th>2</th>\n",
       "      <td>ENTERTAINMENT</td>\n",
       "      <td>Hugh Grant Marries For The First Time At Age 57</td>\n",
       "      <td>Ron Dicker</td>\n",
       "      <td>https://www.huffingtonpost.com/entry/hugh-grant-marries_us_5b09212ce4b0568a880b9a8c</td>\n",
       "      <td>The actor and his longtime girlfriend Anna Eberstein tied the knot in a civil ceremony.</td>\n",
       "      <td>2018-05-26</td>\n",
       "    </tr>\n",
       "    <tr>\n",
       "      <th>3</th>\n",
       "      <td>ENTERTAINMENT</td>\n",
       "      <td>Jim Carrey Blasts 'Castrato' Adam Schiff And Democrats In New Artwork</td>\n",
       "      <td>Ron Dicker</td>\n",
       "      <td>https://www.huffingtonpost.com/entry/jim-carrey-adam-schiff-democrats_us_5b0950e8e4b0fdb2aa53e675</td>\n",
       "      <td>The actor gives Dems an ass-kicking for not fighting hard enough against Donald Trump.</td>\n",
       "      <td>2018-05-26</td>\n",
       "    </tr>\n",
       "    <tr>\n",
       "      <th>4</th>\n",
       "      <td>ENTERTAINMENT</td>\n",
       "      <td>Julianna Margulies Uses Donald Trump Poop Bags To Pick Up After Her Dog</td>\n",
       "      <td>Ron Dicker</td>\n",
       "      <td>https://www.huffingtonpost.com/entry/julianna-margulies-trump-poop-bag_us_5b093ec2e4b0fdb2aa53df70</td>\n",
       "      <td>The \"Dietland\" actress said using the bags is a \"really cathartic, therapeutic moment.\"</td>\n",
       "      <td>2018-05-26</td>\n",
       "    </tr>\n",
       "    <tr>\n",
       "      <th>5</th>\n",
       "      <td>ENTERTAINMENT</td>\n",
       "      <td>Morgan Freeman 'Devastated' That Sexual Harassment Claims Could Undermine Legacy</td>\n",
       "      <td>Ron Dicker</td>\n",
       "      <td>https://www.huffingtonpost.com/entry/morgan-freeman-devastated-sexual-misconduct_us_5b096319e4b0802d69cba298</td>\n",
       "      <td>\"It is not right to equate horrific incidents of sexual assault with misplaced compliments or humor,\" he said in a statement.</td>\n",
       "      <td>2018-05-26</td>\n",
       "    </tr>\n",
       "    <tr>\n",
       "      <th>6</th>\n",
       "      <td>ENTERTAINMENT</td>\n",
       "      <td>Donald Trump Is Lovin' New McDonald's Jingle In 'Tonight Show' Bit</td>\n",
       "      <td>Ron Dicker</td>\n",
       "      <td>https://www.huffingtonpost.com/entry/donald-trump-mcondalds-tonight-show_us_5b093561e4b0fdb2aa53daba</td>\n",
       "      <td>It's catchy, all right.</td>\n",
       "      <td>2018-05-26</td>\n",
       "    </tr>\n",
       "    <tr>\n",
       "      <th>7</th>\n",
       "      <td>ENTERTAINMENT</td>\n",
       "      <td>What To Watch On Amazon Prime That’s New This Week</td>\n",
       "      <td>Todd Van Luling</td>\n",
       "      <td>https://www.huffingtonpost.com/entry/amazon-prime-what-to-watch_us_5b044625e4b0c0b8b23ec14f</td>\n",
       "      <td>There's a great mini-series joining this week.</td>\n",
       "      <td>2018-05-26</td>\n",
       "    </tr>\n",
       "    <tr>\n",
       "      <th>8</th>\n",
       "      <td>ENTERTAINMENT</td>\n",
       "      <td>Mike Myers Reveals He'd 'Like To' Do A Fourth Austin Powers Film</td>\n",
       "      <td>Andy McDonald</td>\n",
       "      <td>https://www.huffingtonpost.com/entry/mike-myers-reveals-he-wants-to-do-a-fourth-austin-powers-film_us_5b096198e4b0802d69cb9f15</td>\n",
       "      <td>Myer's kids may be pushing for a new \"Powers\" film more than anyone.</td>\n",
       "      <td>2018-05-26</td>\n",
       "    </tr>\n",
       "    <tr>\n",
       "      <th>9</th>\n",
       "      <td>ENTERTAINMENT</td>\n",
       "      <td>What To Watch On Hulu That’s New This Week</td>\n",
       "      <td>Todd Van Luling</td>\n",
       "      <td>https://www.huffingtonpost.com/entry/hulu-what-to-watch_us_5b0445bae4b0c0b8b23ec046</td>\n",
       "      <td>You're getting a recent Academy Award-winning movie.</td>\n",
       "      <td>2018-05-26</td>\n",
       "    </tr>\n",
       "  </tbody>\n",
       "</table>\n",
       "</div>"
      ],
      "text/plain": [
       "        category  \\\n",
       "0          CRIME   \n",
       "1  ENTERTAINMENT   \n",
       "2  ENTERTAINMENT   \n",
       "3  ENTERTAINMENT   \n",
       "4  ENTERTAINMENT   \n",
       "5  ENTERTAINMENT   \n",
       "6  ENTERTAINMENT   \n",
       "7  ENTERTAINMENT   \n",
       "8  ENTERTAINMENT   \n",
       "9  ENTERTAINMENT   \n",
       "\n",
       "                                                                           headline  \\\n",
       "0                  There Were 2 Mass Shootings In Texas Last Week, But Only 1 On TV   \n",
       "1       Will Smith Joins Diplo And Nicky Jam For The 2018 World Cup's Official Song   \n",
       "2                                   Hugh Grant Marries For The First Time At Age 57   \n",
       "3             Jim Carrey Blasts 'Castrato' Adam Schiff And Democrats In New Artwork   \n",
       "4           Julianna Margulies Uses Donald Trump Poop Bags To Pick Up After Her Dog   \n",
       "5  Morgan Freeman 'Devastated' That Sexual Harassment Claims Could Undermine Legacy   \n",
       "6                Donald Trump Is Lovin' New McDonald's Jingle In 'Tonight Show' Bit   \n",
       "7                                What To Watch On Amazon Prime That’s New This Week   \n",
       "8                  Mike Myers Reveals He'd 'Like To' Do A Fourth Austin Powers Film   \n",
       "9                                        What To Watch On Hulu That’s New This Week   \n",
       "\n",
       "           authors  \\\n",
       "0  Melissa Jeltsen   \n",
       "1    Andy McDonald   \n",
       "2       Ron Dicker   \n",
       "3       Ron Dicker   \n",
       "4       Ron Dicker   \n",
       "5       Ron Dicker   \n",
       "6       Ron Dicker   \n",
       "7  Todd Van Luling   \n",
       "8    Andy McDonald   \n",
       "9  Todd Van Luling   \n",
       "\n",
       "                                                                                                                                         link  \\\n",
       "0                                         https://www.huffingtonpost.com/entry/texas-amanda-painter-mass-shooting_us_5b081ab4e4b0802d69caad89   \n",
       "1  https://www.huffingtonpost.com/entry/will-smith-joins-diplo-and-nicky-jam-for-the-official-2018-world-cup-song_us_5b09726fe4b0fdb2aa541201   \n",
       "2                                                         https://www.huffingtonpost.com/entry/hugh-grant-marries_us_5b09212ce4b0568a880b9a8c   \n",
       "3                                           https://www.huffingtonpost.com/entry/jim-carrey-adam-schiff-democrats_us_5b0950e8e4b0fdb2aa53e675   \n",
       "4                                          https://www.huffingtonpost.com/entry/julianna-margulies-trump-poop-bag_us_5b093ec2e4b0fdb2aa53df70   \n",
       "5                                https://www.huffingtonpost.com/entry/morgan-freeman-devastated-sexual-misconduct_us_5b096319e4b0802d69cba298   \n",
       "6                                        https://www.huffingtonpost.com/entry/donald-trump-mcondalds-tonight-show_us_5b093561e4b0fdb2aa53daba   \n",
       "7                                                 https://www.huffingtonpost.com/entry/amazon-prime-what-to-watch_us_5b044625e4b0c0b8b23ec14f   \n",
       "8              https://www.huffingtonpost.com/entry/mike-myers-reveals-he-wants-to-do-a-fourth-austin-powers-film_us_5b096198e4b0802d69cb9f15   \n",
       "9                                                         https://www.huffingtonpost.com/entry/hulu-what-to-watch_us_5b0445bae4b0c0b8b23ec046   \n",
       "\n",
       "                                                                                                               short_description  \\\n",
       "0                                                   She left her husband. He killed their children. Just another day in America.   \n",
       "1                                                                                                       Of course it has a song.   \n",
       "2                                        The actor and his longtime girlfriend Anna Eberstein tied the knot in a civil ceremony.   \n",
       "3                                         The actor gives Dems an ass-kicking for not fighting hard enough against Donald Trump.   \n",
       "4                                        The \"Dietland\" actress said using the bags is a \"really cathartic, therapeutic moment.\"   \n",
       "5  \"It is not right to equate horrific incidents of sexual assault with misplaced compliments or humor,\" he said in a statement.   \n",
       "6                                                                                                        It's catchy, all right.   \n",
       "7                                                                                 There's a great mini-series joining this week.   \n",
       "8                                                           Myer's kids may be pushing for a new \"Powers\" film more than anyone.   \n",
       "9                                                                           You're getting a recent Academy Award-winning movie.   \n",
       "\n",
       "        date  \n",
       "0 2018-05-26  \n",
       "1 2018-05-26  \n",
       "2 2018-05-26  \n",
       "3 2018-05-26  \n",
       "4 2018-05-26  \n",
       "5 2018-05-26  \n",
       "6 2018-05-26  \n",
       "7 2018-05-26  \n",
       "8 2018-05-26  \n",
       "9 2018-05-26  "
      ]
     },
     "execution_count": 119,
     "metadata": {},
     "output_type": "execute_result"
    }
   ],
   "source": [
    "news_dataset.head(10)"
   ]
  },
  {
   "cell_type": "markdown",
   "id": "9ef791f7",
   "metadata": {},
   "source": [
    "## 3. data preprocessing:"
   ]
  },
  {
   "cell_type": "markdown",
   "id": "ac875d72",
   "metadata": {},
   "source": [
    "#### a: limiting the data size because the complete dataset needs huge computing power:"
   ]
  },
  {
   "cell_type": "code",
   "execution_count": 138,
   "id": "c2678e59",
   "metadata": {},
   "outputs": [],
   "source": [
    "# Keeping data from 2015 onwards\n",
    "news_dataset['date'] = pd.to_datetime(news_dataset['date'])\n",
    "news_dataset = news_dataset[news_dataset['date'] >= '2017-01-01']"
   ]
  },
  {
   "cell_type": "code",
   "execution_count": 139,
   "id": "7e004bdd",
   "metadata": {},
   "outputs": [
    {
     "data": {
      "text/plain": [
       "(38472, 6)"
      ]
     },
     "execution_count": 139,
     "metadata": {},
     "output_type": "execute_result"
    }
   ],
   "source": [
    "news_dataset.shape"
   ]
  },
  {
   "cell_type": "markdown",
   "id": "24a75de4",
   "metadata": {},
   "source": [
    "### b: removing all the short headline articles:"
   ]
  },
  {
   "cell_type": "markdown",
   "id": "b94f8c55",
   "metadata": {},
   "source": [
    "After stop words removal from headline, the articles with very short headline may become blank headline articles. So let's remove all the articles with less words(<5) in the headline."
   ]
  },
  {
   "cell_type": "code",
   "execution_count": 141,
   "id": "4c0a0499",
   "metadata": {},
   "outputs": [
    {
     "name": "stdout",
     "output_type": "stream",
     "text": [
      "Total number of articles after removal of headlines with short title: 37145\n"
     ]
    }
   ],
   "source": [
    "#Removing articles with short headlines, since they are of not much use when we take headline for feature engineering\n",
    "news_dataset = news_dataset[news_dataset['headline'].apply(lambda x: len(x.split())>5)]\n",
    "print(\"Total number of articles after removal of headlines with short title:\", news_dataset.shape[0])"
   ]
  },
  {
   "cell_type": "markdown",
   "id": "90a8c0b3",
   "metadata": {},
   "source": [
    "### c: Checking and removing all the duplicates:"
   ]
  },
  {
   "cell_type": "markdown",
   "id": "488cf073",
   "metadata": {},
   "source": [
    "Since some articles are exactly same in headlines, so let's remove all such articles having duplicate headline appearance."
   ]
  },
  {
   "cell_type": "markdown",
   "id": "93dc9e6e",
   "metadata": {},
   "source": [
    "**There are no null values so lets check for duplicates:** "
   ]
  },
  {
   "cell_type": "code",
   "execution_count": 123,
   "id": "35e0a5f5",
   "metadata": {},
   "outputs": [
    {
     "name": "stdout",
     "output_type": "stream",
     "text": [
      "Total number of rows after removing duplicates are:  37145\n"
     ]
    }
   ],
   "source": [
    "data_duplicates = news_dataset.duplicated('link',keep=False)\n",
    "news_dataset = news_dataset[~data_duplicates]\n",
    "print(\"Total number of rows after removing duplicates are: \",news_dataset.shape[0])"
   ]
  },
  {
   "cell_type": "markdown",
   "id": "6d700f14",
   "metadata": {},
   "source": [
    "### d: Checking for missing values:"
   ]
  },
  {
   "cell_type": "code",
   "execution_count": 124,
   "id": "7b97bfb7",
   "metadata": {},
   "outputs": [
    {
     "data": {
      "text/plain": [
       "category             0\n",
       "headline             0\n",
       "authors              0\n",
       "link                 0\n",
       "short_description    0\n",
       "date                 0\n",
       "dtype: int64"
      ]
     },
     "execution_count": 124,
     "metadata": {},
     "output_type": "execute_result"
    }
   ],
   "source": [
    "# check for null values\n",
    "news_dataset.isna().sum()"
   ]
  },
  {
   "cell_type": "markdown",
   "id": "51f09e63",
   "metadata": {},
   "source": [
    "## 4. data exploration:"
   ]
  },
  {
   "cell_type": "markdown",
   "id": "1cb7e16a",
   "metadata": {},
   "source": [
    "### a. basic statistics - number of articles, authors, categories:"
   ]
  },
  {
   "cell_type": "code",
   "execution_count": 125,
   "id": "ae82b644",
   "metadata": {},
   "outputs": [
    {
     "name": "stdout",
     "output_type": "stream",
     "text": [
      "Number of News Articles:  37145\n",
      "Number of Authors:  5360\n",
      "Total Number of Unique Categories:  31\n"
     ]
    }
   ],
   "source": [
    "print(\"Number of News Articles: \", news_dataset.shape[0])\n",
    "print(\"Number of Authors: \", news_dataset[\"authors\"].nunique())\n",
    "print(\"Total Number of Unique Categories: \", news_dataset[\"category\"].nunique())"
   ]
  },
  {
   "cell_type": "markdown",
   "id": "f1151d23",
   "metadata": {},
   "source": [
    "### b. distribution of articles category-wise:"
   ]
  },
  {
   "cell_type": "code",
   "execution_count": 126,
   "id": "9766ddc6",
   "metadata": {},
   "outputs": [
    {
     "data": {
      "application/vnd.plotly.v1+json": {
       "config": {
        "plotlyServerURL": "https://plot.ly"
       },
       "data": [
        {
         "type": "bar",
         "x": [
          "POLITICS",
          "ENTERTAINMENT",
          "WORLD NEWS",
          "QUEER VOICES",
          "COMEDY",
          "HEALTHY LIVING",
          "BLACK VOICES",
          "PARENTS",
          "WOMEN",
          "THE WORLDPOST",
          "MEDIA",
          "SPORTS",
          "WEIRD NEWS",
          "CRIME",
          "STYLE",
          "GREEN",
          "TASTE",
          "ARTS & CULTURE",
          "BUSINESS",
          "LATINO VOICES",
          "IMPACT",
          "RELIGION",
          "TRAVEL",
          "EDUCATION",
          "TECH",
          "SCIENCE",
          "COLLEGE",
          "GOOD NEWS",
          "WORLDPOST",
          "ARTS",
          "FIFTY"
         ],
         "y": [
          13075,
          4882,
          2113,
          1833,
          1584,
          1354,
          1324,
          1208,
          1100,
          1059,
          912,
          771,
          681,
          618,
          561,
          530,
          528,
          527,
          470,
          375,
          364,
          340,
          307,
          236,
          174,
          129,
          47,
          24,
          16,
          2,
          1
         ]
        }
       ],
       "layout": {
        "height": 700,
        "template": {
         "data": {
          "bar": [
           {
            "error_x": {
             "color": "#2a3f5f"
            },
            "error_y": {
             "color": "#2a3f5f"
            },
            "marker": {
             "line": {
              "color": "#E5ECF6",
              "width": 0.5
             },
             "pattern": {
              "fillmode": "overlay",
              "size": 10,
              "solidity": 0.2
             }
            },
            "type": "bar"
           }
          ],
          "barpolar": [
           {
            "marker": {
             "line": {
              "color": "#E5ECF6",
              "width": 0.5
             },
             "pattern": {
              "fillmode": "overlay",
              "size": 10,
              "solidity": 0.2
             }
            },
            "type": "barpolar"
           }
          ],
          "carpet": [
           {
            "aaxis": {
             "endlinecolor": "#2a3f5f",
             "gridcolor": "white",
             "linecolor": "white",
             "minorgridcolor": "white",
             "startlinecolor": "#2a3f5f"
            },
            "baxis": {
             "endlinecolor": "#2a3f5f",
             "gridcolor": "white",
             "linecolor": "white",
             "minorgridcolor": "white",
             "startlinecolor": "#2a3f5f"
            },
            "type": "carpet"
           }
          ],
          "choropleth": [
           {
            "colorbar": {
             "outlinewidth": 0,
             "ticks": ""
            },
            "type": "choropleth"
           }
          ],
          "contour": [
           {
            "colorbar": {
             "outlinewidth": 0,
             "ticks": ""
            },
            "colorscale": [
             [
              0,
              "#0d0887"
             ],
             [
              0.1111111111111111,
              "#46039f"
             ],
             [
              0.2222222222222222,
              "#7201a8"
             ],
             [
              0.3333333333333333,
              "#9c179e"
             ],
             [
              0.4444444444444444,
              "#bd3786"
             ],
             [
              0.5555555555555556,
              "#d8576b"
             ],
             [
              0.6666666666666666,
              "#ed7953"
             ],
             [
              0.7777777777777778,
              "#fb9f3a"
             ],
             [
              0.8888888888888888,
              "#fdca26"
             ],
             [
              1,
              "#f0f921"
             ]
            ],
            "type": "contour"
           }
          ],
          "contourcarpet": [
           {
            "colorbar": {
             "outlinewidth": 0,
             "ticks": ""
            },
            "type": "contourcarpet"
           }
          ],
          "heatmap": [
           {
            "colorbar": {
             "outlinewidth": 0,
             "ticks": ""
            },
            "colorscale": [
             [
              0,
              "#0d0887"
             ],
             [
              0.1111111111111111,
              "#46039f"
             ],
             [
              0.2222222222222222,
              "#7201a8"
             ],
             [
              0.3333333333333333,
              "#9c179e"
             ],
             [
              0.4444444444444444,
              "#bd3786"
             ],
             [
              0.5555555555555556,
              "#d8576b"
             ],
             [
              0.6666666666666666,
              "#ed7953"
             ],
             [
              0.7777777777777778,
              "#fb9f3a"
             ],
             [
              0.8888888888888888,
              "#fdca26"
             ],
             [
              1,
              "#f0f921"
             ]
            ],
            "type": "heatmap"
           }
          ],
          "heatmapgl": [
           {
            "colorbar": {
             "outlinewidth": 0,
             "ticks": ""
            },
            "colorscale": [
             [
              0,
              "#0d0887"
             ],
             [
              0.1111111111111111,
              "#46039f"
             ],
             [
              0.2222222222222222,
              "#7201a8"
             ],
             [
              0.3333333333333333,
              "#9c179e"
             ],
             [
              0.4444444444444444,
              "#bd3786"
             ],
             [
              0.5555555555555556,
              "#d8576b"
             ],
             [
              0.6666666666666666,
              "#ed7953"
             ],
             [
              0.7777777777777778,
              "#fb9f3a"
             ],
             [
              0.8888888888888888,
              "#fdca26"
             ],
             [
              1,
              "#f0f921"
             ]
            ],
            "type": "heatmapgl"
           }
          ],
          "histogram": [
           {
            "marker": {
             "pattern": {
              "fillmode": "overlay",
              "size": 10,
              "solidity": 0.2
             }
            },
            "type": "histogram"
           }
          ],
          "histogram2d": [
           {
            "colorbar": {
             "outlinewidth": 0,
             "ticks": ""
            },
            "colorscale": [
             [
              0,
              "#0d0887"
             ],
             [
              0.1111111111111111,
              "#46039f"
             ],
             [
              0.2222222222222222,
              "#7201a8"
             ],
             [
              0.3333333333333333,
              "#9c179e"
             ],
             [
              0.4444444444444444,
              "#bd3786"
             ],
             [
              0.5555555555555556,
              "#d8576b"
             ],
             [
              0.6666666666666666,
              "#ed7953"
             ],
             [
              0.7777777777777778,
              "#fb9f3a"
             ],
             [
              0.8888888888888888,
              "#fdca26"
             ],
             [
              1,
              "#f0f921"
             ]
            ],
            "type": "histogram2d"
           }
          ],
          "histogram2dcontour": [
           {
            "colorbar": {
             "outlinewidth": 0,
             "ticks": ""
            },
            "colorscale": [
             [
              0,
              "#0d0887"
             ],
             [
              0.1111111111111111,
              "#46039f"
             ],
             [
              0.2222222222222222,
              "#7201a8"
             ],
             [
              0.3333333333333333,
              "#9c179e"
             ],
             [
              0.4444444444444444,
              "#bd3786"
             ],
             [
              0.5555555555555556,
              "#d8576b"
             ],
             [
              0.6666666666666666,
              "#ed7953"
             ],
             [
              0.7777777777777778,
              "#fb9f3a"
             ],
             [
              0.8888888888888888,
              "#fdca26"
             ],
             [
              1,
              "#f0f921"
             ]
            ],
            "type": "histogram2dcontour"
           }
          ],
          "mesh3d": [
           {
            "colorbar": {
             "outlinewidth": 0,
             "ticks": ""
            },
            "type": "mesh3d"
           }
          ],
          "parcoords": [
           {
            "line": {
             "colorbar": {
              "outlinewidth": 0,
              "ticks": ""
             }
            },
            "type": "parcoords"
           }
          ],
          "pie": [
           {
            "automargin": true,
            "type": "pie"
           }
          ],
          "scatter": [
           {
            "fillpattern": {
             "fillmode": "overlay",
             "size": 10,
             "solidity": 0.2
            },
            "type": "scatter"
           }
          ],
          "scatter3d": [
           {
            "line": {
             "colorbar": {
              "outlinewidth": 0,
              "ticks": ""
             }
            },
            "marker": {
             "colorbar": {
              "outlinewidth": 0,
              "ticks": ""
             }
            },
            "type": "scatter3d"
           }
          ],
          "scattercarpet": [
           {
            "marker": {
             "colorbar": {
              "outlinewidth": 0,
              "ticks": ""
             }
            },
            "type": "scattercarpet"
           }
          ],
          "scattergeo": [
           {
            "marker": {
             "colorbar": {
              "outlinewidth": 0,
              "ticks": ""
             }
            },
            "type": "scattergeo"
           }
          ],
          "scattergl": [
           {
            "marker": {
             "colorbar": {
              "outlinewidth": 0,
              "ticks": ""
             }
            },
            "type": "scattergl"
           }
          ],
          "scattermapbox": [
           {
            "marker": {
             "colorbar": {
              "outlinewidth": 0,
              "ticks": ""
             }
            },
            "type": "scattermapbox"
           }
          ],
          "scatterpolar": [
           {
            "marker": {
             "colorbar": {
              "outlinewidth": 0,
              "ticks": ""
             }
            },
            "type": "scatterpolar"
           }
          ],
          "scatterpolargl": [
           {
            "marker": {
             "colorbar": {
              "outlinewidth": 0,
              "ticks": ""
             }
            },
            "type": "scatterpolargl"
           }
          ],
          "scatterternary": [
           {
            "marker": {
             "colorbar": {
              "outlinewidth": 0,
              "ticks": ""
             }
            },
            "type": "scatterternary"
           }
          ],
          "surface": [
           {
            "colorbar": {
             "outlinewidth": 0,
             "ticks": ""
            },
            "colorscale": [
             [
              0,
              "#0d0887"
             ],
             [
              0.1111111111111111,
              "#46039f"
             ],
             [
              0.2222222222222222,
              "#7201a8"
             ],
             [
              0.3333333333333333,
              "#9c179e"
             ],
             [
              0.4444444444444444,
              "#bd3786"
             ],
             [
              0.5555555555555556,
              "#d8576b"
             ],
             [
              0.6666666666666666,
              "#ed7953"
             ],
             [
              0.7777777777777778,
              "#fb9f3a"
             ],
             [
              0.8888888888888888,
              "#fdca26"
             ],
             [
              1,
              "#f0f921"
             ]
            ],
            "type": "surface"
           }
          ],
          "table": [
           {
            "cells": {
             "fill": {
              "color": "#EBF0F8"
             },
             "line": {
              "color": "white"
             }
            },
            "header": {
             "fill": {
              "color": "#C8D4E3"
             },
             "line": {
              "color": "white"
             }
            },
            "type": "table"
           }
          ]
         },
         "layout": {
          "annotationdefaults": {
           "arrowcolor": "#2a3f5f",
           "arrowhead": 0,
           "arrowwidth": 1
          },
          "autotypenumbers": "strict",
          "coloraxis": {
           "colorbar": {
            "outlinewidth": 0,
            "ticks": ""
           }
          },
          "colorscale": {
           "diverging": [
            [
             0,
             "#8e0152"
            ],
            [
             0.1,
             "#c51b7d"
            ],
            [
             0.2,
             "#de77ae"
            ],
            [
             0.3,
             "#f1b6da"
            ],
            [
             0.4,
             "#fde0ef"
            ],
            [
             0.5,
             "#f7f7f7"
            ],
            [
             0.6,
             "#e6f5d0"
            ],
            [
             0.7,
             "#b8e186"
            ],
            [
             0.8,
             "#7fbc41"
            ],
            [
             0.9,
             "#4d9221"
            ],
            [
             1,
             "#276419"
            ]
           ],
           "sequential": [
            [
             0,
             "#0d0887"
            ],
            [
             0.1111111111111111,
             "#46039f"
            ],
            [
             0.2222222222222222,
             "#7201a8"
            ],
            [
             0.3333333333333333,
             "#9c179e"
            ],
            [
             0.4444444444444444,
             "#bd3786"
            ],
            [
             0.5555555555555556,
             "#d8576b"
            ],
            [
             0.6666666666666666,
             "#ed7953"
            ],
            [
             0.7777777777777778,
             "#fb9f3a"
            ],
            [
             0.8888888888888888,
             "#fdca26"
            ],
            [
             1,
             "#f0f921"
            ]
           ],
           "sequentialminus": [
            [
             0,
             "#0d0887"
            ],
            [
             0.1111111111111111,
             "#46039f"
            ],
            [
             0.2222222222222222,
             "#7201a8"
            ],
            [
             0.3333333333333333,
             "#9c179e"
            ],
            [
             0.4444444444444444,
             "#bd3786"
            ],
            [
             0.5555555555555556,
             "#d8576b"
            ],
            [
             0.6666666666666666,
             "#ed7953"
            ],
            [
             0.7777777777777778,
             "#fb9f3a"
            ],
            [
             0.8888888888888888,
             "#fdca26"
            ],
            [
             1,
             "#f0f921"
            ]
           ]
          },
          "colorway": [
           "#636efa",
           "#EF553B",
           "#00cc96",
           "#ab63fa",
           "#FFA15A",
           "#19d3f3",
           "#FF6692",
           "#B6E880",
           "#FF97FF",
           "#FECB52"
          ],
          "font": {
           "color": "#2a3f5f"
          },
          "geo": {
           "bgcolor": "white",
           "lakecolor": "white",
           "landcolor": "#E5ECF6",
           "showlakes": true,
           "showland": true,
           "subunitcolor": "white"
          },
          "hoverlabel": {
           "align": "left"
          },
          "hovermode": "closest",
          "mapbox": {
           "style": "light"
          },
          "paper_bgcolor": "white",
          "plot_bgcolor": "#E5ECF6",
          "polar": {
           "angularaxis": {
            "gridcolor": "white",
            "linecolor": "white",
            "ticks": ""
           },
           "bgcolor": "#E5ECF6",
           "radialaxis": {
            "gridcolor": "white",
            "linecolor": "white",
            "ticks": ""
           }
          },
          "scene": {
           "xaxis": {
            "backgroundcolor": "#E5ECF6",
            "gridcolor": "white",
            "gridwidth": 2,
            "linecolor": "white",
            "showbackground": true,
            "ticks": "",
            "zerolinecolor": "white"
           },
           "yaxis": {
            "backgroundcolor": "#E5ECF6",
            "gridcolor": "white",
            "gridwidth": 2,
            "linecolor": "white",
            "showbackground": true,
            "ticks": "",
            "zerolinecolor": "white"
           },
           "zaxis": {
            "backgroundcolor": "#E5ECF6",
            "gridcolor": "white",
            "gridwidth": 2,
            "linecolor": "white",
            "showbackground": true,
            "ticks": "",
            "zerolinecolor": "white"
           }
          },
          "shapedefaults": {
           "line": {
            "color": "#2a3f5f"
           }
          },
          "ternary": {
           "aaxis": {
            "gridcolor": "white",
            "linecolor": "white",
            "ticks": ""
           },
           "baxis": {
            "gridcolor": "white",
            "linecolor": "white",
            "ticks": ""
           },
           "bgcolor": "#E5ECF6",
           "caxis": {
            "gridcolor": "white",
            "linecolor": "white",
            "ticks": ""
           }
          },
          "title": {
           "x": 0.05
          },
          "xaxis": {
           "automargin": true,
           "gridcolor": "white",
           "linecolor": "white",
           "ticks": "",
           "title": {
            "standoff": 15
           },
           "zerolinecolor": "white",
           "zerolinewidth": 2
          },
          "yaxis": {
           "automargin": true,
           "gridcolor": "white",
           "linecolor": "white",
           "ticks": "",
           "title": {
            "standoff": 15
           },
           "zerolinecolor": "white",
           "zerolinewidth": 2
          }
         }
        },
        "title": {
         "text": "Distribution of articles category-wise",
         "x": 0.5,
         "xanchor": "center",
         "y": 0.9,
         "yanchor": "top"
        },
        "width": 800,
        "xaxis": {
         "title": {
          "text": "Category name"
         }
        },
        "yaxis": {
         "title": {
          "text": "Number of articles"
         }
        }
       }
      },
      "text/html": [
       "<div>                            <div id=\"2d3b4a0d-8ee3-4eda-b9f7-487f72b0f4ed\" class=\"plotly-graph-div\" style=\"height:700px; width:800px;\"></div>            <script type=\"text/javascript\">                require([\"plotly\"], function(Plotly) {                    window.PLOTLYENV=window.PLOTLYENV || {};                                    if (document.getElementById(\"2d3b4a0d-8ee3-4eda-b9f7-487f72b0f4ed\")) {                    Plotly.newPlot(                        \"2d3b4a0d-8ee3-4eda-b9f7-487f72b0f4ed\",                        [{\"x\":[\"POLITICS\",\"ENTERTAINMENT\",\"WORLD NEWS\",\"QUEER VOICES\",\"COMEDY\",\"HEALTHY LIVING\",\"BLACK VOICES\",\"PARENTS\",\"WOMEN\",\"THE WORLDPOST\",\"MEDIA\",\"SPORTS\",\"WEIRD NEWS\",\"CRIME\",\"STYLE\",\"GREEN\",\"TASTE\",\"ARTS & CULTURE\",\"BUSINESS\",\"LATINO VOICES\",\"IMPACT\",\"RELIGION\",\"TRAVEL\",\"EDUCATION\",\"TECH\",\"SCIENCE\",\"COLLEGE\",\"GOOD NEWS\",\"WORLDPOST\",\"ARTS\",\"FIFTY\"],\"y\":[13075,4882,2113,1833,1584,1354,1324,1208,1100,1059,912,771,681,618,561,530,528,527,470,375,364,340,307,236,174,129,47,24,16,2,1],\"type\":\"bar\"}],                        {\"template\":{\"data\":{\"histogram2dcontour\":[{\"type\":\"histogram2dcontour\",\"colorbar\":{\"outlinewidth\":0,\"ticks\":\"\"},\"colorscale\":[[0.0,\"#0d0887\"],[0.1111111111111111,\"#46039f\"],[0.2222222222222222,\"#7201a8\"],[0.3333333333333333,\"#9c179e\"],[0.4444444444444444,\"#bd3786\"],[0.5555555555555556,\"#d8576b\"],[0.6666666666666666,\"#ed7953\"],[0.7777777777777778,\"#fb9f3a\"],[0.8888888888888888,\"#fdca26\"],[1.0,\"#f0f921\"]]}],\"choropleth\":[{\"type\":\"choropleth\",\"colorbar\":{\"outlinewidth\":0,\"ticks\":\"\"}}],\"histogram2d\":[{\"type\":\"histogram2d\",\"colorbar\":{\"outlinewidth\":0,\"ticks\":\"\"},\"colorscale\":[[0.0,\"#0d0887\"],[0.1111111111111111,\"#46039f\"],[0.2222222222222222,\"#7201a8\"],[0.3333333333333333,\"#9c179e\"],[0.4444444444444444,\"#bd3786\"],[0.5555555555555556,\"#d8576b\"],[0.6666666666666666,\"#ed7953\"],[0.7777777777777778,\"#fb9f3a\"],[0.8888888888888888,\"#fdca26\"],[1.0,\"#f0f921\"]]}],\"heatmap\":[{\"type\":\"heatmap\",\"colorbar\":{\"outlinewidth\":0,\"ticks\":\"\"},\"colorscale\":[[0.0,\"#0d0887\"],[0.1111111111111111,\"#46039f\"],[0.2222222222222222,\"#7201a8\"],[0.3333333333333333,\"#9c179e\"],[0.4444444444444444,\"#bd3786\"],[0.5555555555555556,\"#d8576b\"],[0.6666666666666666,\"#ed7953\"],[0.7777777777777778,\"#fb9f3a\"],[0.8888888888888888,\"#fdca26\"],[1.0,\"#f0f921\"]]}],\"heatmapgl\":[{\"type\":\"heatmapgl\",\"colorbar\":{\"outlinewidth\":0,\"ticks\":\"\"},\"colorscale\":[[0.0,\"#0d0887\"],[0.1111111111111111,\"#46039f\"],[0.2222222222222222,\"#7201a8\"],[0.3333333333333333,\"#9c179e\"],[0.4444444444444444,\"#bd3786\"],[0.5555555555555556,\"#d8576b\"],[0.6666666666666666,\"#ed7953\"],[0.7777777777777778,\"#fb9f3a\"],[0.8888888888888888,\"#fdca26\"],[1.0,\"#f0f921\"]]}],\"contourcarpet\":[{\"type\":\"contourcarpet\",\"colorbar\":{\"outlinewidth\":0,\"ticks\":\"\"}}],\"contour\":[{\"type\":\"contour\",\"colorbar\":{\"outlinewidth\":0,\"ticks\":\"\"},\"colorscale\":[[0.0,\"#0d0887\"],[0.1111111111111111,\"#46039f\"],[0.2222222222222222,\"#7201a8\"],[0.3333333333333333,\"#9c179e\"],[0.4444444444444444,\"#bd3786\"],[0.5555555555555556,\"#d8576b\"],[0.6666666666666666,\"#ed7953\"],[0.7777777777777778,\"#fb9f3a\"],[0.8888888888888888,\"#fdca26\"],[1.0,\"#f0f921\"]]}],\"surface\":[{\"type\":\"surface\",\"colorbar\":{\"outlinewidth\":0,\"ticks\":\"\"},\"colorscale\":[[0.0,\"#0d0887\"],[0.1111111111111111,\"#46039f\"],[0.2222222222222222,\"#7201a8\"],[0.3333333333333333,\"#9c179e\"],[0.4444444444444444,\"#bd3786\"],[0.5555555555555556,\"#d8576b\"],[0.6666666666666666,\"#ed7953\"],[0.7777777777777778,\"#fb9f3a\"],[0.8888888888888888,\"#fdca26\"],[1.0,\"#f0f921\"]]}],\"mesh3d\":[{\"type\":\"mesh3d\",\"colorbar\":{\"outlinewidth\":0,\"ticks\":\"\"}}],\"scatter\":[{\"fillpattern\":{\"fillmode\":\"overlay\",\"size\":10,\"solidity\":0.2},\"type\":\"scatter\"}],\"parcoords\":[{\"type\":\"parcoords\",\"line\":{\"colorbar\":{\"outlinewidth\":0,\"ticks\":\"\"}}}],\"scatterpolargl\":[{\"type\":\"scatterpolargl\",\"marker\":{\"colorbar\":{\"outlinewidth\":0,\"ticks\":\"\"}}}],\"bar\":[{\"error_x\":{\"color\":\"#2a3f5f\"},\"error_y\":{\"color\":\"#2a3f5f\"},\"marker\":{\"line\":{\"color\":\"#E5ECF6\",\"width\":0.5},\"pattern\":{\"fillmode\":\"overlay\",\"size\":10,\"solidity\":0.2}},\"type\":\"bar\"}],\"scattergeo\":[{\"type\":\"scattergeo\",\"marker\":{\"colorbar\":{\"outlinewidth\":0,\"ticks\":\"\"}}}],\"scatterpolar\":[{\"type\":\"scatterpolar\",\"marker\":{\"colorbar\":{\"outlinewidth\":0,\"ticks\":\"\"}}}],\"histogram\":[{\"marker\":{\"pattern\":{\"fillmode\":\"overlay\",\"size\":10,\"solidity\":0.2}},\"type\":\"histogram\"}],\"scattergl\":[{\"type\":\"scattergl\",\"marker\":{\"colorbar\":{\"outlinewidth\":0,\"ticks\":\"\"}}}],\"scatter3d\":[{\"type\":\"scatter3d\",\"line\":{\"colorbar\":{\"outlinewidth\":0,\"ticks\":\"\"}},\"marker\":{\"colorbar\":{\"outlinewidth\":0,\"ticks\":\"\"}}}],\"scattermapbox\":[{\"type\":\"scattermapbox\",\"marker\":{\"colorbar\":{\"outlinewidth\":0,\"ticks\":\"\"}}}],\"scatterternary\":[{\"type\":\"scatterternary\",\"marker\":{\"colorbar\":{\"outlinewidth\":0,\"ticks\":\"\"}}}],\"scattercarpet\":[{\"type\":\"scattercarpet\",\"marker\":{\"colorbar\":{\"outlinewidth\":0,\"ticks\":\"\"}}}],\"carpet\":[{\"aaxis\":{\"endlinecolor\":\"#2a3f5f\",\"gridcolor\":\"white\",\"linecolor\":\"white\",\"minorgridcolor\":\"white\",\"startlinecolor\":\"#2a3f5f\"},\"baxis\":{\"endlinecolor\":\"#2a3f5f\",\"gridcolor\":\"white\",\"linecolor\":\"white\",\"minorgridcolor\":\"white\",\"startlinecolor\":\"#2a3f5f\"},\"type\":\"carpet\"}],\"table\":[{\"cells\":{\"fill\":{\"color\":\"#EBF0F8\"},\"line\":{\"color\":\"white\"}},\"header\":{\"fill\":{\"color\":\"#C8D4E3\"},\"line\":{\"color\":\"white\"}},\"type\":\"table\"}],\"barpolar\":[{\"marker\":{\"line\":{\"color\":\"#E5ECF6\",\"width\":0.5},\"pattern\":{\"fillmode\":\"overlay\",\"size\":10,\"solidity\":0.2}},\"type\":\"barpolar\"}],\"pie\":[{\"automargin\":true,\"type\":\"pie\"}]},\"layout\":{\"autotypenumbers\":\"strict\",\"colorway\":[\"#636efa\",\"#EF553B\",\"#00cc96\",\"#ab63fa\",\"#FFA15A\",\"#19d3f3\",\"#FF6692\",\"#B6E880\",\"#FF97FF\",\"#FECB52\"],\"font\":{\"color\":\"#2a3f5f\"},\"hovermode\":\"closest\",\"hoverlabel\":{\"align\":\"left\"},\"paper_bgcolor\":\"white\",\"plot_bgcolor\":\"#E5ECF6\",\"polar\":{\"bgcolor\":\"#E5ECF6\",\"angularaxis\":{\"gridcolor\":\"white\",\"linecolor\":\"white\",\"ticks\":\"\"},\"radialaxis\":{\"gridcolor\":\"white\",\"linecolor\":\"white\",\"ticks\":\"\"}},\"ternary\":{\"bgcolor\":\"#E5ECF6\",\"aaxis\":{\"gridcolor\":\"white\",\"linecolor\":\"white\",\"ticks\":\"\"},\"baxis\":{\"gridcolor\":\"white\",\"linecolor\":\"white\",\"ticks\":\"\"},\"caxis\":{\"gridcolor\":\"white\",\"linecolor\":\"white\",\"ticks\":\"\"}},\"coloraxis\":{\"colorbar\":{\"outlinewidth\":0,\"ticks\":\"\"}},\"colorscale\":{\"sequential\":[[0.0,\"#0d0887\"],[0.1111111111111111,\"#46039f\"],[0.2222222222222222,\"#7201a8\"],[0.3333333333333333,\"#9c179e\"],[0.4444444444444444,\"#bd3786\"],[0.5555555555555556,\"#d8576b\"],[0.6666666666666666,\"#ed7953\"],[0.7777777777777778,\"#fb9f3a\"],[0.8888888888888888,\"#fdca26\"],[1.0,\"#f0f921\"]],\"sequentialminus\":[[0.0,\"#0d0887\"],[0.1111111111111111,\"#46039f\"],[0.2222222222222222,\"#7201a8\"],[0.3333333333333333,\"#9c179e\"],[0.4444444444444444,\"#bd3786\"],[0.5555555555555556,\"#d8576b\"],[0.6666666666666666,\"#ed7953\"],[0.7777777777777778,\"#fb9f3a\"],[0.8888888888888888,\"#fdca26\"],[1.0,\"#f0f921\"]],\"diverging\":[[0,\"#8e0152\"],[0.1,\"#c51b7d\"],[0.2,\"#de77ae\"],[0.3,\"#f1b6da\"],[0.4,\"#fde0ef\"],[0.5,\"#f7f7f7\"],[0.6,\"#e6f5d0\"],[0.7,\"#b8e186\"],[0.8,\"#7fbc41\"],[0.9,\"#4d9221\"],[1,\"#276419\"]]},\"xaxis\":{\"gridcolor\":\"white\",\"linecolor\":\"white\",\"ticks\":\"\",\"title\":{\"standoff\":15},\"zerolinecolor\":\"white\",\"automargin\":true,\"zerolinewidth\":2},\"yaxis\":{\"gridcolor\":\"white\",\"linecolor\":\"white\",\"ticks\":\"\",\"title\":{\"standoff\":15},\"zerolinecolor\":\"white\",\"automargin\":true,\"zerolinewidth\":2},\"scene\":{\"xaxis\":{\"backgroundcolor\":\"#E5ECF6\",\"gridcolor\":\"white\",\"linecolor\":\"white\",\"showbackground\":true,\"ticks\":\"\",\"zerolinecolor\":\"white\",\"gridwidth\":2},\"yaxis\":{\"backgroundcolor\":\"#E5ECF6\",\"gridcolor\":\"white\",\"linecolor\":\"white\",\"showbackground\":true,\"ticks\":\"\",\"zerolinecolor\":\"white\",\"gridwidth\":2},\"zaxis\":{\"backgroundcolor\":\"#E5ECF6\",\"gridcolor\":\"white\",\"linecolor\":\"white\",\"showbackground\":true,\"ticks\":\"\",\"zerolinecolor\":\"white\",\"gridwidth\":2}},\"shapedefaults\":{\"line\":{\"color\":\"#2a3f5f\"}},\"annotationdefaults\":{\"arrowcolor\":\"#2a3f5f\",\"arrowhead\":0,\"arrowwidth\":1},\"geo\":{\"bgcolor\":\"white\",\"landcolor\":\"#E5ECF6\",\"subunitcolor\":\"white\",\"showland\":true,\"showlakes\":true,\"lakecolor\":\"white\"},\"title\":{\"x\":0.05},\"mapbox\":{\"style\":\"light\"}}},\"title\":{\"text\":\"Distribution of articles category-wise\",\"y\":0.9,\"x\":0.5,\"xanchor\":\"center\",\"yanchor\":\"top\"},\"xaxis\":{\"title\":{\"text\":\"Category name\"}},\"yaxis\":{\"title\":{\"text\":\"Number of articles\"}},\"width\":800,\"height\":700},                        {\"responsive\": true}                    ).then(function(){\n",
       "                            \n",
       "var gd = document.getElementById('2d3b4a0d-8ee3-4eda-b9f7-487f72b0f4ed');\n",
       "var x = new MutationObserver(function (mutations, observer) {{\n",
       "        var display = window.getComputedStyle(gd).display;\n",
       "        if (!display || display === 'none') {{\n",
       "            console.log([gd, 'removed!']);\n",
       "            Plotly.purge(gd);\n",
       "            observer.disconnect();\n",
       "        }}\n",
       "}});\n",
       "\n",
       "// Listen for the removal of the full notebook cells\n",
       "var notebookContainer = gd.closest('#notebook-container');\n",
       "if (notebookContainer) {{\n",
       "    x.observe(notebookContainer, {childList: true});\n",
       "}}\n",
       "\n",
       "// Listen for the clearing of the current output cell\n",
       "var outputEl = gd.closest('.output');\n",
       "if (outputEl) {{\n",
       "    x.observe(outputEl, {childList: true});\n",
       "}}\n",
       "\n",
       "                        })                };                });            </script>        </div>"
      ]
     },
     "metadata": {},
     "output_type": "display_data"
    }
   ],
   "source": [
    "fig = plotly.Figure([plotly.Bar(x = news_dataset[\"category\"].value_counts().index, y = news_dataset[\"category\"].value_counts().values)])\n",
    "fig['layout'].update(title={\"text\" : 'Distribution of articles category-wise','y':0.9,'x':0.5,'xanchor': 'center','yanchor': 'top'}, xaxis_title=\"Category name\", yaxis_title=\"Number of articles\")\n",
    "fig.update_layout(width=800,height=700)\n",
    "fig"
   ]
  },
  {
   "cell_type": "markdown",
   "id": "29c3da1d",
   "metadata": {},
   "source": [
    "From the bar chart, we can observe that **politics** category has **highest** number of articles then **entertainment** and so on."
   ]
  },
  {
   "cell_type": "markdown",
   "id": "4d64c028",
   "metadata": {},
   "source": [
    "### c: number of articles per month:"
   ]
  },
  {
   "cell_type": "markdown",
   "id": "469bc24f",
   "metadata": {},
   "source": [
    "Let's first group the data on monthly basis using **resample()** function."
   ]
  },
  {
   "cell_type": "code",
   "execution_count": 13,
   "id": "e7060b2d",
   "metadata": {},
   "outputs": [
    {
     "data": {
      "text/plain": [
       "date\n",
       "2017-01-31    2747\n",
       "2017-02-28    2474\n",
       "2017-03-31    2580\n",
       "2017-04-30    2468\n",
       "2017-05-31    2588\n",
       "Freq: M, Name: headline, dtype: int64"
      ]
     },
     "execution_count": 13,
     "metadata": {},
     "output_type": "execute_result"
    }
   ],
   "source": [
    "news_articles_per_month = news_dataset.resample('m',on = 'date')['headline'].count()\n",
    "news_articles_per_month.head()"
   ]
  },
  {
   "cell_type": "code",
   "execution_count": 14,
   "id": "0c5c7f75",
   "metadata": {},
   "outputs": [
    {
     "data": {
      "application/vnd.plotly.v1+json": {
       "config": {
        "plotlyServerURL": "https://plot.ly"
       },
       "data": [
        {
         "type": "bar",
         "x": [
          "Jan",
          "Feb",
          "Mar",
          "Apr",
          "May",
          "Jun",
          "Jul",
          "Aug",
          "Sep",
          "Oct",
          "Nov",
          "Dec",
          "Jan",
          "Feb",
          "Mar",
          "Apr",
          "May"
         ],
         "y": [
          2747,
          2474,
          2580,
          2468,
          2588,
          2480,
          2332,
          2440,
          2176,
          2258,
          2120,
          1952,
          2072,
          1697,
          1788,
          1590,
          1383
         ]
        }
       ],
       "layout": {
        "height": 500,
        "template": {
         "data": {
          "bar": [
           {
            "error_x": {
             "color": "#2a3f5f"
            },
            "error_y": {
             "color": "#2a3f5f"
            },
            "marker": {
             "line": {
              "color": "#E5ECF6",
              "width": 0.5
             },
             "pattern": {
              "fillmode": "overlay",
              "size": 10,
              "solidity": 0.2
             }
            },
            "type": "bar"
           }
          ],
          "barpolar": [
           {
            "marker": {
             "line": {
              "color": "#E5ECF6",
              "width": 0.5
             },
             "pattern": {
              "fillmode": "overlay",
              "size": 10,
              "solidity": 0.2
             }
            },
            "type": "barpolar"
           }
          ],
          "carpet": [
           {
            "aaxis": {
             "endlinecolor": "#2a3f5f",
             "gridcolor": "white",
             "linecolor": "white",
             "minorgridcolor": "white",
             "startlinecolor": "#2a3f5f"
            },
            "baxis": {
             "endlinecolor": "#2a3f5f",
             "gridcolor": "white",
             "linecolor": "white",
             "minorgridcolor": "white",
             "startlinecolor": "#2a3f5f"
            },
            "type": "carpet"
           }
          ],
          "choropleth": [
           {
            "colorbar": {
             "outlinewidth": 0,
             "ticks": ""
            },
            "type": "choropleth"
           }
          ],
          "contour": [
           {
            "colorbar": {
             "outlinewidth": 0,
             "ticks": ""
            },
            "colorscale": [
             [
              0,
              "#0d0887"
             ],
             [
              0.1111111111111111,
              "#46039f"
             ],
             [
              0.2222222222222222,
              "#7201a8"
             ],
             [
              0.3333333333333333,
              "#9c179e"
             ],
             [
              0.4444444444444444,
              "#bd3786"
             ],
             [
              0.5555555555555556,
              "#d8576b"
             ],
             [
              0.6666666666666666,
              "#ed7953"
             ],
             [
              0.7777777777777778,
              "#fb9f3a"
             ],
             [
              0.8888888888888888,
              "#fdca26"
             ],
             [
              1,
              "#f0f921"
             ]
            ],
            "type": "contour"
           }
          ],
          "contourcarpet": [
           {
            "colorbar": {
             "outlinewidth": 0,
             "ticks": ""
            },
            "type": "contourcarpet"
           }
          ],
          "heatmap": [
           {
            "colorbar": {
             "outlinewidth": 0,
             "ticks": ""
            },
            "colorscale": [
             [
              0,
              "#0d0887"
             ],
             [
              0.1111111111111111,
              "#46039f"
             ],
             [
              0.2222222222222222,
              "#7201a8"
             ],
             [
              0.3333333333333333,
              "#9c179e"
             ],
             [
              0.4444444444444444,
              "#bd3786"
             ],
             [
              0.5555555555555556,
              "#d8576b"
             ],
             [
              0.6666666666666666,
              "#ed7953"
             ],
             [
              0.7777777777777778,
              "#fb9f3a"
             ],
             [
              0.8888888888888888,
              "#fdca26"
             ],
             [
              1,
              "#f0f921"
             ]
            ],
            "type": "heatmap"
           }
          ],
          "heatmapgl": [
           {
            "colorbar": {
             "outlinewidth": 0,
             "ticks": ""
            },
            "colorscale": [
             [
              0,
              "#0d0887"
             ],
             [
              0.1111111111111111,
              "#46039f"
             ],
             [
              0.2222222222222222,
              "#7201a8"
             ],
             [
              0.3333333333333333,
              "#9c179e"
             ],
             [
              0.4444444444444444,
              "#bd3786"
             ],
             [
              0.5555555555555556,
              "#d8576b"
             ],
             [
              0.6666666666666666,
              "#ed7953"
             ],
             [
              0.7777777777777778,
              "#fb9f3a"
             ],
             [
              0.8888888888888888,
              "#fdca26"
             ],
             [
              1,
              "#f0f921"
             ]
            ],
            "type": "heatmapgl"
           }
          ],
          "histogram": [
           {
            "marker": {
             "pattern": {
              "fillmode": "overlay",
              "size": 10,
              "solidity": 0.2
             }
            },
            "type": "histogram"
           }
          ],
          "histogram2d": [
           {
            "colorbar": {
             "outlinewidth": 0,
             "ticks": ""
            },
            "colorscale": [
             [
              0,
              "#0d0887"
             ],
             [
              0.1111111111111111,
              "#46039f"
             ],
             [
              0.2222222222222222,
              "#7201a8"
             ],
             [
              0.3333333333333333,
              "#9c179e"
             ],
             [
              0.4444444444444444,
              "#bd3786"
             ],
             [
              0.5555555555555556,
              "#d8576b"
             ],
             [
              0.6666666666666666,
              "#ed7953"
             ],
             [
              0.7777777777777778,
              "#fb9f3a"
             ],
             [
              0.8888888888888888,
              "#fdca26"
             ],
             [
              1,
              "#f0f921"
             ]
            ],
            "type": "histogram2d"
           }
          ],
          "histogram2dcontour": [
           {
            "colorbar": {
             "outlinewidth": 0,
             "ticks": ""
            },
            "colorscale": [
             [
              0,
              "#0d0887"
             ],
             [
              0.1111111111111111,
              "#46039f"
             ],
             [
              0.2222222222222222,
              "#7201a8"
             ],
             [
              0.3333333333333333,
              "#9c179e"
             ],
             [
              0.4444444444444444,
              "#bd3786"
             ],
             [
              0.5555555555555556,
              "#d8576b"
             ],
             [
              0.6666666666666666,
              "#ed7953"
             ],
             [
              0.7777777777777778,
              "#fb9f3a"
             ],
             [
              0.8888888888888888,
              "#fdca26"
             ],
             [
              1,
              "#f0f921"
             ]
            ],
            "type": "histogram2dcontour"
           }
          ],
          "mesh3d": [
           {
            "colorbar": {
             "outlinewidth": 0,
             "ticks": ""
            },
            "type": "mesh3d"
           }
          ],
          "parcoords": [
           {
            "line": {
             "colorbar": {
              "outlinewidth": 0,
              "ticks": ""
             }
            },
            "type": "parcoords"
           }
          ],
          "pie": [
           {
            "automargin": true,
            "type": "pie"
           }
          ],
          "scatter": [
           {
            "fillpattern": {
             "fillmode": "overlay",
             "size": 10,
             "solidity": 0.2
            },
            "type": "scatter"
           }
          ],
          "scatter3d": [
           {
            "line": {
             "colorbar": {
              "outlinewidth": 0,
              "ticks": ""
             }
            },
            "marker": {
             "colorbar": {
              "outlinewidth": 0,
              "ticks": ""
             }
            },
            "type": "scatter3d"
           }
          ],
          "scattercarpet": [
           {
            "marker": {
             "colorbar": {
              "outlinewidth": 0,
              "ticks": ""
             }
            },
            "type": "scattercarpet"
           }
          ],
          "scattergeo": [
           {
            "marker": {
             "colorbar": {
              "outlinewidth": 0,
              "ticks": ""
             }
            },
            "type": "scattergeo"
           }
          ],
          "scattergl": [
           {
            "marker": {
             "colorbar": {
              "outlinewidth": 0,
              "ticks": ""
             }
            },
            "type": "scattergl"
           }
          ],
          "scattermapbox": [
           {
            "marker": {
             "colorbar": {
              "outlinewidth": 0,
              "ticks": ""
             }
            },
            "type": "scattermapbox"
           }
          ],
          "scatterpolar": [
           {
            "marker": {
             "colorbar": {
              "outlinewidth": 0,
              "ticks": ""
             }
            },
            "type": "scatterpolar"
           }
          ],
          "scatterpolargl": [
           {
            "marker": {
             "colorbar": {
              "outlinewidth": 0,
              "ticks": ""
             }
            },
            "type": "scatterpolargl"
           }
          ],
          "scatterternary": [
           {
            "marker": {
             "colorbar": {
              "outlinewidth": 0,
              "ticks": ""
             }
            },
            "type": "scatterternary"
           }
          ],
          "surface": [
           {
            "colorbar": {
             "outlinewidth": 0,
             "ticks": ""
            },
            "colorscale": [
             [
              0,
              "#0d0887"
             ],
             [
              0.1111111111111111,
              "#46039f"
             ],
             [
              0.2222222222222222,
              "#7201a8"
             ],
             [
              0.3333333333333333,
              "#9c179e"
             ],
             [
              0.4444444444444444,
              "#bd3786"
             ],
             [
              0.5555555555555556,
              "#d8576b"
             ],
             [
              0.6666666666666666,
              "#ed7953"
             ],
             [
              0.7777777777777778,
              "#fb9f3a"
             ],
             [
              0.8888888888888888,
              "#fdca26"
             ],
             [
              1,
              "#f0f921"
             ]
            ],
            "type": "surface"
           }
          ],
          "table": [
           {
            "cells": {
             "fill": {
              "color": "#EBF0F8"
             },
             "line": {
              "color": "white"
             }
            },
            "header": {
             "fill": {
              "color": "#C8D4E3"
             },
             "line": {
              "color": "white"
             }
            },
            "type": "table"
           }
          ]
         },
         "layout": {
          "annotationdefaults": {
           "arrowcolor": "#2a3f5f",
           "arrowhead": 0,
           "arrowwidth": 1
          },
          "autotypenumbers": "strict",
          "coloraxis": {
           "colorbar": {
            "outlinewidth": 0,
            "ticks": ""
           }
          },
          "colorscale": {
           "diverging": [
            [
             0,
             "#8e0152"
            ],
            [
             0.1,
             "#c51b7d"
            ],
            [
             0.2,
             "#de77ae"
            ],
            [
             0.3,
             "#f1b6da"
            ],
            [
             0.4,
             "#fde0ef"
            ],
            [
             0.5,
             "#f7f7f7"
            ],
            [
             0.6,
             "#e6f5d0"
            ],
            [
             0.7,
             "#b8e186"
            ],
            [
             0.8,
             "#7fbc41"
            ],
            [
             0.9,
             "#4d9221"
            ],
            [
             1,
             "#276419"
            ]
           ],
           "sequential": [
            [
             0,
             "#0d0887"
            ],
            [
             0.1111111111111111,
             "#46039f"
            ],
            [
             0.2222222222222222,
             "#7201a8"
            ],
            [
             0.3333333333333333,
             "#9c179e"
            ],
            [
             0.4444444444444444,
             "#bd3786"
            ],
            [
             0.5555555555555556,
             "#d8576b"
            ],
            [
             0.6666666666666666,
             "#ed7953"
            ],
            [
             0.7777777777777778,
             "#fb9f3a"
            ],
            [
             0.8888888888888888,
             "#fdca26"
            ],
            [
             1,
             "#f0f921"
            ]
           ],
           "sequentialminus": [
            [
             0,
             "#0d0887"
            ],
            [
             0.1111111111111111,
             "#46039f"
            ],
            [
             0.2222222222222222,
             "#7201a8"
            ],
            [
             0.3333333333333333,
             "#9c179e"
            ],
            [
             0.4444444444444444,
             "#bd3786"
            ],
            [
             0.5555555555555556,
             "#d8576b"
            ],
            [
             0.6666666666666666,
             "#ed7953"
            ],
            [
             0.7777777777777778,
             "#fb9f3a"
            ],
            [
             0.8888888888888888,
             "#fdca26"
            ],
            [
             1,
             "#f0f921"
            ]
           ]
          },
          "colorway": [
           "#636efa",
           "#EF553B",
           "#00cc96",
           "#ab63fa",
           "#FFA15A",
           "#19d3f3",
           "#FF6692",
           "#B6E880",
           "#FF97FF",
           "#FECB52"
          ],
          "font": {
           "color": "#2a3f5f"
          },
          "geo": {
           "bgcolor": "white",
           "lakecolor": "white",
           "landcolor": "#E5ECF6",
           "showlakes": true,
           "showland": true,
           "subunitcolor": "white"
          },
          "hoverlabel": {
           "align": "left"
          },
          "hovermode": "closest",
          "mapbox": {
           "style": "light"
          },
          "paper_bgcolor": "white",
          "plot_bgcolor": "#E5ECF6",
          "polar": {
           "angularaxis": {
            "gridcolor": "white",
            "linecolor": "white",
            "ticks": ""
           },
           "bgcolor": "#E5ECF6",
           "radialaxis": {
            "gridcolor": "white",
            "linecolor": "white",
            "ticks": ""
           }
          },
          "scene": {
           "xaxis": {
            "backgroundcolor": "#E5ECF6",
            "gridcolor": "white",
            "gridwidth": 2,
            "linecolor": "white",
            "showbackground": true,
            "ticks": "",
            "zerolinecolor": "white"
           },
           "yaxis": {
            "backgroundcolor": "#E5ECF6",
            "gridcolor": "white",
            "gridwidth": 2,
            "linecolor": "white",
            "showbackground": true,
            "ticks": "",
            "zerolinecolor": "white"
           },
           "zaxis": {
            "backgroundcolor": "#E5ECF6",
            "gridcolor": "white",
            "gridwidth": 2,
            "linecolor": "white",
            "showbackground": true,
            "ticks": "",
            "zerolinecolor": "white"
           }
          },
          "shapedefaults": {
           "line": {
            "color": "#2a3f5f"
           }
          },
          "ternary": {
           "aaxis": {
            "gridcolor": "white",
            "linecolor": "white",
            "ticks": ""
           },
           "baxis": {
            "gridcolor": "white",
            "linecolor": "white",
            "ticks": ""
           },
           "bgcolor": "#E5ECF6",
           "caxis": {
            "gridcolor": "white",
            "linecolor": "white",
            "ticks": ""
           }
          },
          "title": {
           "x": 0.05
          },
          "xaxis": {
           "automargin": true,
           "gridcolor": "white",
           "linecolor": "white",
           "ticks": "",
           "title": {
            "standoff": 15
           },
           "zerolinecolor": "white",
           "zerolinewidth": 2
          },
          "yaxis": {
           "automargin": true,
           "gridcolor": "white",
           "linecolor": "white",
           "ticks": "",
           "title": {
            "standoff": 15
           },
           "zerolinecolor": "white",
           "zerolinewidth": 2
          }
         }
        },
        "title": {
         "text": "Distribution of articles month-wise",
         "x": 0.5,
         "xanchor": "center",
         "y": 0.9,
         "yanchor": "top"
        },
        "width": 500,
        "xaxis": {
         "title": {
          "text": "Month"
         }
        },
        "yaxis": {
         "title": {
          "text": "Number of articles"
         }
        }
       }
      },
      "text/html": [
       "<div>                            <div id=\"574e1260-7e2d-4589-b227-585796d67cb4\" class=\"plotly-graph-div\" style=\"height:500px; width:500px;\"></div>            <script type=\"text/javascript\">                require([\"plotly\"], function(Plotly) {                    window.PLOTLYENV=window.PLOTLYENV || {};                                    if (document.getElementById(\"574e1260-7e2d-4589-b227-585796d67cb4\")) {                    Plotly.newPlot(                        \"574e1260-7e2d-4589-b227-585796d67cb4\",                        [{\"x\":[\"Jan\",\"Feb\",\"Mar\",\"Apr\",\"May\",\"Jun\",\"Jul\",\"Aug\",\"Sep\",\"Oct\",\"Nov\",\"Dec\",\"Jan\",\"Feb\",\"Mar\",\"Apr\",\"May\"],\"y\":[2747,2474,2580,2468,2588,2480,2332,2440,2176,2258,2120,1952,2072,1697,1788,1590,1383],\"type\":\"bar\"}],                        {\"template\":{\"data\":{\"histogram2dcontour\":[{\"type\":\"histogram2dcontour\",\"colorbar\":{\"outlinewidth\":0,\"ticks\":\"\"},\"colorscale\":[[0.0,\"#0d0887\"],[0.1111111111111111,\"#46039f\"],[0.2222222222222222,\"#7201a8\"],[0.3333333333333333,\"#9c179e\"],[0.4444444444444444,\"#bd3786\"],[0.5555555555555556,\"#d8576b\"],[0.6666666666666666,\"#ed7953\"],[0.7777777777777778,\"#fb9f3a\"],[0.8888888888888888,\"#fdca26\"],[1.0,\"#f0f921\"]]}],\"choropleth\":[{\"type\":\"choropleth\",\"colorbar\":{\"outlinewidth\":0,\"ticks\":\"\"}}],\"histogram2d\":[{\"type\":\"histogram2d\",\"colorbar\":{\"outlinewidth\":0,\"ticks\":\"\"},\"colorscale\":[[0.0,\"#0d0887\"],[0.1111111111111111,\"#46039f\"],[0.2222222222222222,\"#7201a8\"],[0.3333333333333333,\"#9c179e\"],[0.4444444444444444,\"#bd3786\"],[0.5555555555555556,\"#d8576b\"],[0.6666666666666666,\"#ed7953\"],[0.7777777777777778,\"#fb9f3a\"],[0.8888888888888888,\"#fdca26\"],[1.0,\"#f0f921\"]]}],\"heatmap\":[{\"type\":\"heatmap\",\"colorbar\":{\"outlinewidth\":0,\"ticks\":\"\"},\"colorscale\":[[0.0,\"#0d0887\"],[0.1111111111111111,\"#46039f\"],[0.2222222222222222,\"#7201a8\"],[0.3333333333333333,\"#9c179e\"],[0.4444444444444444,\"#bd3786\"],[0.5555555555555556,\"#d8576b\"],[0.6666666666666666,\"#ed7953\"],[0.7777777777777778,\"#fb9f3a\"],[0.8888888888888888,\"#fdca26\"],[1.0,\"#f0f921\"]]}],\"heatmapgl\":[{\"type\":\"heatmapgl\",\"colorbar\":{\"outlinewidth\":0,\"ticks\":\"\"},\"colorscale\":[[0.0,\"#0d0887\"],[0.1111111111111111,\"#46039f\"],[0.2222222222222222,\"#7201a8\"],[0.3333333333333333,\"#9c179e\"],[0.4444444444444444,\"#bd3786\"],[0.5555555555555556,\"#d8576b\"],[0.6666666666666666,\"#ed7953\"],[0.7777777777777778,\"#fb9f3a\"],[0.8888888888888888,\"#fdca26\"],[1.0,\"#f0f921\"]]}],\"contourcarpet\":[{\"type\":\"contourcarpet\",\"colorbar\":{\"outlinewidth\":0,\"ticks\":\"\"}}],\"contour\":[{\"type\":\"contour\",\"colorbar\":{\"outlinewidth\":0,\"ticks\":\"\"},\"colorscale\":[[0.0,\"#0d0887\"],[0.1111111111111111,\"#46039f\"],[0.2222222222222222,\"#7201a8\"],[0.3333333333333333,\"#9c179e\"],[0.4444444444444444,\"#bd3786\"],[0.5555555555555556,\"#d8576b\"],[0.6666666666666666,\"#ed7953\"],[0.7777777777777778,\"#fb9f3a\"],[0.8888888888888888,\"#fdca26\"],[1.0,\"#f0f921\"]]}],\"surface\":[{\"type\":\"surface\",\"colorbar\":{\"outlinewidth\":0,\"ticks\":\"\"},\"colorscale\":[[0.0,\"#0d0887\"],[0.1111111111111111,\"#46039f\"],[0.2222222222222222,\"#7201a8\"],[0.3333333333333333,\"#9c179e\"],[0.4444444444444444,\"#bd3786\"],[0.5555555555555556,\"#d8576b\"],[0.6666666666666666,\"#ed7953\"],[0.7777777777777778,\"#fb9f3a\"],[0.8888888888888888,\"#fdca26\"],[1.0,\"#f0f921\"]]}],\"mesh3d\":[{\"type\":\"mesh3d\",\"colorbar\":{\"outlinewidth\":0,\"ticks\":\"\"}}],\"scatter\":[{\"fillpattern\":{\"fillmode\":\"overlay\",\"size\":10,\"solidity\":0.2},\"type\":\"scatter\"}],\"parcoords\":[{\"type\":\"parcoords\",\"line\":{\"colorbar\":{\"outlinewidth\":0,\"ticks\":\"\"}}}],\"scatterpolargl\":[{\"type\":\"scatterpolargl\",\"marker\":{\"colorbar\":{\"outlinewidth\":0,\"ticks\":\"\"}}}],\"bar\":[{\"error_x\":{\"color\":\"#2a3f5f\"},\"error_y\":{\"color\":\"#2a3f5f\"},\"marker\":{\"line\":{\"color\":\"#E5ECF6\",\"width\":0.5},\"pattern\":{\"fillmode\":\"overlay\",\"size\":10,\"solidity\":0.2}},\"type\":\"bar\"}],\"scattergeo\":[{\"type\":\"scattergeo\",\"marker\":{\"colorbar\":{\"outlinewidth\":0,\"ticks\":\"\"}}}],\"scatterpolar\":[{\"type\":\"scatterpolar\",\"marker\":{\"colorbar\":{\"outlinewidth\":0,\"ticks\":\"\"}}}],\"histogram\":[{\"marker\":{\"pattern\":{\"fillmode\":\"overlay\",\"size\":10,\"solidity\":0.2}},\"type\":\"histogram\"}],\"scattergl\":[{\"type\":\"scattergl\",\"marker\":{\"colorbar\":{\"outlinewidth\":0,\"ticks\":\"\"}}}],\"scatter3d\":[{\"type\":\"scatter3d\",\"line\":{\"colorbar\":{\"outlinewidth\":0,\"ticks\":\"\"}},\"marker\":{\"colorbar\":{\"outlinewidth\":0,\"ticks\":\"\"}}}],\"scattermapbox\":[{\"type\":\"scattermapbox\",\"marker\":{\"colorbar\":{\"outlinewidth\":0,\"ticks\":\"\"}}}],\"scatterternary\":[{\"type\":\"scatterternary\",\"marker\":{\"colorbar\":{\"outlinewidth\":0,\"ticks\":\"\"}}}],\"scattercarpet\":[{\"type\":\"scattercarpet\",\"marker\":{\"colorbar\":{\"outlinewidth\":0,\"ticks\":\"\"}}}],\"carpet\":[{\"aaxis\":{\"endlinecolor\":\"#2a3f5f\",\"gridcolor\":\"white\",\"linecolor\":\"white\",\"minorgridcolor\":\"white\",\"startlinecolor\":\"#2a3f5f\"},\"baxis\":{\"endlinecolor\":\"#2a3f5f\",\"gridcolor\":\"white\",\"linecolor\":\"white\",\"minorgridcolor\":\"white\",\"startlinecolor\":\"#2a3f5f\"},\"type\":\"carpet\"}],\"table\":[{\"cells\":{\"fill\":{\"color\":\"#EBF0F8\"},\"line\":{\"color\":\"white\"}},\"header\":{\"fill\":{\"color\":\"#C8D4E3\"},\"line\":{\"color\":\"white\"}},\"type\":\"table\"}],\"barpolar\":[{\"marker\":{\"line\":{\"color\":\"#E5ECF6\",\"width\":0.5},\"pattern\":{\"fillmode\":\"overlay\",\"size\":10,\"solidity\":0.2}},\"type\":\"barpolar\"}],\"pie\":[{\"automargin\":true,\"type\":\"pie\"}]},\"layout\":{\"autotypenumbers\":\"strict\",\"colorway\":[\"#636efa\",\"#EF553B\",\"#00cc96\",\"#ab63fa\",\"#FFA15A\",\"#19d3f3\",\"#FF6692\",\"#B6E880\",\"#FF97FF\",\"#FECB52\"],\"font\":{\"color\":\"#2a3f5f\"},\"hovermode\":\"closest\",\"hoverlabel\":{\"align\":\"left\"},\"paper_bgcolor\":\"white\",\"plot_bgcolor\":\"#E5ECF6\",\"polar\":{\"bgcolor\":\"#E5ECF6\",\"angularaxis\":{\"gridcolor\":\"white\",\"linecolor\":\"white\",\"ticks\":\"\"},\"radialaxis\":{\"gridcolor\":\"white\",\"linecolor\":\"white\",\"ticks\":\"\"}},\"ternary\":{\"bgcolor\":\"#E5ECF6\",\"aaxis\":{\"gridcolor\":\"white\",\"linecolor\":\"white\",\"ticks\":\"\"},\"baxis\":{\"gridcolor\":\"white\",\"linecolor\":\"white\",\"ticks\":\"\"},\"caxis\":{\"gridcolor\":\"white\",\"linecolor\":\"white\",\"ticks\":\"\"}},\"coloraxis\":{\"colorbar\":{\"outlinewidth\":0,\"ticks\":\"\"}},\"colorscale\":{\"sequential\":[[0.0,\"#0d0887\"],[0.1111111111111111,\"#46039f\"],[0.2222222222222222,\"#7201a8\"],[0.3333333333333333,\"#9c179e\"],[0.4444444444444444,\"#bd3786\"],[0.5555555555555556,\"#d8576b\"],[0.6666666666666666,\"#ed7953\"],[0.7777777777777778,\"#fb9f3a\"],[0.8888888888888888,\"#fdca26\"],[1.0,\"#f0f921\"]],\"sequentialminus\":[[0.0,\"#0d0887\"],[0.1111111111111111,\"#46039f\"],[0.2222222222222222,\"#7201a8\"],[0.3333333333333333,\"#9c179e\"],[0.4444444444444444,\"#bd3786\"],[0.5555555555555556,\"#d8576b\"],[0.6666666666666666,\"#ed7953\"],[0.7777777777777778,\"#fb9f3a\"],[0.8888888888888888,\"#fdca26\"],[1.0,\"#f0f921\"]],\"diverging\":[[0,\"#8e0152\"],[0.1,\"#c51b7d\"],[0.2,\"#de77ae\"],[0.3,\"#f1b6da\"],[0.4,\"#fde0ef\"],[0.5,\"#f7f7f7\"],[0.6,\"#e6f5d0\"],[0.7,\"#b8e186\"],[0.8,\"#7fbc41\"],[0.9,\"#4d9221\"],[1,\"#276419\"]]},\"xaxis\":{\"gridcolor\":\"white\",\"linecolor\":\"white\",\"ticks\":\"\",\"title\":{\"standoff\":15},\"zerolinecolor\":\"white\",\"automargin\":true,\"zerolinewidth\":2},\"yaxis\":{\"gridcolor\":\"white\",\"linecolor\":\"white\",\"ticks\":\"\",\"title\":{\"standoff\":15},\"zerolinecolor\":\"white\",\"automargin\":true,\"zerolinewidth\":2},\"scene\":{\"xaxis\":{\"backgroundcolor\":\"#E5ECF6\",\"gridcolor\":\"white\",\"linecolor\":\"white\",\"showbackground\":true,\"ticks\":\"\",\"zerolinecolor\":\"white\",\"gridwidth\":2},\"yaxis\":{\"backgroundcolor\":\"#E5ECF6\",\"gridcolor\":\"white\",\"linecolor\":\"white\",\"showbackground\":true,\"ticks\":\"\",\"zerolinecolor\":\"white\",\"gridwidth\":2},\"zaxis\":{\"backgroundcolor\":\"#E5ECF6\",\"gridcolor\":\"white\",\"linecolor\":\"white\",\"showbackground\":true,\"ticks\":\"\",\"zerolinecolor\":\"white\",\"gridwidth\":2}},\"shapedefaults\":{\"line\":{\"color\":\"#2a3f5f\"}},\"annotationdefaults\":{\"arrowcolor\":\"#2a3f5f\",\"arrowhead\":0,\"arrowwidth\":1},\"geo\":{\"bgcolor\":\"white\",\"landcolor\":\"#E5ECF6\",\"subunitcolor\":\"white\",\"showland\":true,\"showlakes\":true,\"lakecolor\":\"white\"},\"title\":{\"x\":0.05},\"mapbox\":{\"style\":\"light\"}}},\"title\":{\"text\":\"Distribution of articles month-wise\",\"y\":0.9,\"x\":0.5,\"xanchor\":\"center\",\"yanchor\":\"top\"},\"xaxis\":{\"title\":{\"text\":\"Month\"}},\"yaxis\":{\"title\":{\"text\":\"Number of articles\"}},\"width\":500,\"height\":500},                        {\"responsive\": true}                    ).then(function(){\n",
       "                            \n",
       "var gd = document.getElementById('574e1260-7e2d-4589-b227-585796d67cb4');\n",
       "var x = new MutationObserver(function (mutations, observer) {{\n",
       "        var display = window.getComputedStyle(gd).display;\n",
       "        if (!display || display === 'none') {{\n",
       "            console.log([gd, 'removed!']);\n",
       "            Plotly.purge(gd);\n",
       "            observer.disconnect();\n",
       "        }}\n",
       "}});\n",
       "\n",
       "// Listen for the removal of the full notebook cells\n",
       "var notebookContainer = gd.closest('#notebook-container');\n",
       "if (notebookContainer) {{\n",
       "    x.observe(notebookContainer, {childList: true});\n",
       "}}\n",
       "\n",
       "// Listen for the clearing of the current output cell\n",
       "var outputEl = gd.closest('.output');\n",
       "if (outputEl) {{\n",
       "    x.observe(outputEl, {childList: true});\n",
       "}}\n",
       "\n",
       "                        })                };                });            </script>        </div>"
      ]
     },
     "metadata": {},
     "output_type": "display_data"
    }
   ],
   "source": [
    "fig = plotly.Figure([plotly.Bar(x=news_articles_per_month.index.strftime(\"%b\"), y=news_articles_per_month)])\n",
    "fig['layout'].update(title={\"text\" : 'Distribution of articles month-wise','y':0.9,'x':0.5,'xanchor': 'center','yanchor': 'top'}, xaxis_title=\"Month\",yaxis_title=\"Number of articles\")\n",
    "fig.update_layout(width=500,height=500)\n",
    "fig"
   ]
  },
  {
   "cell_type": "markdown",
   "id": "c156d5fb",
   "metadata": {},
   "source": [
    "From the bar chart, we can observe that **January** month has **highest** number of articles then **March** and so on.  "
   ]
  },
  {
   "cell_type": "markdown",
   "id": "ec21d933",
   "metadata": {},
   "source": [
    "### d: number of articles each year:"
   ]
  },
  {
   "cell_type": "code",
   "execution_count": 127,
   "id": "a05fd247",
   "metadata": {},
   "outputs": [
    {
     "data": {
      "image/png": "[encoded data removed]",
      "text/plain": [
       "<Figure size 640x480 with 1 Axes>"
      ]
     },
     "metadata": {},
     "output_type": "display_data"
    }
   ],
   "source": [
    "#Lets visualize the number of articles each year\n",
    "news_dataset['years'] = news_dataset[\"date\"].dt.year\n",
    "year_count = news_dataset.groupby('years').size()\n",
    "\n",
    "# plot the year count as a bar graph\n",
    "plt.bar(year_count.index, year_count.values)\n",
    "plt.xlabel('Year')\n",
    "plt.ylabel('Number of Rows')\n",
    "plt.title('Distribution of News Articles Year-wise')\n",
    "plt.show()"
   ]
  },
  {
   "cell_type": "markdown",
   "id": "4ba570ac",
   "metadata": {},
   "source": [
    "###### Since after text preprocessing the original headlines will be modified and it doesn't make sense to recommend articles by displaying modified headlines so let's copy the dataset into some other dataset and perform text preprocessing on the later:"
   ]
  },
  {
   "cell_type": "code",
   "execution_count": 103,
   "id": "5bf51ae1",
   "metadata": {},
   "outputs": [],
   "source": [
    "tmp_news_articles = news_dataset.copy()"
   ]
  },
  {
   "cell_type": "markdown",
   "id": "a652224a",
   "metadata": {},
   "source": [
    "<br> \n",
    "\n",
    "## 5. Text-Preprocessing "
   ]
  },
  {
   "cell_type": "markdown",
   "id": "e63ebaea",
   "metadata": {},
   "source": [
    "### a: remove stopwords:"
   ]
  },
  {
   "cell_type": "markdown",
   "id": "9221cf5e",
   "metadata": {},
   "source": [
    "Stop words are not much helpful in analyis and also their inclusion consumes much time during processing so let's remove these."
   ]
  },
  {
   "cell_type": "code",
   "execution_count": 128,
   "id": "8480b4cb",
   "metadata": {},
   "outputs": [],
   "source": [
    "#install nltk\n",
    "#nltk.download('stopwords')\n",
    "#nltk.download('punkt')\n",
    "#nltk.download('wordnet')\n",
    "#nltk.download('omw-1.4')\n",
    "\n",
    "# Below libraries are for text processing using NLTK\n",
    "import nltk\n",
    "from nltk.corpus import stopwords\n",
    "from nltk.tokenize import word_tokenize\n",
    "from nltk.stem import WordNetLemmatizer"
   ]
  },
  {
   "cell_type": "markdown",
   "id": "377e22a1",
   "metadata": {},
   "source": [
    "* Tokenizing the text in headline category:"
   ]
  },
  {
   "cell_type": "code",
   "execution_count": 105,
   "id": "eb1e9953",
   "metadata": {},
   "outputs": [],
   "source": [
    "news_dataset['headline'] = news_dataset['headline'].apply(nltk.word_tokenize)"
   ]
  },
  {
   "cell_type": "markdown",
   "id": "0f7182e8",
   "metadata": {},
   "source": [
    "* Removing stopwords:"
   ]
  },
  {
   "cell_type": "code",
   "execution_count": 20,
   "id": "79310801",
   "metadata": {},
   "outputs": [
    {
     "data": {
      "text/plain": [
       "0    [2, Mass, Shootings, Texas, Last, Week, ,, 1, TV]\n",
       "1    [Smith, Joins, Diplo, Nicky, Jam, 2018, World,...\n",
       "2         [Hugh, Grant, Marries, First, Time, Age, 57]\n",
       "3    [Jim, Carrey, Blasts, 'Castrato, ', Adam, Schi...\n",
       "4    [Julianna, Margulies, Uses, Donald, Trump, Poo...\n",
       "5    [Morgan, Freeman, 'Devastated, ', Sexual, Hara...\n",
       "6    [Donald, Trump, Lovin, ', New, McDonald, 's, J...\n",
       "7                 [Watch, Amazon, Prime, ’, New, Week]\n",
       "8    [Mike, Myers, Reveals, 'd, 'Like, ', Fourth, A...\n",
       "9                          [Watch, Hulu, ’, New, Week]\n",
       "Name: headline, dtype: object"
      ]
     },
     "execution_count": 20,
     "metadata": {},
     "output_type": "execute_result"
    }
   ],
   "source": [
    "stop_words = set(stopwords.words('english'))\n",
    "news_dataset['headline'] = news_dataset['headline'].apply(lambda x: [word for word in x if word.lower() not in stop_words])\n",
    "news_dataset['headline'].head(10)"
   ]
  },
  {
   "cell_type": "markdown",
   "id": "4eb90667",
   "metadata": {},
   "source": [
    "* Doing the same for short-description and **Tokenizing** the text in headline category:"
   ]
  },
  {
   "cell_type": "code",
   "execution_count": 21,
   "id": "87232739",
   "metadata": {},
   "outputs": [],
   "source": [
    "news_dataset['short_description'] = news_dataset['short_description'].apply(nltk.word_tokenize)"
   ]
  },
  {
   "cell_type": "markdown",
   "id": "7078b0a4",
   "metadata": {},
   "source": [
    "* Removing stopwords:"
   ]
  },
  {
   "cell_type": "code",
   "execution_count": 22,
   "id": "f71b4858",
   "metadata": {},
   "outputs": [
    {
     "data": {
      "text/plain": [
       "0    [left, husband, ., killed, children, ., anothe...\n",
       "1                                    [course, song, .]\n",
       "2    [actor, longtime, girlfriend, Anna, Eberstein,...\n",
       "3    [actor, gives, Dems, ass-kicking, fighting, ha...\n",
       "4    [``, Dietland, '', actress, said, using, bags,...\n",
       "5    [``, right, equate, horrific, incidents, sexua...\n",
       "6                            ['s, catchy, ,, right, .]\n",
       "7           ['s, great, mini-series, joining, week, .]\n",
       "8    [Myer, 's, kids, may, pushing, new, ``, Powers...\n",
       "9    ['re, getting, recent, Academy, Award-winning,...\n",
       "Name: short_description, dtype: object"
      ]
     },
     "execution_count": 22,
     "metadata": {},
     "output_type": "execute_result"
    }
   ],
   "source": [
    "news_dataset['short_description'] = news_dataset['short_description'].apply(lambda x: [word for word in x if word.lower() not in stop_words])\n",
    "news_dataset['short_description'].head(10)"
   ]
  },
  {
   "cell_type": "markdown",
   "id": "644f770e",
   "metadata": {},
   "source": [
    "### b. Lemmatization.\n",
    "* find the base form(lemma) of words to consider different inflections of a word same as lemma:"
   ]
  },
  {
   "cell_type": "code",
   "execution_count": 25,
   "id": "d731ed53",
   "metadata": {},
   "outputs": [
    {
     "data": {
      "text/plain": [
       "0    [left, husband, ., killed, child, ., another, ...\n",
       "1                                    [course, song, .]\n",
       "2    [actor, longtime, girlfriend, Anna, Eberstein,...\n",
       "3    [actor, give, Dems, ass-kicking, fighting, har...\n",
       "4    [``, Dietland, '', actress, said, using, bag, ...\n",
       "5    [``, right, equate, horrific, incident, sexual...\n",
       "6                            ['s, catchy, ,, right, .]\n",
       "7           ['s, great, mini-series, joining, week, .]\n",
       "8    [Myer, 's, kid, may, pushing, new, ``, Powers,...\n",
       "9    ['re, getting, recent, Academy, Award-winning,...\n",
       "Name: short_description, dtype: object"
      ]
     },
     "execution_count": 25,
     "metadata": {},
     "output_type": "execute_result"
    }
   ],
   "source": [
    "lemmatizer = WordNetLemmatizer()\n",
    "news_dataset['headline'] = news_dataset['headline'].apply(lambda x: [lemmatizer.lemmatize(word) for word in x])\n",
    "news_dataset['short_description'] = news_dataset['short_description'].apply(lambda x: [lemmatizer.lemmatize(word) for word in x])\n",
    "news_dataset['short_description'].head(10)"
   ]
  },
  {
   "cell_type": "markdown",
   "id": "8408bb67",
   "metadata": {},
   "source": [
    "### c. define a function to extract the website name from a URL:"
   ]
  },
  {
   "cell_type": "code",
   "execution_count": 26,
   "id": "ae05da8c",
   "metadata": {},
   "outputs": [],
   "source": [
    "from urllib.parse import urlparse\n",
    "\n",
    "def get_website_name(url):\n",
    "    parsed_url = urlparse(url)\n",
    "    return parsed_url.netloc.split(\".\")[1]"
   ]
  },
  {
   "cell_type": "markdown",
   "id": "707fa423",
   "metadata": {},
   "source": [
    "#### apply the function to each row in the \"link\" column:"
   ]
  },
  {
   "cell_type": "code",
   "execution_count": 27,
   "id": "5cf8d93b",
   "metadata": {},
   "outputs": [
    {
     "data": {
      "text/plain": [
       "0        huffingtonpost\n",
       "1        huffingtonpost\n",
       "2        huffingtonpost\n",
       "3        huffingtonpost\n",
       "4        huffingtonpost\n",
       "              ...      \n",
       "38467    huffingtonpost\n",
       "38468    huffingtonpost\n",
       "38469    huffingtonpost\n",
       "38470    huffingtonpost\n",
       "38471    huffingtonpost\n",
       "Name: Website_Name, Length: 37145, dtype: object"
      ]
     },
     "execution_count": 27,
     "metadata": {},
     "output_type": "execute_result"
    }
   ],
   "source": [
    "news_dataset[\"Website_Name\"] = news_dataset[\"link\"].apply(get_website_name)\n",
    "news_dataset[\"Website_Name\"]"
   ]
  },
  {
   "cell_type": "code",
   "execution_count": 28,
   "id": "bc05e690",
   "metadata": {},
   "outputs": [
    {
     "data": {
      "application/vnd.plotly.v1+json": {
       "config": {
        "plotlyServerURL": "https://plot.ly"
       },
       "data": [
        {
         "type": "bar",
         "x": [
          "huffingtonpost"
         ],
         "y": [
          37145
         ]
        }
       ],
       "layout": {
        "height": 700,
        "template": {
         "data": {
          "bar": [
           {
            "error_x": {
             "color": "#2a3f5f"
            },
            "error_y": {
             "color": "#2a3f5f"
            },
            "marker": {
             "line": {
              "color": "#E5ECF6",
              "width": 0.5
             },
             "pattern": {
              "fillmode": "overlay",
              "size": 10,
              "solidity": 0.2
             }
            },
            "type": "bar"
           }
          ],
          "barpolar": [
           {
            "marker": {
             "line": {
              "color": "#E5ECF6",
              "width": 0.5
             },
             "pattern": {
              "fillmode": "overlay",
              "size": 10,
              "solidity": 0.2
             }
            },
            "type": "barpolar"
           }
          ],
          "carpet": [
           {
            "aaxis": {
             "endlinecolor": "#2a3f5f",
             "gridcolor": "white",
             "linecolor": "white",
             "minorgridcolor": "white",
             "startlinecolor": "#2a3f5f"
            },
            "baxis": {
             "endlinecolor": "#2a3f5f",
             "gridcolor": "white",
             "linecolor": "white",
             "minorgridcolor": "white",
             "startlinecolor": "#2a3f5f"
            },
            "type": "carpet"
           }
          ],
          "choropleth": [
           {
            "colorbar": {
             "outlinewidth": 0,
             "ticks": ""
            },
            "type": "choropleth"
           }
          ],
          "contour": [
           {
            "colorbar": {
             "outlinewidth": 0,
             "ticks": ""
            },
            "colorscale": [
             [
              0,
              "#0d0887"
             ],
             [
              0.1111111111111111,
              "#46039f"
             ],
             [
              0.2222222222222222,
              "#7201a8"
             ],
             [
              0.3333333333333333,
              "#9c179e"
             ],
             [
              0.4444444444444444,
              "#bd3786"
             ],
             [
              0.5555555555555556,
              "#d8576b"
             ],
             [
              0.6666666666666666,
              "#ed7953"
             ],
             [
              0.7777777777777778,
              "#fb9f3a"
             ],
             [
              0.8888888888888888,
              "#fdca26"
             ],
             [
              1,
              "#f0f921"
             ]
            ],
            "type": "contour"
           }
          ],
          "contourcarpet": [
           {
            "colorbar": {
             "outlinewidth": 0,
             "ticks": ""
            },
            "type": "contourcarpet"
           }
          ],
          "heatmap": [
           {
            "colorbar": {
             "outlinewidth": 0,
             "ticks": ""
            },
            "colorscale": [
             [
              0,
              "#0d0887"
             ],
             [
              0.1111111111111111,
              "#46039f"
             ],
             [
              0.2222222222222222,
              "#7201a8"
             ],
             [
              0.3333333333333333,
              "#9c179e"
             ],
             [
              0.4444444444444444,
              "#bd3786"
             ],
             [
              0.5555555555555556,
              "#d8576b"
             ],
             [
              0.6666666666666666,
              "#ed7953"
             ],
             [
              0.7777777777777778,
              "#fb9f3a"
             ],
             [
              0.8888888888888888,
              "#fdca26"
             ],
             [
              1,
              "#f0f921"
             ]
            ],
            "type": "heatmap"
           }
          ],
          "heatmapgl": [
           {
            "colorbar": {
             "outlinewidth": 0,
             "ticks": ""
            },
            "colorscale": [
             [
              0,
              "#0d0887"
             ],
             [
              0.1111111111111111,
              "#46039f"
             ],
             [
              0.2222222222222222,
              "#7201a8"
             ],
             [
              0.3333333333333333,
              "#9c179e"
             ],
             [
              0.4444444444444444,
              "#bd3786"
             ],
             [
              0.5555555555555556,
              "#d8576b"
             ],
             [
              0.6666666666666666,
              "#ed7953"
             ],
             [
              0.7777777777777778,
              "#fb9f3a"
             ],
             [
              0.8888888888888888,
              "#fdca26"
             ],
             [
              1,
              "#f0f921"
             ]
            ],
            "type": "heatmapgl"
           }
          ],
          "histogram": [
           {
            "marker": {
             "pattern": {
              "fillmode": "overlay",
              "size": 10,
              "solidity": 0.2
             }
            },
            "type": "histogram"
           }
          ],
          "histogram2d": [
           {
            "colorbar": {
             "outlinewidth": 0,
             "ticks": ""
            },
            "colorscale": [
             [
              0,
              "#0d0887"
             ],
             [
              0.1111111111111111,
              "#46039f"
             ],
             [
              0.2222222222222222,
              "#7201a8"
             ],
             [
              0.3333333333333333,
              "#9c179e"
             ],
             [
              0.4444444444444444,
              "#bd3786"
             ],
             [
              0.5555555555555556,
              "#d8576b"
             ],
             [
              0.6666666666666666,
              "#ed7953"
             ],
             [
              0.7777777777777778,
              "#fb9f3a"
             ],
             [
              0.8888888888888888,
              "#fdca26"
             ],
             [
              1,
              "#f0f921"
             ]
            ],
            "type": "histogram2d"
           }
          ],
          "histogram2dcontour": [
           {
            "colorbar": {
             "outlinewidth": 0,
             "ticks": ""
            },
            "colorscale": [
             [
              0,
              "#0d0887"
             ],
             [
              0.1111111111111111,
              "#46039f"
             ],
             [
              0.2222222222222222,
              "#7201a8"
             ],
             [
              0.3333333333333333,
              "#9c179e"
             ],
             [
              0.4444444444444444,
              "#bd3786"
             ],
             [
              0.5555555555555556,
              "#d8576b"
             ],
             [
              0.6666666666666666,
              "#ed7953"
             ],
             [
              0.7777777777777778,
              "#fb9f3a"
             ],
             [
              0.8888888888888888,
              "#fdca26"
             ],
             [
              1,
              "#f0f921"
             ]
            ],
            "type": "histogram2dcontour"
           }
          ],
          "mesh3d": [
           {
            "colorbar": {
             "outlinewidth": 0,
             "ticks": ""
            },
            "type": "mesh3d"
           }
          ],
          "parcoords": [
           {
            "line": {
             "colorbar": {
              "outlinewidth": 0,
              "ticks": ""
             }
            },
            "type": "parcoords"
           }
          ],
          "pie": [
           {
            "automargin": true,
            "type": "pie"
           }
          ],
          "scatter": [
           {
            "fillpattern": {
             "fillmode": "overlay",
             "size": 10,
             "solidity": 0.2
            },
            "type": "scatter"
           }
          ],
          "scatter3d": [
           {
            "line": {
             "colorbar": {
              "outlinewidth": 0,
              "ticks": ""
             }
            },
            "marker": {
             "colorbar": {
              "outlinewidth": 0,
              "ticks": ""
             }
            },
            "type": "scatter3d"
           }
          ],
          "scattercarpet": [
           {
            "marker": {
             "colorbar": {
              "outlinewidth": 0,
              "ticks": ""
             }
            },
            "type": "scattercarpet"
           }
          ],
          "scattergeo": [
           {
            "marker": {
             "colorbar": {
              "outlinewidth": 0,
              "ticks": ""
             }
            },
            "type": "scattergeo"
           }
          ],
          "scattergl": [
           {
            "marker": {
             "colorbar": {
              "outlinewidth": 0,
              "ticks": ""
             }
            },
            "type": "scattergl"
           }
          ],
          "scattermapbox": [
           {
            "marker": {
             "colorbar": {
              "outlinewidth": 0,
              "ticks": ""
             }
            },
            "type": "scattermapbox"
           }
          ],
          "scatterpolar": [
           {
            "marker": {
             "colorbar": {
              "outlinewidth": 0,
              "ticks": ""
             }
            },
            "type": "scatterpolar"
           }
          ],
          "scatterpolargl": [
           {
            "marker": {
             "colorbar": {
              "outlinewidth": 0,
              "ticks": ""
             }
            },
            "type": "scatterpolargl"
           }
          ],
          "scatterternary": [
           {
            "marker": {
             "colorbar": {
              "outlinewidth": 0,
              "ticks": ""
             }
            },
            "type": "scatterternary"
           }
          ],
          "surface": [
           {
            "colorbar": {
             "outlinewidth": 0,
             "ticks": ""
            },
            "colorscale": [
             [
              0,
              "#0d0887"
             ],
             [
              0.1111111111111111,
              "#46039f"
             ],
             [
              0.2222222222222222,
              "#7201a8"
             ],
             [
              0.3333333333333333,
              "#9c179e"
             ],
             [
              0.4444444444444444,
              "#bd3786"
             ],
             [
              0.5555555555555556,
              "#d8576b"
             ],
             [
              0.6666666666666666,
              "#ed7953"
             ],
             [
              0.7777777777777778,
              "#fb9f3a"
             ],
             [
              0.8888888888888888,
              "#fdca26"
             ],
             [
              1,
              "#f0f921"
             ]
            ],
            "type": "surface"
           }
          ],
          "table": [
           {
            "cells": {
             "fill": {
              "color": "#EBF0F8"
             },
             "line": {
              "color": "white"
             }
            },
            "header": {
             "fill": {
              "color": "#C8D4E3"
             },
             "line": {
              "color": "white"
             }
            },
            "type": "table"
           }
          ]
         },
         "layout": {
          "annotationdefaults": {
           "arrowcolor": "#2a3f5f",
           "arrowhead": 0,
           "arrowwidth": 1
          },
          "autotypenumbers": "strict",
          "coloraxis": {
           "colorbar": {
            "outlinewidth": 0,
            "ticks": ""
           }
          },
          "colorscale": {
           "diverging": [
            [
             0,
             "#8e0152"
            ],
            [
             0.1,
             "#c51b7d"
            ],
            [
             0.2,
             "#de77ae"
            ],
            [
             0.3,
             "#f1b6da"
            ],
            [
             0.4,
             "#fde0ef"
            ],
            [
             0.5,
             "#f7f7f7"
            ],
            [
             0.6,
             "#e6f5d0"
            ],
            [
             0.7,
             "#b8e186"
            ],
            [
             0.8,
             "#7fbc41"
            ],
            [
             0.9,
             "#4d9221"
            ],
            [
             1,
             "#276419"
            ]
           ],
           "sequential": [
            [
             0,
             "#0d0887"
            ],
            [
             0.1111111111111111,
             "#46039f"
            ],
            [
             0.2222222222222222,
             "#7201a8"
            ],
            [
             0.3333333333333333,
             "#9c179e"
            ],
            [
             0.4444444444444444,
             "#bd3786"
            ],
            [
             0.5555555555555556,
             "#d8576b"
            ],
            [
             0.6666666666666666,
             "#ed7953"
            ],
            [
             0.7777777777777778,
             "#fb9f3a"
            ],
            [
             0.8888888888888888,
             "#fdca26"
            ],
            [
             1,
             "#f0f921"
            ]
           ],
           "sequentialminus": [
            [
             0,
             "#0d0887"
            ],
            [
             0.1111111111111111,
             "#46039f"
            ],
            [
             0.2222222222222222,
             "#7201a8"
            ],
            [
             0.3333333333333333,
             "#9c179e"
            ],
            [
             0.4444444444444444,
             "#bd3786"
            ],
            [
             0.5555555555555556,
             "#d8576b"
            ],
            [
             0.6666666666666666,
             "#ed7953"
            ],
            [
             0.7777777777777778,
             "#fb9f3a"
            ],
            [
             0.8888888888888888,
             "#fdca26"
            ],
            [
             1,
             "#f0f921"
            ]
           ]
          },
          "colorway": [
           "#636efa",
           "#EF553B",
           "#00cc96",
           "#ab63fa",
           "#FFA15A",
           "#19d3f3",
           "#FF6692",
           "#B6E880",
           "#FF97FF",
           "#FECB52"
          ],
          "font": {
           "color": "#2a3f5f"
          },
          "geo": {
           "bgcolor": "white",
           "lakecolor": "white",
           "landcolor": "#E5ECF6",
           "showlakes": true,
           "showland": true,
           "subunitcolor": "white"
          },
          "hoverlabel": {
           "align": "left"
          },
          "hovermode": "closest",
          "mapbox": {
           "style": "light"
          },
          "paper_bgcolor": "white",
          "plot_bgcolor": "#E5ECF6",
          "polar": {
           "angularaxis": {
            "gridcolor": "white",
            "linecolor": "white",
            "ticks": ""
           },
           "bgcolor": "#E5ECF6",
           "radialaxis": {
            "gridcolor": "white",
            "linecolor": "white",
            "ticks": ""
           }
          },
          "scene": {
           "xaxis": {
            "backgroundcolor": "#E5ECF6",
            "gridcolor": "white",
            "gridwidth": 2,
            "linecolor": "white",
            "showbackground": true,
            "ticks": "",
            "zerolinecolor": "white"
           },
           "yaxis": {
            "backgroundcolor": "#E5ECF6",
            "gridcolor": "white",
            "gridwidth": 2,
            "linecolor": "white",
            "showbackground": true,
            "ticks": "",
            "zerolinecolor": "white"
           },
           "zaxis": {
            "backgroundcolor": "#E5ECF6",
            "gridcolor": "white",
            "gridwidth": 2,
            "linecolor": "white",
            "showbackground": true,
            "ticks": "",
            "zerolinecolor": "white"
           }
          },
          "shapedefaults": {
           "line": {
            "color": "#2a3f5f"
           }
          },
          "ternary": {
           "aaxis": {
            "gridcolor": "white",
            "linecolor": "white",
            "ticks": ""
           },
           "baxis": {
            "gridcolor": "white",
            "linecolor": "white",
            "ticks": ""
           },
           "bgcolor": "#E5ECF6",
           "caxis": {
            "gridcolor": "white",
            "linecolor": "white",
            "ticks": ""
           }
          },
          "title": {
           "x": 0.05
          },
          "xaxis": {
           "automargin": true,
           "gridcolor": "white",
           "linecolor": "white",
           "ticks": "",
           "title": {
            "standoff": 15
           },
           "zerolinecolor": "white",
           "zerolinewidth": 2
          },
          "yaxis": {
           "automargin": true,
           "gridcolor": "white",
           "linecolor": "white",
           "ticks": "",
           "title": {
            "standoff": 15
           },
           "zerolinecolor": "white",
           "zerolinewidth": 2
          }
         }
        },
        "title": {
         "text": "Distribution of articles publisher-wise",
         "x": 0.5,
         "xanchor": "center",
         "y": 0.9,
         "yanchor": "top"
        },
        "width": 800,
        "xaxis": {
         "title": {
          "text": "Category name"
         }
        },
        "yaxis": {
         "title": {
          "text": "Number of articles"
         }
        }
       }
      },
      "text/html": [
       "<div>                            <div id=\"5760f545-4633-4914-894c-cdaed6027f37\" class=\"plotly-graph-div\" style=\"height:700px; width:800px;\"></div>            <script type=\"text/javascript\">                require([\"plotly\"], function(Plotly) {                    window.PLOTLYENV=window.PLOTLYENV || {};                                    if (document.getElementById(\"5760f545-4633-4914-894c-cdaed6027f37\")) {                    Plotly.newPlot(                        \"5760f545-4633-4914-894c-cdaed6027f37\",                        [{\"x\":[\"huffingtonpost\"],\"y\":[37145],\"type\":\"bar\"}],                        {\"template\":{\"data\":{\"histogram2dcontour\":[{\"type\":\"histogram2dcontour\",\"colorbar\":{\"outlinewidth\":0,\"ticks\":\"\"},\"colorscale\":[[0.0,\"#0d0887\"],[0.1111111111111111,\"#46039f\"],[0.2222222222222222,\"#7201a8\"],[0.3333333333333333,\"#9c179e\"],[0.4444444444444444,\"#bd3786\"],[0.5555555555555556,\"#d8576b\"],[0.6666666666666666,\"#ed7953\"],[0.7777777777777778,\"#fb9f3a\"],[0.8888888888888888,\"#fdca26\"],[1.0,\"#f0f921\"]]}],\"choropleth\":[{\"type\":\"choropleth\",\"colorbar\":{\"outlinewidth\":0,\"ticks\":\"\"}}],\"histogram2d\":[{\"type\":\"histogram2d\",\"colorbar\":{\"outlinewidth\":0,\"ticks\":\"\"},\"colorscale\":[[0.0,\"#0d0887\"],[0.1111111111111111,\"#46039f\"],[0.2222222222222222,\"#7201a8\"],[0.3333333333333333,\"#9c179e\"],[0.4444444444444444,\"#bd3786\"],[0.5555555555555556,\"#d8576b\"],[0.6666666666666666,\"#ed7953\"],[0.7777777777777778,\"#fb9f3a\"],[0.8888888888888888,\"#fdca26\"],[1.0,\"#f0f921\"]]}],\"heatmap\":[{\"type\":\"heatmap\",\"colorbar\":{\"outlinewidth\":0,\"ticks\":\"\"},\"colorscale\":[[0.0,\"#0d0887\"],[0.1111111111111111,\"#46039f\"],[0.2222222222222222,\"#7201a8\"],[0.3333333333333333,\"#9c179e\"],[0.4444444444444444,\"#bd3786\"],[0.5555555555555556,\"#d8576b\"],[0.6666666666666666,\"#ed7953\"],[0.7777777777777778,\"#fb9f3a\"],[0.8888888888888888,\"#fdca26\"],[1.0,\"#f0f921\"]]}],\"heatmapgl\":[{\"type\":\"heatmapgl\",\"colorbar\":{\"outlinewidth\":0,\"ticks\":\"\"},\"colorscale\":[[0.0,\"#0d0887\"],[0.1111111111111111,\"#46039f\"],[0.2222222222222222,\"#7201a8\"],[0.3333333333333333,\"#9c179e\"],[0.4444444444444444,\"#bd3786\"],[0.5555555555555556,\"#d8576b\"],[0.6666666666666666,\"#ed7953\"],[0.7777777777777778,\"#fb9f3a\"],[0.8888888888888888,\"#fdca26\"],[1.0,\"#f0f921\"]]}],\"contourcarpet\":[{\"type\":\"contourcarpet\",\"colorbar\":{\"outlinewidth\":0,\"ticks\":\"\"}}],\"contour\":[{\"type\":\"contour\",\"colorbar\":{\"outlinewidth\":0,\"ticks\":\"\"},\"colorscale\":[[0.0,\"#0d0887\"],[0.1111111111111111,\"#46039f\"],[0.2222222222222222,\"#7201a8\"],[0.3333333333333333,\"#9c179e\"],[0.4444444444444444,\"#bd3786\"],[0.5555555555555556,\"#d8576b\"],[0.6666666666666666,\"#ed7953\"],[0.7777777777777778,\"#fb9f3a\"],[0.8888888888888888,\"#fdca26\"],[1.0,\"#f0f921\"]]}],\"surface\":[{\"type\":\"surface\",\"colorbar\":{\"outlinewidth\":0,\"ticks\":\"\"},\"colorscale\":[[0.0,\"#0d0887\"],[0.1111111111111111,\"#46039f\"],[0.2222222222222222,\"#7201a8\"],[0.3333333333333333,\"#9c179e\"],[0.4444444444444444,\"#bd3786\"],[0.5555555555555556,\"#d8576b\"],[0.6666666666666666,\"#ed7953\"],[0.7777777777777778,\"#fb9f3a\"],[0.8888888888888888,\"#fdca26\"],[1.0,\"#f0f921\"]]}],\"mesh3d\":[{\"type\":\"mesh3d\",\"colorbar\":{\"outlinewidth\":0,\"ticks\":\"\"}}],\"scatter\":[{\"fillpattern\":{\"fillmode\":\"overlay\",\"size\":10,\"solidity\":0.2},\"type\":\"scatter\"}],\"parcoords\":[{\"type\":\"parcoords\",\"line\":{\"colorbar\":{\"outlinewidth\":0,\"ticks\":\"\"}}}],\"scatterpolargl\":[{\"type\":\"scatterpolargl\",\"marker\":{\"colorbar\":{\"outlinewidth\":0,\"ticks\":\"\"}}}],\"bar\":[{\"error_x\":{\"color\":\"#2a3f5f\"},\"error_y\":{\"color\":\"#2a3f5f\"},\"marker\":{\"line\":{\"color\":\"#E5ECF6\",\"width\":0.5},\"pattern\":{\"fillmode\":\"overlay\",\"size\":10,\"solidity\":0.2}},\"type\":\"bar\"}],\"scattergeo\":[{\"type\":\"scattergeo\",\"marker\":{\"colorbar\":{\"outlinewidth\":0,\"ticks\":\"\"}}}],\"scatterpolar\":[{\"type\":\"scatterpolar\",\"marker\":{\"colorbar\":{\"outlinewidth\":0,\"ticks\":\"\"}}}],\"histogram\":[{\"marker\":{\"pattern\":{\"fillmode\":\"overlay\",\"size\":10,\"solidity\":0.2}},\"type\":\"histogram\"}],\"scattergl\":[{\"type\":\"scattergl\",\"marker\":{\"colorbar\":{\"outlinewidth\":0,\"ticks\":\"\"}}}],\"scatter3d\":[{\"type\":\"scatter3d\",\"line\":{\"colorbar\":{\"outlinewidth\":0,\"ticks\":\"\"}},\"marker\":{\"colorbar\":{\"outlinewidth\":0,\"ticks\":\"\"}}}],\"scattermapbox\":[{\"type\":\"scattermapbox\",\"marker\":{\"colorbar\":{\"outlinewidth\":0,\"ticks\":\"\"}}}],\"scatterternary\":[{\"type\":\"scatterternary\",\"marker\":{\"colorbar\":{\"outlinewidth\":0,\"ticks\":\"\"}}}],\"scattercarpet\":[{\"type\":\"scattercarpet\",\"marker\":{\"colorbar\":{\"outlinewidth\":0,\"ticks\":\"\"}}}],\"carpet\":[{\"aaxis\":{\"endlinecolor\":\"#2a3f5f\",\"gridcolor\":\"white\",\"linecolor\":\"white\",\"minorgridcolor\":\"white\",\"startlinecolor\":\"#2a3f5f\"},\"baxis\":{\"endlinecolor\":\"#2a3f5f\",\"gridcolor\":\"white\",\"linecolor\":\"white\",\"minorgridcolor\":\"white\",\"startlinecolor\":\"#2a3f5f\"},\"type\":\"carpet\"}],\"table\":[{\"cells\":{\"fill\":{\"color\":\"#EBF0F8\"},\"line\":{\"color\":\"white\"}},\"header\":{\"fill\":{\"color\":\"#C8D4E3\"},\"line\":{\"color\":\"white\"}},\"type\":\"table\"}],\"barpolar\":[{\"marker\":{\"line\":{\"color\":\"#E5ECF6\",\"width\":0.5},\"pattern\":{\"fillmode\":\"overlay\",\"size\":10,\"solidity\":0.2}},\"type\":\"barpolar\"}],\"pie\":[{\"automargin\":true,\"type\":\"pie\"}]},\"layout\":{\"autotypenumbers\":\"strict\",\"colorway\":[\"#636efa\",\"#EF553B\",\"#00cc96\",\"#ab63fa\",\"#FFA15A\",\"#19d3f3\",\"#FF6692\",\"#B6E880\",\"#FF97FF\",\"#FECB52\"],\"font\":{\"color\":\"#2a3f5f\"},\"hovermode\":\"closest\",\"hoverlabel\":{\"align\":\"left\"},\"paper_bgcolor\":\"white\",\"plot_bgcolor\":\"#E5ECF6\",\"polar\":{\"bgcolor\":\"#E5ECF6\",\"angularaxis\":{\"gridcolor\":\"white\",\"linecolor\":\"white\",\"ticks\":\"\"},\"radialaxis\":{\"gridcolor\":\"white\",\"linecolor\":\"white\",\"ticks\":\"\"}},\"ternary\":{\"bgcolor\":\"#E5ECF6\",\"aaxis\":{\"gridcolor\":\"white\",\"linecolor\":\"white\",\"ticks\":\"\"},\"baxis\":{\"gridcolor\":\"white\",\"linecolor\":\"white\",\"ticks\":\"\"},\"caxis\":{\"gridcolor\":\"white\",\"linecolor\":\"white\",\"ticks\":\"\"}},\"coloraxis\":{\"colorbar\":{\"outlinewidth\":0,\"ticks\":\"\"}},\"colorscale\":{\"sequential\":[[0.0,\"#0d0887\"],[0.1111111111111111,\"#46039f\"],[0.2222222222222222,\"#7201a8\"],[0.3333333333333333,\"#9c179e\"],[0.4444444444444444,\"#bd3786\"],[0.5555555555555556,\"#d8576b\"],[0.6666666666666666,\"#ed7953\"],[0.7777777777777778,\"#fb9f3a\"],[0.8888888888888888,\"#fdca26\"],[1.0,\"#f0f921\"]],\"sequentialminus\":[[0.0,\"#0d0887\"],[0.1111111111111111,\"#46039f\"],[0.2222222222222222,\"#7201a8\"],[0.3333333333333333,\"#9c179e\"],[0.4444444444444444,\"#bd3786\"],[0.5555555555555556,\"#d8576b\"],[0.6666666666666666,\"#ed7953\"],[0.7777777777777778,\"#fb9f3a\"],[0.8888888888888888,\"#fdca26\"],[1.0,\"#f0f921\"]],\"diverging\":[[0,\"#8e0152\"],[0.1,\"#c51b7d\"],[0.2,\"#de77ae\"],[0.3,\"#f1b6da\"],[0.4,\"#fde0ef\"],[0.5,\"#f7f7f7\"],[0.6,\"#e6f5d0\"],[0.7,\"#b8e186\"],[0.8,\"#7fbc41\"],[0.9,\"#4d9221\"],[1,\"#276419\"]]},\"xaxis\":{\"gridcolor\":\"white\",\"linecolor\":\"white\",\"ticks\":\"\",\"title\":{\"standoff\":15},\"zerolinecolor\":\"white\",\"automargin\":true,\"zerolinewidth\":2},\"yaxis\":{\"gridcolor\":\"white\",\"linecolor\":\"white\",\"ticks\":\"\",\"title\":{\"standoff\":15},\"zerolinecolor\":\"white\",\"automargin\":true,\"zerolinewidth\":2},\"scene\":{\"xaxis\":{\"backgroundcolor\":\"#E5ECF6\",\"gridcolor\":\"white\",\"linecolor\":\"white\",\"showbackground\":true,\"ticks\":\"\",\"zerolinecolor\":\"white\",\"gridwidth\":2},\"yaxis\":{\"backgroundcolor\":\"#E5ECF6\",\"gridcolor\":\"white\",\"linecolor\":\"white\",\"showbackground\":true,\"ticks\":\"\",\"zerolinecolor\":\"white\",\"gridwidth\":2},\"zaxis\":{\"backgroundcolor\":\"#E5ECF6\",\"gridcolor\":\"white\",\"linecolor\":\"white\",\"showbackground\":true,\"ticks\":\"\",\"zerolinecolor\":\"white\",\"gridwidth\":2}},\"shapedefaults\":{\"line\":{\"color\":\"#2a3f5f\"}},\"annotationdefaults\":{\"arrowcolor\":\"#2a3f5f\",\"arrowhead\":0,\"arrowwidth\":1},\"geo\":{\"bgcolor\":\"white\",\"landcolor\":\"#E5ECF6\",\"subunitcolor\":\"white\",\"showland\":true,\"showlakes\":true,\"lakecolor\":\"white\"},\"title\":{\"x\":0.05},\"mapbox\":{\"style\":\"light\"}}},\"title\":{\"text\":\"Distribution of articles publisher-wise\",\"y\":0.9,\"x\":0.5,\"xanchor\":\"center\",\"yanchor\":\"top\"},\"xaxis\":{\"title\":{\"text\":\"Category name\"}},\"yaxis\":{\"title\":{\"text\":\"Number of articles\"}},\"width\":800,\"height\":700},                        {\"responsive\": true}                    ).then(function(){\n",
       "                            \n",
       "var gd = document.getElementById('5760f545-4633-4914-894c-cdaed6027f37');\n",
       "var x = new MutationObserver(function (mutations, observer) {{\n",
       "        var display = window.getComputedStyle(gd).display;\n",
       "        if (!display || display === 'none') {{\n",
       "            console.log([gd, 'removed!']);\n",
       "            Plotly.purge(gd);\n",
       "            observer.disconnect();\n",
       "        }}\n",
       "}});\n",
       "\n",
       "// Listen for the removal of the full notebook cells\n",
       "var notebookContainer = gd.closest('#notebook-container');\n",
       "if (notebookContainer) {{\n",
       "    x.observe(notebookContainer, {childList: true});\n",
       "}}\n",
       "\n",
       "// Listen for the clearing of the current output cell\n",
       "var outputEl = gd.closest('.output');\n",
       "if (outputEl) {{\n",
       "    x.observe(outputEl, {childList: true});\n",
       "}}\n",
       "\n",
       "                        })                };                });            </script>        </div>"
      ]
     },
     "metadata": {},
     "output_type": "display_data"
    }
   ],
   "source": [
    "fig = plotly.Figure([plotly.Bar(x = news_dataset[\"Website_Name\"].value_counts().index, y = news_dataset[\"Website_Name\"].value_counts().values)])\n",
    "fig['layout'].update(title={\"text\" : 'Distribution of articles publisher-wise','y':0.9,'x':0.5,'xanchor': 'center','yanchor': 'top'}, xaxis_title=\"Category name\", yaxis_title=\"Number of articles\")\n",
    "fig.update_layout(width=800,height=700)\n",
    "fig"
   ]
  },
  {
   "cell_type": "markdown",
   "id": "080b2601",
   "metadata": {},
   "source": [
    "#### From the above visualization, we came to know that all the news articles are from the same publisher \"Website\" so we're dropping this attribute."
   ]
  },
  {
   "cell_type": "markdown",
   "id": "7ffe80e0",
   "metadata": {},
   "source": [
    "#### Drop link, Website_Name and years attributes:"
   ]
  },
  {
   "cell_type": "code",
   "execution_count": 206,
   "id": "7366eb7d",
   "metadata": {},
   "outputs": [
    {
     "data": {
      "text/html": [
       "<div>\n",
       "<style scoped>\n",
       "    .dataframe tbody tr th:only-of-type {\n",
       "        vertical-align: middle;\n",
       "    }\n",
       "\n",
       "    .dataframe tbody tr th {\n",
       "        vertical-align: top;\n",
       "    }\n",
       "\n",
       "    .dataframe thead th {\n",
       "        text-align: right;\n",
       "    }\n",
       "</style>\n",
       "<table border=\"1\" class=\"dataframe\">\n",
       "  <thead>\n",
       "    <tr style=\"text-align: right;\">\n",
       "      <th></th>\n",
       "      <th>category</th>\n",
       "      <th>headline</th>\n",
       "      <th>authors</th>\n",
       "      <th>link</th>\n",
       "      <th>short_description</th>\n",
       "      <th>date</th>\n",
       "    </tr>\n",
       "  </thead>\n",
       "  <tbody>\n",
       "    <tr>\n",
       "      <th>0</th>\n",
       "      <td>CRIME</td>\n",
       "      <td>There Were 2 Mass Shootings In Texas Last Week, But Only 1 On TV</td>\n",
       "      <td>Melissa Jeltsen</td>\n",
       "      <td>https://www.huffingtonpost.com/entry/texas-amanda-painter-mass-shooting_us_5b081ab4e4b0802d69caad89</td>\n",
       "      <td>She left her husband. He killed their children. Just another day in America.</td>\n",
       "      <td>2018-05-26</td>\n",
       "    </tr>\n",
       "    <tr>\n",
       "      <th>1</th>\n",
       "      <td>ENTERTAINMENT</td>\n",
       "      <td>Will Smith Joins Diplo And Nicky Jam For The 2018 World Cup's Official Song</td>\n",
       "      <td>Andy McDonald</td>\n",
       "      <td>https://www.huffingtonpost.com/entry/will-smith-joins-diplo-and-nicky-jam-for-the-official-2018-...</td>\n",
       "      <td>Of course it has a song.</td>\n",
       "      <td>2018-05-26</td>\n",
       "    </tr>\n",
       "    <tr>\n",
       "      <th>2</th>\n",
       "      <td>ENTERTAINMENT</td>\n",
       "      <td>Hugh Grant Marries For The First Time At Age 57</td>\n",
       "      <td>Ron Dicker</td>\n",
       "      <td>https://www.huffingtonpost.com/entry/hugh-grant-marries_us_5b09212ce4b0568a880b9a8c</td>\n",
       "      <td>The actor and his longtime girlfriend Anna Eberstein tied the knot in a civil ceremony.</td>\n",
       "      <td>2018-05-26</td>\n",
       "    </tr>\n",
       "    <tr>\n",
       "      <th>3</th>\n",
       "      <td>ENTERTAINMENT</td>\n",
       "      <td>Jim Carrey Blasts 'Castrato' Adam Schiff And Democrats In New Artwork</td>\n",
       "      <td>Ron Dicker</td>\n",
       "      <td>https://www.huffingtonpost.com/entry/jim-carrey-adam-schiff-democrats_us_5b0950e8e4b0fdb2aa53e675</td>\n",
       "      <td>The actor gives Dems an ass-kicking for not fighting hard enough against Donald Trump.</td>\n",
       "      <td>2018-05-26</td>\n",
       "    </tr>\n",
       "    <tr>\n",
       "      <th>4</th>\n",
       "      <td>ENTERTAINMENT</td>\n",
       "      <td>Julianna Margulies Uses Donald Trump Poop Bags To Pick Up After Her Dog</td>\n",
       "      <td>Ron Dicker</td>\n",
       "      <td>https://www.huffingtonpost.com/entry/julianna-margulies-trump-poop-bag_us_5b093ec2e4b0fdb2aa53df70</td>\n",
       "      <td>The \"Dietland\" actress said using the bags is a \"really cathartic, therapeutic moment.\"</td>\n",
       "      <td>2018-05-26</td>\n",
       "    </tr>\n",
       "    <tr>\n",
       "      <th>5</th>\n",
       "      <td>ENTERTAINMENT</td>\n",
       "      <td>Morgan Freeman 'Devastated' That Sexual Harassment Claims Could Undermine Legacy</td>\n",
       "      <td>Ron Dicker</td>\n",
       "      <td>https://www.huffingtonpost.com/entry/morgan-freeman-devastated-sexual-misconduct_us_5b096319e4b0...</td>\n",
       "      <td>\"It is not right to equate horrific incidents of sexual assault with misplaced compliments or hu...</td>\n",
       "      <td>2018-05-26</td>\n",
       "    </tr>\n",
       "    <tr>\n",
       "      <th>6</th>\n",
       "      <td>ENTERTAINMENT</td>\n",
       "      <td>Donald Trump Is Lovin' New McDonald's Jingle In 'Tonight Show' Bit</td>\n",
       "      <td>Ron Dicker</td>\n",
       "      <td>https://www.huffingtonpost.com/entry/donald-trump-mcondalds-tonight-show_us_5b093561e4b0fdb2aa53...</td>\n",
       "      <td>It's catchy, all right.</td>\n",
       "      <td>2018-05-26</td>\n",
       "    </tr>\n",
       "    <tr>\n",
       "      <th>7</th>\n",
       "      <td>ENTERTAINMENT</td>\n",
       "      <td>What To Watch On Amazon Prime That’s New This Week</td>\n",
       "      <td>Todd Van Luling</td>\n",
       "      <td>https://www.huffingtonpost.com/entry/amazon-prime-what-to-watch_us_5b044625e4b0c0b8b23ec14f</td>\n",
       "      <td>There's a great mini-series joining this week.</td>\n",
       "      <td>2018-05-26</td>\n",
       "    </tr>\n",
       "    <tr>\n",
       "      <th>8</th>\n",
       "      <td>ENTERTAINMENT</td>\n",
       "      <td>Mike Myers Reveals He'd 'Like To' Do A Fourth Austin Powers Film</td>\n",
       "      <td>Andy McDonald</td>\n",
       "      <td>https://www.huffingtonpost.com/entry/mike-myers-reveals-he-wants-to-do-a-fourth-austin-powers-fi...</td>\n",
       "      <td>Myer's kids may be pushing for a new \"Powers\" film more than anyone.</td>\n",
       "      <td>2018-05-26</td>\n",
       "    </tr>\n",
       "    <tr>\n",
       "      <th>9</th>\n",
       "      <td>ENTERTAINMENT</td>\n",
       "      <td>What To Watch On Hulu That’s New This Week</td>\n",
       "      <td>Todd Van Luling</td>\n",
       "      <td>https://www.huffingtonpost.com/entry/hulu-what-to-watch_us_5b0445bae4b0c0b8b23ec046</td>\n",
       "      <td>You're getting a recent Academy Award-winning movie.</td>\n",
       "      <td>2018-05-26</td>\n",
       "    </tr>\n",
       "  </tbody>\n",
       "</table>\n",
       "</div>"
      ],
      "text/plain": [
       "        category  \\\n",
       "0          CRIME   \n",
       "1  ENTERTAINMENT   \n",
       "2  ENTERTAINMENT   \n",
       "3  ENTERTAINMENT   \n",
       "4  ENTERTAINMENT   \n",
       "5  ENTERTAINMENT   \n",
       "6  ENTERTAINMENT   \n",
       "7  ENTERTAINMENT   \n",
       "8  ENTERTAINMENT   \n",
       "9  ENTERTAINMENT   \n",
       "\n",
       "                                                                           headline  \\\n",
       "0                  There Were 2 Mass Shootings In Texas Last Week, But Only 1 On TV   \n",
       "1       Will Smith Joins Diplo And Nicky Jam For The 2018 World Cup's Official Song   \n",
       "2                                   Hugh Grant Marries For The First Time At Age 57   \n",
       "3             Jim Carrey Blasts 'Castrato' Adam Schiff And Democrats In New Artwork   \n",
       "4           Julianna Margulies Uses Donald Trump Poop Bags To Pick Up After Her Dog   \n",
       "5  Morgan Freeman 'Devastated' That Sexual Harassment Claims Could Undermine Legacy   \n",
       "6                Donald Trump Is Lovin' New McDonald's Jingle In 'Tonight Show' Bit   \n",
       "7                                What To Watch On Amazon Prime That’s New This Week   \n",
       "8                  Mike Myers Reveals He'd 'Like To' Do A Fourth Austin Powers Film   \n",
       "9                                        What To Watch On Hulu That’s New This Week   \n",
       "\n",
       "           authors  \\\n",
       "0  Melissa Jeltsen   \n",
       "1    Andy McDonald   \n",
       "2       Ron Dicker   \n",
       "3       Ron Dicker   \n",
       "4       Ron Dicker   \n",
       "5       Ron Dicker   \n",
       "6       Ron Dicker   \n",
       "7  Todd Van Luling   \n",
       "8    Andy McDonald   \n",
       "9  Todd Van Luling   \n",
       "\n",
       "                                                                                                  link  \\\n",
       "0  https://www.huffingtonpost.com/entry/texas-amanda-painter-mass-shooting_us_5b081ab4e4b0802d69caad89   \n",
       "1  https://www.huffingtonpost.com/entry/will-smith-joins-diplo-and-nicky-jam-for-the-official-2018-...   \n",
       "2                  https://www.huffingtonpost.com/entry/hugh-grant-marries_us_5b09212ce4b0568a880b9a8c   \n",
       "3    https://www.huffingtonpost.com/entry/jim-carrey-adam-schiff-democrats_us_5b0950e8e4b0fdb2aa53e675   \n",
       "4   https://www.huffingtonpost.com/entry/julianna-margulies-trump-poop-bag_us_5b093ec2e4b0fdb2aa53df70   \n",
       "5  https://www.huffingtonpost.com/entry/morgan-freeman-devastated-sexual-misconduct_us_5b096319e4b0...   \n",
       "6  https://www.huffingtonpost.com/entry/donald-trump-mcondalds-tonight-show_us_5b093561e4b0fdb2aa53...   \n",
       "7          https://www.huffingtonpost.com/entry/amazon-prime-what-to-watch_us_5b044625e4b0c0b8b23ec14f   \n",
       "8  https://www.huffingtonpost.com/entry/mike-myers-reveals-he-wants-to-do-a-fourth-austin-powers-fi...   \n",
       "9                  https://www.huffingtonpost.com/entry/hulu-what-to-watch_us_5b0445bae4b0c0b8b23ec046   \n",
       "\n",
       "                                                                                     short_description  \\\n",
       "0                         She left her husband. He killed their children. Just another day in America.   \n",
       "1                                                                             Of course it has a song.   \n",
       "2              The actor and his longtime girlfriend Anna Eberstein tied the knot in a civil ceremony.   \n",
       "3               The actor gives Dems an ass-kicking for not fighting hard enough against Donald Trump.   \n",
       "4              The \"Dietland\" actress said using the bags is a \"really cathartic, therapeutic moment.\"   \n",
       "5  \"It is not right to equate horrific incidents of sexual assault with misplaced compliments or hu...   \n",
       "6                                                                              It's catchy, all right.   \n",
       "7                                                       There's a great mini-series joining this week.   \n",
       "8                                 Myer's kids may be pushing for a new \"Powers\" film more than anyone.   \n",
       "9                                                 You're getting a recent Academy Award-winning movie.   \n",
       "\n",
       "        date  \n",
       "0 2018-05-26  \n",
       "1 2018-05-26  \n",
       "2 2018-05-26  \n",
       "3 2018-05-26  \n",
       "4 2018-05-26  \n",
       "5 2018-05-26  \n",
       "6 2018-05-26  \n",
       "7 2018-05-26  \n",
       "8 2018-05-26  \n",
       "9 2018-05-26  "
      ]
     },
     "execution_count": 206,
     "metadata": {},
     "output_type": "execute_result"
    }
   ],
   "source": [
    "news_dataset = news_dataset.drop('link', axis=1)\n",
    "news_dataset = news_dataset.drop('Website_Name', axis=1)\n",
    "news_dataset = news_dataset.drop('years', axis=1)\n",
    "news_dataset.head(10)"
   ]
  },
  {
   "cell_type": "code",
   "execution_count": 30,
   "id": "fa88e1be",
   "metadata": {},
   "outputs": [],
   "source": [
    "news_dataset.to_csv('Processed_Data.csv', index=False)"
   ]
  },
  {
   "cell_type": "code",
   "execution_count": 31,
   "id": "3de88f69",
   "metadata": {},
   "outputs": [
    {
     "data": {
      "text/html": [
       "<div>\n",
       "<style scoped>\n",
       "    .dataframe tbody tr th:only-of-type {\n",
       "        vertical-align: middle;\n",
       "    }\n",
       "\n",
       "    .dataframe tbody tr th {\n",
       "        vertical-align: top;\n",
       "    }\n",
       "\n",
       "    .dataframe thead th {\n",
       "        text-align: right;\n",
       "    }\n",
       "</style>\n",
       "<table border=\"1\" class=\"dataframe\">\n",
       "  <thead>\n",
       "    <tr style=\"text-align: right;\">\n",
       "      <th></th>\n",
       "      <th>category</th>\n",
       "      <th>headline</th>\n",
       "      <th>authors</th>\n",
       "      <th>short_description</th>\n",
       "      <th>date</th>\n",
       "      <th>day and month</th>\n",
       "    </tr>\n",
       "  </thead>\n",
       "  <tbody>\n",
       "    <tr>\n",
       "      <th>0</th>\n",
       "      <td>CRIME</td>\n",
       "      <td>['2', 'Mass', 'Shootings', 'Texas', 'Last', 'W...</td>\n",
       "      <td>Melissa Jeltsen</td>\n",
       "      <td>['left', 'husband', '.', 'killed', 'child', '....</td>\n",
       "      <td>2018-05-26</td>\n",
       "      <td>Sat_May</td>\n",
       "    </tr>\n",
       "    <tr>\n",
       "      <th>1</th>\n",
       "      <td>ENTERTAINMENT</td>\n",
       "      <td>['Smith', 'Joins', 'Diplo', 'Nicky', 'Jam', '2...</td>\n",
       "      <td>Andy McDonald</td>\n",
       "      <td>['course', 'song', '.']</td>\n",
       "      <td>2018-05-26</td>\n",
       "      <td>Sat_May</td>\n",
       "    </tr>\n",
       "    <tr>\n",
       "      <th>2</th>\n",
       "      <td>ENTERTAINMENT</td>\n",
       "      <td>['Hugh', 'Grant', 'Marries', 'First', 'Time', ...</td>\n",
       "      <td>Ron Dicker</td>\n",
       "      <td>['actor', 'longtime', 'girlfriend', 'Anna', 'E...</td>\n",
       "      <td>2018-05-26</td>\n",
       "      <td>Sat_May</td>\n",
       "    </tr>\n",
       "    <tr>\n",
       "      <th>3</th>\n",
       "      <td>ENTERTAINMENT</td>\n",
       "      <td>['Jim', 'Carrey', 'Blasts', \"'Castrato\", \"'\", ...</td>\n",
       "      <td>Ron Dicker</td>\n",
       "      <td>['actor', 'give', 'Dems', 'ass-kicking', 'figh...</td>\n",
       "      <td>2018-05-26</td>\n",
       "      <td>Sat_May</td>\n",
       "    </tr>\n",
       "    <tr>\n",
       "      <th>4</th>\n",
       "      <td>ENTERTAINMENT</td>\n",
       "      <td>['Julianna', 'Margulies', 'Uses', 'Donald', 'T...</td>\n",
       "      <td>Ron Dicker</td>\n",
       "      <td>['``', 'Dietland', \"''\", 'actress', 'said', 'u...</td>\n",
       "      <td>2018-05-26</td>\n",
       "      <td>Sat_May</td>\n",
       "    </tr>\n",
       "    <tr>\n",
       "      <th>5</th>\n",
       "      <td>ENTERTAINMENT</td>\n",
       "      <td>['Morgan', 'Freeman', \"'Devastated\", \"'\", 'Sex...</td>\n",
       "      <td>Ron Dicker</td>\n",
       "      <td>['``', 'right', 'equate', 'horrific', 'inciden...</td>\n",
       "      <td>2018-05-26</td>\n",
       "      <td>Sat_May</td>\n",
       "    </tr>\n",
       "    <tr>\n",
       "      <th>6</th>\n",
       "      <td>ENTERTAINMENT</td>\n",
       "      <td>['Donald', 'Trump', 'Lovin', \"'\", 'New', 'McDo...</td>\n",
       "      <td>Ron Dicker</td>\n",
       "      <td>[\"'s\", 'catchy', ',', 'right', '.']</td>\n",
       "      <td>2018-05-26</td>\n",
       "      <td>Sat_May</td>\n",
       "    </tr>\n",
       "    <tr>\n",
       "      <th>7</th>\n",
       "      <td>ENTERTAINMENT</td>\n",
       "      <td>['Watch', 'Amazon', 'Prime', '’', 'New', 'Week']</td>\n",
       "      <td>Todd Van Luling</td>\n",
       "      <td>[\"'s\", 'great', 'mini-series', 'joining', 'wee...</td>\n",
       "      <td>2018-05-26</td>\n",
       "      <td>Sat_May</td>\n",
       "    </tr>\n",
       "    <tr>\n",
       "      <th>8</th>\n",
       "      <td>ENTERTAINMENT</td>\n",
       "      <td>['Mike', 'Myers', 'Reveals', \"'d\", \"'Like\", \"'...</td>\n",
       "      <td>Andy McDonald</td>\n",
       "      <td>['Myer', \"'s\", 'kid', 'may', 'pushing', 'new',...</td>\n",
       "      <td>2018-05-26</td>\n",
       "      <td>Sat_May</td>\n",
       "    </tr>\n",
       "    <tr>\n",
       "      <th>9</th>\n",
       "      <td>ENTERTAINMENT</td>\n",
       "      <td>['Watch', 'Hulu', '’', 'New', 'Week']</td>\n",
       "      <td>Todd Van Luling</td>\n",
       "      <td>[\"'re\", 'getting', 'recent', 'Academy', 'Award...</td>\n",
       "      <td>2018-05-26</td>\n",
       "      <td>Sat_May</td>\n",
       "    </tr>\n",
       "    <tr>\n",
       "      <th>10</th>\n",
       "      <td>ENTERTAINMENT</td>\n",
       "      <td>['Justin', 'Timberlake', 'Visits', 'Texas', 'S...</td>\n",
       "      <td>Sebastian Murdock</td>\n",
       "      <td>['pop', 'star', 'also', 'wore', '``', 'Santa',...</td>\n",
       "      <td>2018-05-26</td>\n",
       "      <td>Sat_May</td>\n",
       "    </tr>\n",
       "    <tr>\n",
       "      <th>11</th>\n",
       "      <td>WORLD NEWS</td>\n",
       "      <td>['South', 'Korean', 'President', 'Meets', 'Nor...</td>\n",
       "      <td>NaN</td>\n",
       "      <td>['two', 'met', 'pave', 'way', 'summit', 'North...</td>\n",
       "      <td>2018-05-26</td>\n",
       "      <td>Sat_May</td>\n",
       "    </tr>\n",
       "    <tr>\n",
       "      <th>12</th>\n",
       "      <td>IMPACT</td>\n",
       "      <td>['Way', 'Life', 'Risk', ',', 'Remote', 'Oyster...</td>\n",
       "      <td>Karen Pinchin</td>\n",
       "      <td>['revolution', 'coming', 'rural', 'New', 'Brun...</td>\n",
       "      <td>2018-05-26</td>\n",
       "      <td>Sat_May</td>\n",
       "    </tr>\n",
       "    <tr>\n",
       "      <th>13</th>\n",
       "      <td>POLITICS</td>\n",
       "      <td>['Trump', \"'s\", 'Crackdown', 'Immigrant', 'Par...</td>\n",
       "      <td>Elise Foley and Roque Planas</td>\n",
       "      <td>['Last', 'month', 'Health', 'Human', 'Services...</td>\n",
       "      <td>2018-05-26</td>\n",
       "      <td>Sat_May</td>\n",
       "    </tr>\n",
       "    <tr>\n",
       "      <th>14</th>\n",
       "      <td>POLITICS</td>\n",
       "      <td>[\"'Trump\", \"'s\", 'Son', 'Concerned', \"'\", ':',...</td>\n",
       "      <td>Michael Isikoff, Yahoo News</td>\n",
       "      <td>['wiretap', 'feature', 'conversation', 'Alexan...</td>\n",
       "      <td>2018-05-26</td>\n",
       "      <td>Sat_May</td>\n",
       "    </tr>\n",
       "  </tbody>\n",
       "</table>\n",
       "</div>"
      ],
      "text/plain": [
       "         category                                           headline  \\\n",
       "0           CRIME  ['2', 'Mass', 'Shootings', 'Texas', 'Last', 'W...   \n",
       "1   ENTERTAINMENT  ['Smith', 'Joins', 'Diplo', 'Nicky', 'Jam', '2...   \n",
       "2   ENTERTAINMENT  ['Hugh', 'Grant', 'Marries', 'First', 'Time', ...   \n",
       "3   ENTERTAINMENT  ['Jim', 'Carrey', 'Blasts', \"'Castrato\", \"'\", ...   \n",
       "4   ENTERTAINMENT  ['Julianna', 'Margulies', 'Uses', 'Donald', 'T...   \n",
       "5   ENTERTAINMENT  ['Morgan', 'Freeman', \"'Devastated\", \"'\", 'Sex...   \n",
       "6   ENTERTAINMENT  ['Donald', 'Trump', 'Lovin', \"'\", 'New', 'McDo...   \n",
       "7   ENTERTAINMENT   ['Watch', 'Amazon', 'Prime', '’', 'New', 'Week']   \n",
       "8   ENTERTAINMENT  ['Mike', 'Myers', 'Reveals', \"'d\", \"'Like\", \"'...   \n",
       "9   ENTERTAINMENT              ['Watch', 'Hulu', '’', 'New', 'Week']   \n",
       "10  ENTERTAINMENT  ['Justin', 'Timberlake', 'Visits', 'Texas', 'S...   \n",
       "11     WORLD NEWS  ['South', 'Korean', 'President', 'Meets', 'Nor...   \n",
       "12         IMPACT  ['Way', 'Life', 'Risk', ',', 'Remote', 'Oyster...   \n",
       "13       POLITICS  ['Trump', \"'s\", 'Crackdown', 'Immigrant', 'Par...   \n",
       "14       POLITICS  [\"'Trump\", \"'s\", 'Son', 'Concerned', \"'\", ':',...   \n",
       "\n",
       "                         authors  \\\n",
       "0                Melissa Jeltsen   \n",
       "1                  Andy McDonald   \n",
       "2                     Ron Dicker   \n",
       "3                     Ron Dicker   \n",
       "4                     Ron Dicker   \n",
       "5                     Ron Dicker   \n",
       "6                     Ron Dicker   \n",
       "7                Todd Van Luling   \n",
       "8                  Andy McDonald   \n",
       "9                Todd Van Luling   \n",
       "10             Sebastian Murdock   \n",
       "11                           NaN   \n",
       "12                 Karen Pinchin   \n",
       "13  Elise Foley and Roque Planas   \n",
       "14   Michael Isikoff, Yahoo News   \n",
       "\n",
       "                                    short_description        date  \\\n",
       "0   ['left', 'husband', '.', 'killed', 'child', '....  2018-05-26   \n",
       "1                             ['course', 'song', '.']  2018-05-26   \n",
       "2   ['actor', 'longtime', 'girlfriend', 'Anna', 'E...  2018-05-26   \n",
       "3   ['actor', 'give', 'Dems', 'ass-kicking', 'figh...  2018-05-26   \n",
       "4   ['``', 'Dietland', \"''\", 'actress', 'said', 'u...  2018-05-26   \n",
       "5   ['``', 'right', 'equate', 'horrific', 'inciden...  2018-05-26   \n",
       "6                 [\"'s\", 'catchy', ',', 'right', '.']  2018-05-26   \n",
       "7   [\"'s\", 'great', 'mini-series', 'joining', 'wee...  2018-05-26   \n",
       "8   ['Myer', \"'s\", 'kid', 'may', 'pushing', 'new',...  2018-05-26   \n",
       "9   [\"'re\", 'getting', 'recent', 'Academy', 'Award...  2018-05-26   \n",
       "10  ['pop', 'star', 'also', 'wore', '``', 'Santa',...  2018-05-26   \n",
       "11  ['two', 'met', 'pave', 'way', 'summit', 'North...  2018-05-26   \n",
       "12  ['revolution', 'coming', 'rural', 'New', 'Brun...  2018-05-26   \n",
       "13  ['Last', 'month', 'Health', 'Human', 'Services...  2018-05-26   \n",
       "14  ['wiretap', 'feature', 'conversation', 'Alexan...  2018-05-26   \n",
       "\n",
       "   day and month  \n",
       "0        Sat_May  \n",
       "1        Sat_May  \n",
       "2        Sat_May  \n",
       "3        Sat_May  \n",
       "4        Sat_May  \n",
       "5        Sat_May  \n",
       "6        Sat_May  \n",
       "7        Sat_May  \n",
       "8        Sat_May  \n",
       "9        Sat_May  \n",
       "10       Sat_May  \n",
       "11       Sat_May  \n",
       "12       Sat_May  \n",
       "13       Sat_May  \n",
       "14       Sat_May  "
      ]
     },
     "execution_count": 31,
     "metadata": {},
     "output_type": "execute_result"
    }
   ],
   "source": [
    "news_dataset_processed = pd.read_csv('Processed_Data.csv')\n",
    "news_dataset_processed.head(15)"
   ]
  },
  {
   "cell_type": "markdown",
   "id": "424fa9b7",
   "metadata": {},
   "source": [
    "<br>\n",
    "<br>\n",
    "\n",
    "## 4. Approaches:"
   ]
  },
  {
   "cell_type": "markdown",
   "id": "91b85963",
   "metadata": {},
   "source": [
    "##### In this section, we find similarity based on the headline feature of the data."
   ]
  },
  {
   "cell_type": "markdown",
   "id": "0334253b",
   "metadata": {},
   "source": [
    "### a. bag of words:"
   ]
  },
  {
   "cell_type": "markdown",
   "id": "b980ebf7",
   "metadata": {},
   "source": [
    "* Bag of Words **(BoW)** is a text representation approach that counts the frequency of\n",
    "occurrence of each word in the text and creates a vector of word frequencies for each\n",
    "document.\n",
    "* In this project, the BoW approach was used to analyze the text in news articles and\n",
    "create a vector representation of the news articles based on the frequency of words."
   ]
  },
  {
   "cell_type": "code",
   "execution_count": 107,
   "id": "fc2026ec",
   "metadata": {},
   "outputs": [],
   "source": [
    "from sklearn.feature_extraction.text import CountVectorizer"
   ]
  },
  {
   "cell_type": "code",
   "execution_count": 108,
   "id": "eca832cb",
   "metadata": {},
   "outputs": [],
   "source": [
    "headline_vectorizer = CountVectorizer()\n",
    "headline_features   = headline_vectorizer.fit_transform(tmp_news_articles['headline'])"
   ]
  },
  {
   "cell_type": "code",
   "execution_count": 34,
   "id": "0b429f1c",
   "metadata": {},
   "outputs": [
    {
     "data": {
      "text/plain": [
       "(37145, 24441)"
      ]
     },
     "execution_count": 34,
     "metadata": {},
     "output_type": "execute_result"
    }
   ],
   "source": [
    "headline_features.get_shape()"
   ]
  },
  {
   "cell_type": "markdown",
   "id": "3439a8b3",
   "metadata": {},
   "source": [
    "**The output **BoW matrix**(headline_features) is a sparse matrix:**"
   ]
  },
  {
   "cell_type": "code",
   "execution_count": 109,
   "id": "c6435feb",
   "metadata": {},
   "outputs": [],
   "source": [
    "pd.set_option('display.max_colwidth', None)  # To display a very long headline completely"
   ]
  },
  {
   "cell_type": "code",
   "execution_count": 207,
   "id": "7a663b0a",
   "metadata": {},
   "outputs": [],
   "source": [
    "from sklearn.metrics import pairwise_distances\n",
    "def bag_of_words_based_model(row_index, num_similar_items):\n",
    "    couple_dist = pairwise_distances(headline_features,headline_features[row_index])\n",
    "    indices = np.argsort(couple_dist.ravel())[0:num_similar_items]\n",
    "    df = pd.DataFrame({'publish_date': news_dataset['date'][indices].values,\n",
    "               'headline': news_dataset['headline'][indices].values,\n",
    "                'Euclidean similarity with the queried article': 1/couple_dist[indices].ravel()})\n",
    "    print(\"=\"*30,\"Queried article details\",\"=\"*30)\n",
    "    print('headline : ', news_dataset['headline'][indices[0]])\n",
    "    print(\"\\n\",\"=\"*25,\"Recommended articles : \",\"=\"*23)\n",
    "    #return df.iloc[1:,1]\n",
    "    return df.sort_values(by='Euclidean similarity with the queried article', ascending=False)"
   ]
  },
  {
   "cell_type": "code",
   "execution_count": 208,
   "id": "15c964e7",
   "metadata": {},
   "outputs": [
    {
     "name": "stdout",
     "output_type": "stream",
     "text": [
      "============================== Queried article details ==============================\n",
      "headline :  Will Smith Joins Diplo And Nicky Jam For The 2018 World Cup's Official Song\n",
      "\n",
      " ========================= Recommended articles :  =======================\n"
     ]
    },
    {
     "name": "stderr",
     "output_type": "stream",
     "text": [
      "C:\\Users\\mohamed\\AppData\\Local\\Temp\\ipykernel_6956\\3241315638.py:7: RuntimeWarning:\n",
      "\n",
      "divide by zero encountered in divide\n",
      "\n"
     ]
    },
    {
     "data": {
      "text/html": [
       "<div>\n",
       "<style scoped>\n",
       "    .dataframe tbody tr th:only-of-type {\n",
       "        vertical-align: middle;\n",
       "    }\n",
       "\n",
       "    .dataframe tbody tr th {\n",
       "        vertical-align: top;\n",
       "    }\n",
       "\n",
       "    .dataframe thead th {\n",
       "        text-align: right;\n",
       "    }\n",
       "</style>\n",
       "<table border=\"1\" class=\"dataframe\">\n",
       "  <thead>\n",
       "    <tr style=\"text-align: right;\">\n",
       "      <th></th>\n",
       "      <th>publish_date</th>\n",
       "      <th>headline</th>\n",
       "      <th>Euclidean similarity with the queried article</th>\n",
       "    </tr>\n",
       "  </thead>\n",
       "  <tbody>\n",
       "    <tr>\n",
       "      <th>0</th>\n",
       "      <td>2018-05-26</td>\n",
       "      <td>Will Smith Joins Diplo And Nicky Jam For The 2018 World Cup's Official Song</td>\n",
       "      <td>inf</td>\n",
       "    </tr>\n",
       "    <tr>\n",
       "      <th>1</th>\n",
       "      <td>2017-06-09</td>\n",
       "      <td>Evidence Is Strong That Trump Obstructed Justice: The Basics</td>\n",
       "      <td>0.267261</td>\n",
       "    </tr>\n",
       "    <tr>\n",
       "      <th>2</th>\n",
       "      <td>2017-05-26</td>\n",
       "      <td>People Whose IDs Were Stolen In Bot Push Against Net Neutrality Demand FCC Probe</td>\n",
       "      <td>0.258199</td>\n",
       "    </tr>\n",
       "    <tr>\n",
       "      <th>3</th>\n",
       "      <td>2017-11-09</td>\n",
       "      <td>If This Case Is Heard By The Supreme Court, It Could End The Death Penalty</td>\n",
       "      <td>0.258199</td>\n",
       "    </tr>\n",
       "    <tr>\n",
       "      <th>4</th>\n",
       "      <td>2017-03-22</td>\n",
       "      <td>Suspected U.S. Airstrike Hits School Sheltering Displaced People In Syria</td>\n",
       "      <td>0.258199</td>\n",
       "    </tr>\n",
       "    <tr>\n",
       "      <th>5</th>\n",
       "      <td>2018-03-08</td>\n",
       "      <td>Stormy Who? Democratic Leaders Won't Talk About Trump's Porn Star Payoff</td>\n",
       "      <td>0.250000</td>\n",
       "    </tr>\n",
       "    <tr>\n",
       "      <th>6</th>\n",
       "      <td>2017-10-02</td>\n",
       "      <td>How Hurricane Responders Track People Whose Lives Depend On Power</td>\n",
       "      <td>0.250000</td>\n",
       "    </tr>\n",
       "    <tr>\n",
       "      <th>7</th>\n",
       "      <td>2017-07-18</td>\n",
       "      <td>News Roundup for July 18, 2017</td>\n",
       "      <td>0.250000</td>\n",
       "    </tr>\n",
       "    <tr>\n",
       "      <th>8</th>\n",
       "      <td>2017-10-02</td>\n",
       "      <td>Here’s How A Guy Can Stroll Into A Las Vegas Hotel With An Arsenal</td>\n",
       "      <td>0.250000</td>\n",
       "    </tr>\n",
       "    <tr>\n",
       "      <th>9</th>\n",
       "      <td>2017-12-11</td>\n",
       "      <td>Boxer Stephen Smith Nearly Loses Ear. We Nearly Lose Our Lunch. (GRAPHIC)</td>\n",
       "      <td>0.250000</td>\n",
       "    </tr>\n",
       "    <tr>\n",
       "      <th>10</th>\n",
       "      <td>2017-10-28</td>\n",
       "      <td>Because Sexual Abuse Is The Old Normal</td>\n",
       "      <td>0.250000</td>\n",
       "    </tr>\n",
       "  </tbody>\n",
       "</table>\n",
       "</div>"
      ],
      "text/plain": [
       "   publish_date  \\\n",
       "0    2018-05-26   \n",
       "1    2017-06-09   \n",
       "2    2017-05-26   \n",
       "3    2017-11-09   \n",
       "4    2017-03-22   \n",
       "5    2018-03-08   \n",
       "6    2017-10-02   \n",
       "7    2017-07-18   \n",
       "8    2017-10-02   \n",
       "9    2017-12-11   \n",
       "10   2017-10-28   \n",
       "\n",
       "                                                                            headline  \\\n",
       "0        Will Smith Joins Diplo And Nicky Jam For The 2018 World Cup's Official Song   \n",
       "1                       Evidence Is Strong That Trump Obstructed Justice: The Basics   \n",
       "2   People Whose IDs Were Stolen In Bot Push Against Net Neutrality Demand FCC Probe   \n",
       "3         If This Case Is Heard By The Supreme Court, It Could End The Death Penalty   \n",
       "4          Suspected U.S. Airstrike Hits School Sheltering Displaced People In Syria   \n",
       "5           Stormy Who? Democratic Leaders Won't Talk About Trump's Porn Star Payoff   \n",
       "6                  How Hurricane Responders Track People Whose Lives Depend On Power   \n",
       "7                                                     News Roundup for July 18, 2017   \n",
       "8                 Here’s How A Guy Can Stroll Into A Las Vegas Hotel With An Arsenal   \n",
       "9          Boxer Stephen Smith Nearly Loses Ear. We Nearly Lose Our Lunch. (GRAPHIC)   \n",
       "10                                            Because Sexual Abuse Is The Old Normal   \n",
       "\n",
       "    Euclidean similarity with the queried article  \n",
       "0                                             inf  \n",
       "1                                        0.267261  \n",
       "2                                        0.258199  \n",
       "3                                        0.258199  \n",
       "4                                        0.258199  \n",
       "5                                        0.250000  \n",
       "6                                        0.250000  \n",
       "7                                        0.250000  \n",
       "8                                        0.250000  \n",
       "9                                        0.250000  \n",
       "10                                       0.250000  "
      ]
     },
     "execution_count": 208,
     "metadata": {},
     "output_type": "execute_result"
    }
   ],
   "source": [
    "bag_of_words_based_model(1, 11) # Change the row index for any other queried article"
   ]
  },
  {
   "cell_type": "markdown",
   "id": "e792a4dc",
   "metadata": {},
   "source": [
    "Above function recommends **10 similar** articles to the **queried**(read) article based on the headline. It accepts two arguments - index of already read artile and the total number of articles to be recommended.\n",
    "\n",
    "Based on the **Euclidean distance** it finds out 10 nearest neighbors and recommends. \n",
    "\n",
    "**Disadvantages**\n",
    "1. It gives very low **importance** to less frequently observed words in the corpus. Few words from the queried article like \"employer\", \"flip\", \"fire\" appear less frequently in the entire corpus so **BoW** method does not recommend any article whose headline contains these words. Since **trump** is commonly observed word in the corpus so it is recommending the articles with headline containing \"trump\".   \n",
    "2. **BoW** method doesn't preserve the order of words.\n",
    "\n",
    "To overcome the first disadvantage we use **TF-IDF** method for feature representation."
   ]
  },
  {
   "cell_type": "markdown",
   "id": "29c8ec75",
   "metadata": {},
   "source": [
    "### b. TF-IDF method:"
   ]
  },
  {
   "cell_type": "markdown",
   "id": "3a1c1f5c",
   "metadata": {},
   "source": [
    "* Term Frequency-Inverse Document Frequency (TF-IDF) is a text representation approach that takes into account the frequency of occurrence of each word in a document and the frequency of the word in the entire corpus.\n",
    "* TF-IDF gives more importance to less frequent words in a corpus. It assigns a weight to each term(word) in a document based on Term frequency(TF) and inverse document frequency(IDF).\n",
    "###### TF(i,j) = (# times word i appears in document j) / (# words in document j)\n",
    "    IDF(i,D) = log_e(#documents in the corpus D) / (#documents containing word i)\n",
    "    weight(i,j) = TF(i,j) x IDF(i,D)\n",
    "    So if a word occurs more number of times in a document but less number of times in\n",
    "    all other documents then its TF-IDF value will be high.\n",
    "    In this project, along with TF-IDF, we also experimented with cosine similarity,\n",
    "    Euclidean distance, and Pearson Correlation for recommending articles."
   ]
  },
  {
   "cell_type": "markdown",
   "id": "24cc6b42",
   "metadata": {},
   "source": [
    "**With TF-IDF, we will be experimentingwith cosine similarity, euclidean similarity, and pearson correlation, to find which one gives best results**"
   ]
  },
  {
   "cell_type": "code",
   "execution_count": 38,
   "id": "ea5e779b",
   "metadata": {},
   "outputs": [],
   "source": [
    "# Importing necessary libraries for this section\n",
    "from sklearn.feature_extraction.text import TfidfVectorizer\n",
    "from sklearn.metrics.pairwise import cosine_similarity\n",
    "from scipy.sparse import csr_matrix"
   ]
  },
  {
   "cell_type": "code",
   "execution_count": 39,
   "id": "4ba2cb08",
   "metadata": {
    "scrolled": true
   },
   "outputs": [
    {
     "data": {
      "text/html": [
       "<div>\n",
       "<style scoped>\n",
       "    .dataframe tbody tr th:only-of-type {\n",
       "        vertical-align: middle;\n",
       "    }\n",
       "\n",
       "    .dataframe tbody tr th {\n",
       "        vertical-align: top;\n",
       "    }\n",
       "\n",
       "    .dataframe thead th {\n",
       "        text-align: right;\n",
       "    }\n",
       "</style>\n",
       "<table border=\"1\" class=\"dataframe\">\n",
       "  <thead>\n",
       "    <tr style=\"text-align: right;\">\n",
       "      <th></th>\n",
       "      <th>category</th>\n",
       "      <th>headline</th>\n",
       "      <th>authors</th>\n",
       "      <th>short_description</th>\n",
       "      <th>date</th>\n",
       "      <th>day and month</th>\n",
       "    </tr>\n",
       "  </thead>\n",
       "  <tbody>\n",
       "    <tr>\n",
       "      <th>0</th>\n",
       "      <td>CRIME</td>\n",
       "      <td>['2', 'Mass', 'Shootings', 'Texas', 'Last', 'Week', ',', '1', 'TV']</td>\n",
       "      <td>Melissa Jeltsen</td>\n",
       "      <td>['left', 'husband', '.', 'killed', 'child', '.', 'another', 'day', 'America', '.']</td>\n",
       "      <td>2018-05-26</td>\n",
       "      <td>Sat_May</td>\n",
       "    </tr>\n",
       "    <tr>\n",
       "      <th>1</th>\n",
       "      <td>ENTERTAINMENT</td>\n",
       "      <td>['Smith', 'Joins', 'Diplo', 'Nicky', 'Jam', '2018', 'World', 'Cup', \"'s\", 'Official', 'Song']</td>\n",
       "      <td>Andy McDonald</td>\n",
       "      <td>['course', 'song', '.']</td>\n",
       "      <td>2018-05-26</td>\n",
       "      <td>Sat_May</td>\n",
       "    </tr>\n",
       "    <tr>\n",
       "      <th>2</th>\n",
       "      <td>ENTERTAINMENT</td>\n",
       "      <td>['Hugh', 'Grant', 'Marries', 'First', 'Time', 'Age', '57']</td>\n",
       "      <td>Ron Dicker</td>\n",
       "      <td>['actor', 'longtime', 'girlfriend', 'Anna', 'Eberstein', 'tied', 'knot', 'civil', 'ceremony', '.']</td>\n",
       "      <td>2018-05-26</td>\n",
       "      <td>Sat_May</td>\n",
       "    </tr>\n",
       "    <tr>\n",
       "      <th>3</th>\n",
       "      <td>ENTERTAINMENT</td>\n",
       "      <td>['Jim', 'Carrey', 'Blasts', \"'Castrato\", \"'\", 'Adam', 'Schiff', 'Democrats', 'New', 'Artwork']</td>\n",
       "      <td>Ron Dicker</td>\n",
       "      <td>['actor', 'give', 'Dems', 'ass-kicking', 'fighting', 'hard', 'enough', 'Donald', 'Trump', '.']</td>\n",
       "      <td>2018-05-26</td>\n",
       "      <td>Sat_May</td>\n",
       "    </tr>\n",
       "    <tr>\n",
       "      <th>4</th>\n",
       "      <td>ENTERTAINMENT</td>\n",
       "      <td>['Julianna', 'Margulies', 'Uses', 'Donald', 'Trump', 'Poop', 'Bags', 'Pick', 'Dog']</td>\n",
       "      <td>Ron Dicker</td>\n",
       "      <td>['``', 'Dietland', \"''\", 'actress', 'said', 'using', 'bag', '``', 'really', 'cathartic', ',', 'therapeutic', 'moment', '.', \"''\"]</td>\n",
       "      <td>2018-05-26</td>\n",
       "      <td>Sat_May</td>\n",
       "    </tr>\n",
       "  </tbody>\n",
       "</table>\n",
       "</div>"
      ],
      "text/plain": [
       "        category  \\\n",
       "0          CRIME   \n",
       "1  ENTERTAINMENT   \n",
       "2  ENTERTAINMENT   \n",
       "3  ENTERTAINMENT   \n",
       "4  ENTERTAINMENT   \n",
       "\n",
       "                                                                                         headline  \\\n",
       "0                             ['2', 'Mass', 'Shootings', 'Texas', 'Last', 'Week', ',', '1', 'TV']   \n",
       "1   ['Smith', 'Joins', 'Diplo', 'Nicky', 'Jam', '2018', 'World', 'Cup', \"'s\", 'Official', 'Song']   \n",
       "2                                      ['Hugh', 'Grant', 'Marries', 'First', 'Time', 'Age', '57']   \n",
       "3  ['Jim', 'Carrey', 'Blasts', \"'Castrato\", \"'\", 'Adam', 'Schiff', 'Democrats', 'New', 'Artwork']   \n",
       "4             ['Julianna', 'Margulies', 'Uses', 'Donald', 'Trump', 'Poop', 'Bags', 'Pick', 'Dog']   \n",
       "\n",
       "           authors  \\\n",
       "0  Melissa Jeltsen   \n",
       "1    Andy McDonald   \n",
       "2       Ron Dicker   \n",
       "3       Ron Dicker   \n",
       "4       Ron Dicker   \n",
       "\n",
       "                                                                                                                   short_description  \\\n",
       "0                                                 ['left', 'husband', '.', 'killed', 'child', '.', 'another', 'day', 'America', '.']   \n",
       "1                                                                                                            ['course', 'song', '.']   \n",
       "2                                 ['actor', 'longtime', 'girlfriend', 'Anna', 'Eberstein', 'tied', 'knot', 'civil', 'ceremony', '.']   \n",
       "3                                     ['actor', 'give', 'Dems', 'ass-kicking', 'fighting', 'hard', 'enough', 'Donald', 'Trump', '.']   \n",
       "4  ['``', 'Dietland', \"''\", 'actress', 'said', 'using', 'bag', '``', 'really', 'cathartic', ',', 'therapeutic', 'moment', '.', \"''\"]   \n",
       "\n",
       "         date day and month  \n",
       "0  2018-05-26       Sat_May  \n",
       "1  2018-05-26       Sat_May  \n",
       "2  2018-05-26       Sat_May  \n",
       "3  2018-05-26       Sat_May  \n",
       "4  2018-05-26       Sat_May  "
      ]
     },
     "execution_count": 39,
     "metadata": {},
     "output_type": "execute_result"
    }
   ],
   "source": [
    "news_dataset.head(10000).to_csv('Reduced_Processed_Data2.csv', index=False)\n",
    "tfidf_data_processed = pd.read_csv('Reduced_Processed_Data2.csv')\n",
    "tfidf_data_processed.head()"
   ]
  },
  {
   "cell_type": "code",
   "execution_count": 153,
   "id": "d1c38652",
   "metadata": {},
   "outputs": [],
   "source": [
    "tfidf_vectorizer = TfidfVectorizer(min_df = 0)\n",
    "\n",
    "# fit and transform the text column into a TF-IDF matrix\n",
    "tfidf_matrix = tfidf_vectorizer.fit_transform(news_dataset_processed['headline'])"
   ]
  },
  {
   "cell_type": "code",
   "execution_count": 154,
   "id": "9f48bc7d",
   "metadata": {},
   "outputs": [],
   "source": [
    "#Converting to sparse matrices\n",
    "sparse_tfidf = csr_matrix(tfidf_matrix)\n",
    "\n",
    "# calculate the cosine similarity matrix of the TF-IDF matrix\n",
    "cosine_sim = cosine_similarity(sparse_tfidf)"
   ]
  },
  {
   "cell_type": "code",
   "execution_count": 155,
   "id": "9bb63425",
   "metadata": {},
   "outputs": [],
   "source": [
    "# define a function to get the top n similar articles based on cosine similarity\n",
    "def get_top_similar_articles(article_index, n=10):\n",
    "    # get the pairwise similarity scores of the article with all other articles\n",
    "    similarity_scores = list(enumerate(cosine_sim[article_index]))\n",
    "\n",
    "    # sort the articles based on their similarity scores\n",
    "    similarity_scores = sorted(similarity_scores, key=lambda x: x[1], reverse=True)\n",
    "\n",
    "    # get the top n similar articles (excluding itself)\n",
    "    sim_scores = similarity_scores[1:n+1]\n",
    "    headlines_idx = [i[0] for i in sim_scores]\n",
    "    similarity_scores = [i[1] for i in sim_scores]\n",
    "\n",
    "    df = pd.DataFrame({'publish_date': news_dataset['date'][headlines_idx].values,\n",
    "               'headline': news_dataset['headline'][headlines_idx].values,\n",
    "                'author': news_dataset['authors'][headlines_idx].values,\n",
    "                'Cosine similarity with the queried article': similarity_scores\n",
    "                      })\n",
    "    pd.options.display.max_colwidth = 100\n",
    "    print(\"=\"*30,\"Queried article details\",\"=\"*30)\n",
    "    print('headline : ',news_dataset['headline'][headlines_idx[0]])\n",
    "    print(\"\\n\",\"=\"*25,\"Recommended articles : \",\"=\"*23)\n",
    "    return df.sort_values(by='Cosine similarity with the queried article', ascending=False)"
   ]
  },
  {
   "cell_type": "code",
   "execution_count": 156,
   "id": "32ffa9fc",
   "metadata": {},
   "outputs": [
    {
     "name": "stdout",
     "output_type": "stream",
     "text": [
      "============================== Queried article details ==============================\n",
      "headline :  Rock & Roll Hall Of Fame Might Induct Radiohead In 2018\n",
      "\n",
      " ========================= Recommended articles :  =======================\n"
     ]
    },
    {
     "data": {
      "text/html": [
       "<div>\n",
       "<style scoped>\n",
       "    .dataframe tbody tr th:only-of-type {\n",
       "        vertical-align: middle;\n",
       "    }\n",
       "\n",
       "    .dataframe tbody tr th {\n",
       "        vertical-align: top;\n",
       "    }\n",
       "\n",
       "    .dataframe thead th {\n",
       "        text-align: right;\n",
       "    }\n",
       "</style>\n",
       "<table border=\"1\" class=\"dataframe\">\n",
       "  <thead>\n",
       "    <tr style=\"text-align: right;\">\n",
       "      <th></th>\n",
       "      <th>publish_date</th>\n",
       "      <th>headline</th>\n",
       "      <th>author</th>\n",
       "      <th>Cosine similarity with the queried article</th>\n",
       "    </tr>\n",
       "  </thead>\n",
       "  <tbody>\n",
       "    <tr>\n",
       "      <th>0</th>\n",
       "      <td>2017-10-05</td>\n",
       "      <td>Rock &amp; Roll Hall Of Fame Might Induct Radiohead In 2018</td>\n",
       "      <td>Todd Van Luling</td>\n",
       "      <td>0.402405</td>\n",
       "    </tr>\n",
       "    <tr>\n",
       "      <th>1</th>\n",
       "      <td>2018-02-23</td>\n",
       "      <td>Kim Cattrall’s 'Sex And The City' Boo Sides With Sarah Jessica Parker</td>\n",
       "      <td>Elyse Wanshel</td>\n",
       "      <td>0.393565</td>\n",
       "    </tr>\n",
       "    <tr>\n",
       "      <th>2</th>\n",
       "      <td>2017-10-09</td>\n",
       "      <td>Cheap Weekend Getaways Where You Can See Peak Foliage In Action</td>\n",
       "      <td>Brittany Nims</td>\n",
       "      <td>0.383663</td>\n",
       "    </tr>\n",
       "    <tr>\n",
       "      <th>3</th>\n",
       "      <td>2018-02-15</td>\n",
       "      <td>Rapper French Montana Launches Campaign To Help Dreamers Go To College</td>\n",
       "      <td>Carolina Moreno</td>\n",
       "      <td>0.380069</td>\n",
       "    </tr>\n",
       "    <tr>\n",
       "      <th>4</th>\n",
       "      <td>2017-10-05</td>\n",
       "      <td>The Moment Bernie Sanders And Larry David Find Out They're Related Is Too Good</td>\n",
       "      <td>Rebecca Shapiro</td>\n",
       "      <td>0.373552</td>\n",
       "    </tr>\n",
       "  </tbody>\n",
       "</table>\n",
       "</div>"
      ],
      "text/plain": [
       "  publish_date  \\\n",
       "0   2017-10-05   \n",
       "1   2018-02-23   \n",
       "2   2017-10-09   \n",
       "3   2018-02-15   \n",
       "4   2017-10-05   \n",
       "\n",
       "                                                                         headline  \\\n",
       "0                         Rock & Roll Hall Of Fame Might Induct Radiohead In 2018   \n",
       "1           Kim Cattrall’s 'Sex And The City' Boo Sides With Sarah Jessica Parker   \n",
       "2                 Cheap Weekend Getaways Where You Can See Peak Foliage In Action   \n",
       "3          Rapper French Montana Launches Campaign To Help Dreamers Go To College   \n",
       "4  The Moment Bernie Sanders And Larry David Find Out They're Related Is Too Good   \n",
       "\n",
       "            author  Cosine similarity with the queried article  \n",
       "0  Todd Van Luling                                    0.402405  \n",
       "1    Elyse Wanshel                                    0.393565  \n",
       "2    Brittany Nims                                    0.383663  \n",
       "3  Carolina Moreno                                    0.380069  \n",
       "4  Rebecca Shapiro                                    0.373552  "
      ]
     },
     "execution_count": 156,
     "metadata": {},
     "output_type": "execute_result"
    }
   ],
   "source": [
    "# get the top 10 similar articles to the first article in the dataset\n",
    "get_top_similar_articles(0, n=5)"
   ]
  },
  {
   "cell_type": "markdown",
   "id": "0e78197a",
   "metadata": {},
   "source": [
    "- Now lets experiment using Euclidean Similarity"
   ]
  },
  {
   "cell_type": "code",
   "execution_count": 157,
   "id": "88cf19fd",
   "metadata": {},
   "outputs": [],
   "source": [
    "from sklearn.metrics import pairwise_distances\n",
    "\n",
    "# define a function to get the top n similar articles based on euclidean similarity\n",
    "def get_top_similar_articles_euclidean(row_index, n):\n",
    "    dist = pairwise_distances(tfidf_matrix,tfidf_matrix[row_index])\n",
    "    indices = np.argsort(dist.ravel())[0:n]\n",
    "    df = pd.DataFrame({'publish_date': news_dataset['date'][indices].values,\n",
    "               'headline':news_dataset['headline'][indices].values,\n",
    "                'Euclidean similarity with the queried article': 1/dist[indices].ravel()})\n",
    "    #pd.options.display.max_colwidth = 100\n",
    "    print(\"=\"*30,\"Queried article details\",\"=\"*30)\n",
    "    print('headline : ',news_dataset['headline'][indices[0]])\n",
    "    print(\"\\n\",\"=\"*25,\"Recommended articles : \",\"=\"*23)\n",
    "    \n",
    "    #return df.iloc[1:,1]\n",
    "    return df.iloc[1:,].sort_values(by='Euclidean similarity with the queried article', ascending=False)"
   ]
  },
  {
   "cell_type": "code",
   "execution_count": 158,
   "id": "0b57515f",
   "metadata": {},
   "outputs": [
    {
     "name": "stdout",
     "output_type": "stream",
     "text": [
      "============================== Queried article details ==============================\n",
      "headline :  There Were 2 Mass Shootings In Texas Last Week, But Only 1 On TV\n",
      "\n",
      " ========================= Recommended articles :  =======================\n"
     ]
    },
    {
     "name": "stderr",
     "output_type": "stream",
     "text": [
      "C:\\Users\\mohamed\\AppData\\Local\\Temp\\ipykernel_6956\\2887321684.py:8: RuntimeWarning:\n",
      "\n",
      "divide by zero encountered in divide\n",
      "\n"
     ]
    },
    {
     "data": {
      "text/html": [
       "<div>\n",
       "<style scoped>\n",
       "    .dataframe tbody tr th:only-of-type {\n",
       "        vertical-align: middle;\n",
       "    }\n",
       "\n",
       "    .dataframe tbody tr th {\n",
       "        vertical-align: top;\n",
       "    }\n",
       "\n",
       "    .dataframe thead th {\n",
       "        text-align: right;\n",
       "    }\n",
       "</style>\n",
       "<table border=\"1\" class=\"dataframe\">\n",
       "  <thead>\n",
       "    <tr style=\"text-align: right;\">\n",
       "      <th></th>\n",
       "      <th>publish_date</th>\n",
       "      <th>headline</th>\n",
       "      <th>Euclidean similarity with the queried article</th>\n",
       "    </tr>\n",
       "  </thead>\n",
       "  <tbody>\n",
       "    <tr>\n",
       "      <th>1</th>\n",
       "      <td>2017-10-05</td>\n",
       "      <td>Rock &amp; Roll Hall Of Fame Might Induct Radiohead In 2018</td>\n",
       "      <td>0.914706</td>\n",
       "    </tr>\n",
       "    <tr>\n",
       "      <th>2</th>\n",
       "      <td>2018-02-23</td>\n",
       "      <td>Kim Cattrall’s 'Sex And The City' Boo Sides With Sarah Jessica Parker</td>\n",
       "      <td>0.908015</td>\n",
       "    </tr>\n",
       "    <tr>\n",
       "      <th>3</th>\n",
       "      <td>2017-10-09</td>\n",
       "      <td>Cheap Weekend Getaways Where You Can See Peak Foliage In Action</td>\n",
       "      <td>0.900691</td>\n",
       "    </tr>\n",
       "    <tr>\n",
       "      <th>4</th>\n",
       "      <td>2018-02-15</td>\n",
       "      <td>Rapper French Montana Launches Campaign To Help Dreamers Go To College</td>\n",
       "      <td>0.898076</td>\n",
       "    </tr>\n",
       "  </tbody>\n",
       "</table>\n",
       "</div>"
      ],
      "text/plain": [
       "  publish_date  \\\n",
       "1   2017-10-05   \n",
       "2   2018-02-23   \n",
       "3   2017-10-09   \n",
       "4   2018-02-15   \n",
       "\n",
       "                                                                 headline  \\\n",
       "1                 Rock & Roll Hall Of Fame Might Induct Radiohead In 2018   \n",
       "2   Kim Cattrall’s 'Sex And The City' Boo Sides With Sarah Jessica Parker   \n",
       "3         Cheap Weekend Getaways Where You Can See Peak Foliage In Action   \n",
       "4  Rapper French Montana Launches Campaign To Help Dreamers Go To College   \n",
       "\n",
       "   Euclidean similarity with the queried article  \n",
       "1                                       0.914706  \n",
       "2                                       0.908015  \n",
       "3                                       0.900691  \n",
       "4                                       0.898076  "
      ]
     },
     "execution_count": 158,
     "metadata": {},
     "output_type": "execute_result"
    }
   ],
   "source": [
    "# get the top 10 similar articles to the first article in the dataset\n",
    "get_top_similar_articles_euclidean(0, n=5)"
   ]
  },
  {
   "cell_type": "markdown",
   "id": "20beff5c",
   "metadata": {},
   "source": [
    "### Till now, we experimented with Cosine Similarity and Euclidean Similarity. \n",
    "### Pearson Correlation Coefficient."
   ]
  },
  {
   "cell_type": "code",
   "execution_count": 159,
   "id": "1ba8fb18",
   "metadata": {},
   "outputs": [],
   "source": [
    "tfidf_array = tfidf_matrix.toarray()\n",
    "tfidf_mean = np.mean(tfidf_array, axis=0)\n",
    "tfidf_std = np.std(tfidf_array, axis=0)\n",
    "tfidf_normalized = (tfidf_array - tfidf_mean) / tfidf_std\n",
    "pearson_sim = np.corrcoef(tfidf_normalized)"
   ]
  },
  {
   "cell_type": "markdown",
   "id": "0ceb7736",
   "metadata": {},
   "source": [
    "**function to get top N most similar articles:**"
   ]
  },
  {
   "cell_type": "code",
   "execution_count": 160,
   "id": "24518e81",
   "metadata": {},
   "outputs": [],
   "source": [
    "def get_similar_articles(article_idx, n):\n",
    "    # Get the Pearson correlation scores of the article\n",
    "    article_scores = list(enumerate(pearson_sim[article_idx]))\n",
    "    # Sort the articles by Pearson correlation scores\n",
    "    article_scores = sorted(article_scores, key=lambda x: x[1], reverse=True)\n",
    "    # Get the top n most similar articles (excluding itself)\n",
    "    pearson_values = article_scores[1:n+1]\n",
    "    \n",
    "    headlines_idx = [i[0] for i in pearson_values]\n",
    "    similarity_scores = [i[1] for i in pearson_values]\n",
    "    \n",
    "    #Dataframe for displaying results\n",
    "    df = pd.DataFrame({'publish_date': news_dataset['date'][headlines_idx].values,\n",
    "                       'headline': news_dataset['headline'][headlines_idx].values,\n",
    "                       'Pearson with the queried article': similarity_scores})\n",
    "    #pd.options.display.max_colwidth = 100\n",
    "    print(\"=\"*30,\"Queried article details\",\"=\"*30)\n",
    "    print('headline : ', news_dataset['headline'][headlines_idx[0]])\n",
    "    print(\"\\n\",\"=\"*25,\"Recommended articles : \",\"=\"*23)\n",
    "    return df.sort_values(by='Pearson with the queried article', ascending=False)"
   ]
  },
  {
   "cell_type": "code",
   "execution_count": 161,
   "id": "b5c4b76e",
   "metadata": {},
   "outputs": [
    {
     "name": "stdout",
     "output_type": "stream",
     "text": [
      "============================== Queried article details ==============================\n",
      "headline :  Already Threatened Polar Bears Face Food Shortage Crisis Amid Climate Change\n",
      "\n",
      " ========================= Recommended articles :  =======================\n"
     ]
    },
    {
     "data": {
      "text/html": [
       "<div>\n",
       "<style scoped>\n",
       "    .dataframe tbody tr th:only-of-type {\n",
       "        vertical-align: middle;\n",
       "    }\n",
       "\n",
       "    .dataframe tbody tr th {\n",
       "        vertical-align: top;\n",
       "    }\n",
       "\n",
       "    .dataframe thead th {\n",
       "        text-align: right;\n",
       "    }\n",
       "</style>\n",
       "<table border=\"1\" class=\"dataframe\">\n",
       "  <thead>\n",
       "    <tr style=\"text-align: right;\">\n",
       "      <th></th>\n",
       "      <th>publish_date</th>\n",
       "      <th>headline</th>\n",
       "      <th>Pearson with the queried article</th>\n",
       "    </tr>\n",
       "  </thead>\n",
       "  <tbody>\n",
       "    <tr>\n",
       "      <th>0</th>\n",
       "      <td>2018-02-02</td>\n",
       "      <td>Already Threatened Polar Bears Face Food Shortage Crisis Amid Climate Change</td>\n",
       "      <td>0.557030</td>\n",
       "    </tr>\n",
       "    <tr>\n",
       "      <th>1</th>\n",
       "      <td>2018-01-16</td>\n",
       "      <td>Keira Knightley Is Sick Of Female Characters Getting Raped All The Time</td>\n",
       "      <td>0.545168</td>\n",
       "    </tr>\n",
       "    <tr>\n",
       "      <th>2</th>\n",
       "      <td>2017-05-03</td>\n",
       "      <td>Queer Community Ready To Wage War On Trump's Rumored 'Religious Freedom' Order</td>\n",
       "      <td>0.220049</td>\n",
       "    </tr>\n",
       "    <tr>\n",
       "      <th>3</th>\n",
       "      <td>2018-04-18</td>\n",
       "      <td>Nikki Haley Hits Back At White House: 'I Don't Get Confused'</td>\n",
       "      <td>0.162319</td>\n",
       "    </tr>\n",
       "    <tr>\n",
       "      <th>4</th>\n",
       "      <td>2017-02-02</td>\n",
       "      <td>Spuds MacKenzie Returns In Bud Light Super Bowl Ad</td>\n",
       "      <td>0.156712</td>\n",
       "    </tr>\n",
       "    <tr>\n",
       "      <th>5</th>\n",
       "      <td>2017-03-07</td>\n",
       "      <td>HUFFPOST HILL - 'Geez, Look At The SIZE Of That Thing!' An Accepted Political Argument Now</td>\n",
       "      <td>0.143842</td>\n",
       "    </tr>\n",
       "    <tr>\n",
       "      <th>6</th>\n",
       "      <td>2017-07-26</td>\n",
       "      <td>14 Photos Show The Utter Bravery Of Serving While Trans</td>\n",
       "      <td>0.113395</td>\n",
       "    </tr>\n",
       "    <tr>\n",
       "      <th>7</th>\n",
       "      <td>2017-11-04</td>\n",
       "      <td>George H.W. Bush Called Trump A 'Blowhard' And Said, 'I Don't Like Him'</td>\n",
       "      <td>0.104539</td>\n",
       "    </tr>\n",
       "    <tr>\n",
       "      <th>8</th>\n",
       "      <td>2017-03-09</td>\n",
       "      <td>China Moves To Approve At Least 35 Trump Trademarks</td>\n",
       "      <td>0.103303</td>\n",
       "    </tr>\n",
       "    <tr>\n",
       "      <th>9</th>\n",
       "      <td>2018-04-17</td>\n",
       "      <td>Facebook Didn’t Seem To Care I Was Being Sexually Harassed Until I Decided To Write About It</td>\n",
       "      <td>0.099381</td>\n",
       "    </tr>\n",
       "    <tr>\n",
       "      <th>10</th>\n",
       "      <td>2017-10-03</td>\n",
       "      <td>Why I Voted For Roy Moore, Twice</td>\n",
       "      <td>0.095568</td>\n",
       "    </tr>\n",
       "    <tr>\n",
       "      <th>11</th>\n",
       "      <td>2017-08-02</td>\n",
       "      <td>Trump Claims Mexico's President Praised His Border Policy. Mexico Says Nope.</td>\n",
       "      <td>0.095531</td>\n",
       "    </tr>\n",
       "    <tr>\n",
       "      <th>12</th>\n",
       "      <td>2017-12-01</td>\n",
       "      <td>Trump White House Furiously Tries To Distance Itself From Michael Flynn</td>\n",
       "      <td>0.084353</td>\n",
       "    </tr>\n",
       "    <tr>\n",
       "      <th>13</th>\n",
       "      <td>2018-02-06</td>\n",
       "      <td>At Least 5 Killed After Magnitude 6.4 Earthquake Strikes Taiwan</td>\n",
       "      <td>0.081760</td>\n",
       "    </tr>\n",
       "    <tr>\n",
       "      <th>14</th>\n",
       "      <td>2017-04-05</td>\n",
       "      <td>How The Trump Budget Undercuts Security Risks Posed By Pandemics</td>\n",
       "      <td>0.079282</td>\n",
       "    </tr>\n",
       "  </tbody>\n",
       "</table>\n",
       "</div>"
      ],
      "text/plain": [
       "   publish_date  \\\n",
       "0    2018-02-02   \n",
       "1    2018-01-16   \n",
       "2    2017-05-03   \n",
       "3    2018-04-18   \n",
       "4    2017-02-02   \n",
       "5    2017-03-07   \n",
       "6    2017-07-26   \n",
       "7    2017-11-04   \n",
       "8    2017-03-09   \n",
       "9    2018-04-17   \n",
       "10   2017-10-03   \n",
       "11   2017-08-02   \n",
       "12   2017-12-01   \n",
       "13   2018-02-06   \n",
       "14   2017-04-05   \n",
       "\n",
       "                                                                                        headline  \\\n",
       "0                   Already Threatened Polar Bears Face Food Shortage Crisis Amid Climate Change   \n",
       "1                        Keira Knightley Is Sick Of Female Characters Getting Raped All The Time   \n",
       "2                 Queer Community Ready To Wage War On Trump's Rumored 'Religious Freedom' Order   \n",
       "3                                   Nikki Haley Hits Back At White House: 'I Don't Get Confused'   \n",
       "4                                             Spuds MacKenzie Returns In Bud Light Super Bowl Ad   \n",
       "5     HUFFPOST HILL - 'Geez, Look At The SIZE Of That Thing!' An Accepted Political Argument Now   \n",
       "6                                        14 Photos Show The Utter Bravery Of Serving While Trans   \n",
       "7                        George H.W. Bush Called Trump A 'Blowhard' And Said, 'I Don't Like Him'   \n",
       "8                                            China Moves To Approve At Least 35 Trump Trademarks   \n",
       "9   Facebook Didn’t Seem To Care I Was Being Sexually Harassed Until I Decided To Write About It   \n",
       "10                                                              Why I Voted For Roy Moore, Twice   \n",
       "11                  Trump Claims Mexico's President Praised His Border Policy. Mexico Says Nope.   \n",
       "12                       Trump White House Furiously Tries To Distance Itself From Michael Flynn   \n",
       "13                               At Least 5 Killed After Magnitude 6.4 Earthquake Strikes Taiwan   \n",
       "14                              How The Trump Budget Undercuts Security Risks Posed By Pandemics   \n",
       "\n",
       "    Pearson with the queried article  \n",
       "0                           0.557030  \n",
       "1                           0.545168  \n",
       "2                           0.220049  \n",
       "3                           0.162319  \n",
       "4                           0.156712  \n",
       "5                           0.143842  \n",
       "6                           0.113395  \n",
       "7                           0.104539  \n",
       "8                           0.103303  \n",
       "9                           0.099381  \n",
       "10                          0.095568  \n",
       "11                          0.095531  \n",
       "12                          0.084353  \n",
       "13                          0.081760  \n",
       "14                          0.079282  "
      ]
     },
     "execution_count": 161,
     "metadata": {},
     "output_type": "execute_result"
    }
   ],
   "source": [
    "get_similar_articles(1, 15)"
   ]
  },
  {
   "cell_type": "markdown",
   "id": "03fce7a6",
   "metadata": {},
   "source": [
    "### c. Word2Vec:"
   ]
  },
  {
   "cell_type": "markdown",
   "id": "b2e8dd2d",
   "metadata": {},
   "source": [
    "#### Word2Vec is a text representation approach that creates vector representations of words based on their content. Word2Vec considers the words that frequently appear together in a text and creates a vector representation of the words that captures the semantic relationships. \n",
    "#### For a given corpus, during training it observes the patterns and represents each word by a d-dimensional vector.\n",
    "* In this project, the TF-IDF approach was used along with cosine similarity and\n",
    "* Euclidean distance to analyze the text in news articles and create a vector representation of the news articles and  recommend articles."
   ]
  },
  {
   "cell_type": "markdown",
   "id": "254de99f",
   "metadata": {},
   "source": [
    "##### Use code below to download the pre-trained model:\n",
    "* import gensim.downloader as api\n",
    "* path = api.load(\"word2vec-google-news-300\", return_path=True)\n",
    "* print(path)"
   ]
  },
  {
   "cell_type": "code",
   "execution_count": 49,
   "id": "731dbdfb",
   "metadata": {},
   "outputs": [],
   "source": [
    "# using of the download the pre-trained model:\n",
    "import gensim\n",
    "from gensim.models import Word2Vec\n",
    "from gensim.models import KeyedVectors\n",
    "\n",
    "# if you vector file is in binary format, change to 'binary=True'\n",
    "loaded_model = gensim.models.KeyedVectors.load_word2vec_format(\"C:\\\\Users\\\\mohamed\\\\gensim-data\\\\word2vec-google-news-300\\\\word2vec-google-news-300.gz\", binary=True)"
   ]
  },
  {
   "cell_type": "code",
   "execution_count": 50,
   "id": "30fa1a7b",
   "metadata": {},
   "outputs": [
    {
     "data": {
      "text/plain": [
       "array([-0.13867188,  0.04370117, -0.13085938, -0.16796875, -0.06054688,\n",
       "       -0.07080078,  0.00854492, -0.09960938,  0.19628906,  0.14648438,\n",
       "       -0.23046875, -0.09619141, -0.140625  ,  0.25585938, -0.16699219,\n",
       "        0.14257812, -0.16992188,  0.06884766,  0.23925781, -0.28515625,\n",
       "        0.17089844,  0.17089844,  0.05615234, -0.06445312,  0.13867188,\n",
       "        0.32226562,  0.05078125,  0.27148438, -0.00564575,  0.02587891,\n",
       "       -0.05639648,  0.03125   ,  0.171875  , -0.18261719,  0.05029297,\n",
       "       -0.01062012, -0.02600098,  0.20019531, -0.07568359,  0.125     ,\n",
       "        0.01300049, -0.17089844, -0.09667969,  0.21972656,  0.06494141,\n",
       "        0.24804688,  0.11083984,  0.0267334 , -0.10986328,  0.17578125,\n",
       "        0.328125  , -0.11865234,  0.03222656,  0.30273438,  0.09179688,\n",
       "       -0.05224609, -0.27539062, -0.046875  ,  0.20996094, -0.20410156,\n",
       "        0.10595703, -0.08398438, -0.09765625, -0.16015625, -0.0045166 ,\n",
       "        0.09228516,  0.05737305, -0.04418945,  0.06445312,  0.16992188,\n",
       "       -0.06396484,  0.02160645,  0.01672363,  0.01916504, -0.14453125,\n",
       "        0.22949219, -0.14746094,  0.05859375,  0.00610352, -0.08544922,\n",
       "        0.34960938,  0.14355469,  0.07128906, -0.0534668 ,  0.01928711,\n",
       "       -0.25      , -0.21972656, -0.2421875 ,  0.01611328, -0.01818848,\n",
       "        0.31054688,  0.08154297,  0.171875  ,  0.05664062, -0.04736328,\n",
       "       -0.07421875,  0.00244141,  0.11035156,  0.31445312, -0.05175781,\n",
       "       -0.03710938,  0.00430298,  0.08496094, -0.14453125, -0.06347656,\n",
       "        0.06298828, -0.07861328, -0.12695312,  0.15039062, -0.20214844,\n",
       "        0.05639648,  0.13769531,  0.16992188,  0.01782227, -0.07617188,\n",
       "        0.04760742,  0.16015625,  0.20214844,  0.33007812,  0.01123047,\n",
       "       -0.06787109, -0.14453125, -0.234375  ,  0.06542969,  0.06933594,\n",
       "        0.00680542,  0.04785156,  0.00430298,  0.19433594, -0.15625   ,\n",
       "       -0.34375   , -0.21777344,  0.09082031,  0.05957031,  0.07666016,\n",
       "       -0.01806641, -0.00915527,  0.03295898, -0.03027344, -0.04833984,\n",
       "        0.36132812, -0.08544922,  0.00897217, -0.15917969,  0.03344727,\n",
       "       -0.31445312,  0.13378906, -0.10839844, -0.10693359, -0.16503906,\n",
       "        0.13378906,  0.12597656, -0.33398438,  0.01257324, -0.08105469,\n",
       "       -0.05151367, -0.0071106 , -0.1015625 , -0.18652344, -0.07373047,\n",
       "       -0.10498047,  0.203125  , -0.17578125,  0.26953125,  0.00927734,\n",
       "       -0.05126953, -0.04150391,  0.01013184,  0.31640625, -0.14550781,\n",
       "        0.25      , -0.13476562,  0.10693359, -0.2578125 , -0.01000977,\n",
       "       -0.10351562,  0.27539062, -0.15722656,  0.06298828, -0.23828125,\n",
       "        0.09179688, -0.27148438,  0.18457031, -0.24023438,  0.25585938,\n",
       "        0.08300781, -0.18359375,  0.06542969,  0.1640625 , -0.00408936,\n",
       "        0.09033203,  0.00247192, -0.14355469, -0.20507812, -0.10253906,\n",
       "        0.23046875,  0.02746582,  0.19726562,  0.06884766,  0.078125  ,\n",
       "        0.05444336,  0.11865234,  0.03735352, -0.16992188,  0.00372314,\n",
       "       -0.08691406,  0.15136719,  0.24023438, -0.1015625 ,  0.02685547,\n",
       "        0.00479126,  0.10205078,  0.078125  ,  0.1640625 , -0.03979492,\n",
       "        0.27539062, -0.03540039,  0.00088882, -0.1953125 ,  0.11621094,\n",
       "        0.18652344, -0.1796875 , -0.25390625, -0.12890625,  0.00653076,\n",
       "       -0.14550781,  0.06396484,  0.11132812, -0.00793457, -0.0859375 ,\n",
       "        0.19238281,  0.18457031, -0.06445312, -0.05395508,  0.0246582 ,\n",
       "       -0.13964844,  0.10791016, -0.01855469,  0.39453125,  0.33203125,\n",
       "        0.07470703,  0.00787354, -0.12988281, -0.09814453,  0.00271606,\n",
       "        0.203125  ,  0.16894531,  0.109375  ,  0.10693359, -0.0123291 ,\n",
       "       -0.05615234,  0.04516602, -0.16992188, -0.06591797,  0.08203125,\n",
       "       -0.02038574, -0.06884766,  0.04101562,  0.0625    , -0.01586914,\n",
       "        0.12109375,  0.15917969, -0.0291748 ,  0.20019531, -0.03491211,\n",
       "        0.51171875,  0.19921875, -0.01275635,  0.00793457,  0.00714111,\n",
       "        0.140625  ,  0.15917969,  0.24511719, -0.45898438,  0.25976562,\n",
       "        0.05078125,  0.25976562, -0.08740234,  0.26171875, -0.04833984,\n",
       "       -0.25976562, -0.05541992, -0.08740234, -0.05126953, -0.10498047,\n",
       "        0.01446533, -0.08496094,  0.21386719, -0.00939941,  0.16113281,\n",
       "        0.14453125, -0.06884766,  0.00074005, -0.07226562,  0.19824219,\n",
       "       -0.04614258, -0.08740234,  0.08251953,  0.22949219,  0.05932617],\n",
       "      dtype=float32)"
      ]
     },
     "execution_count": 50,
     "metadata": {},
     "output_type": "execute_result"
    }
   ],
   "source": [
    "loaded_model['news']"
   ]
  },
  {
   "cell_type": "code",
   "execution_count": 51,
   "id": "c957015f",
   "metadata": {},
   "outputs": [
    {
     "data": {
      "text/plain": [
       "array([[ 1.1291504e-03, -8.9645386e-04,  3.1852722e-04, ...,\n",
       "        -1.5640259e-03, -1.2302399e-04, -8.6307526e-05],\n",
       "       [ 7.0312500e-02,  8.6914062e-02,  8.7890625e-02, ...,\n",
       "        -4.7607422e-02,  1.4465332e-02, -6.2500000e-02],\n",
       "       [-1.1779785e-02, -4.7363281e-02,  4.4677734e-02, ...,\n",
       "         7.1289062e-02, -3.4912109e-02,  2.4169922e-02],\n",
       "       ...,\n",
       "       [-1.9653320e-02, -9.0820312e-02, -1.9409180e-02, ...,\n",
       "        -1.6357422e-02, -1.3427734e-02,  4.6630859e-02],\n",
       "       [ 3.2714844e-02, -3.2226562e-02,  3.6132812e-02, ...,\n",
       "        -8.8500977e-03,  2.6977539e-02,  1.9042969e-02],\n",
       "       [ 4.5166016e-02, -4.5166016e-02, -3.9367676e-03, ...,\n",
       "         7.9589844e-02,  7.2265625e-02,  1.3000488e-02]], dtype=float32)"
      ]
     },
     "execution_count": 51,
     "metadata": {},
     "output_type": "execute_result"
    }
   ],
   "source": [
    "loaded_model.vectors"
   ]
  },
  {
   "cell_type": "code",
   "execution_count": 52,
   "id": "6d7de52e",
   "metadata": {},
   "outputs": [
    {
     "name": "stdout",
     "output_type": "stream",
     "text": [
      "Elapsed time: 3505.08 in seconds\n"
     ]
    }
   ],
   "source": [
    "import time\n",
    "t = time.process_time()\n",
    "\n",
    "vocabulary = list(loaded_model.index_to_key)\n",
    "word2vec_headline = []\n",
    "\n",
    "for i in tmp_news_articles['headline']:\n",
    "    word2vec_word = np.zeros(300, dtype=\"float32\")\n",
    "    for word in i.split():\n",
    "        if word in vocabulary:\n",
    "            word2vec_word = np.add(word2vec_word, loaded_model[word])\n",
    "    word2vec_word = np.divide(word2vec_word, len(i.split()))\n",
    "    word2vec_headline.append(word2vec_word)\n",
    "word2vec_headline = np.array(word2vec_headline)\n",
    "\n",
    "elapsed_time = time.process_time() - t\n",
    "print('Elapsed time: {:.2f} in seconds' .format(elapsed_time))"
   ]
  },
  {
   "cell_type": "code",
   "execution_count": 195,
   "id": "fa9f4be6",
   "metadata": {},
   "outputs": [],
   "source": [
    "from sklearn.metrics import pairwise_distances\n",
    "\n",
    "# define a function to get the top n similar articles based on euclidean similarity\n",
    "def avg_word2vec_model(row_index, num_similar_items):\n",
    "    \n",
    "    dist = pairwise_distances(word2vec_headline, word2vec_headline[row_index].reshape(1,-1))\n",
    "    indices = np.argsort(dist.ravel())[0:num_similar_items]\n",
    "    \n",
    "    df = pd.DataFrame({'publish_date': news_dataset['date'][indices].values,\n",
    "               'headline': news_dataset['headline'][indices].values,\n",
    "                'Euclidean similarity with the queried article': dist[indices].ravel()})\n",
    "    \n",
    "    print(\"=\"*30,\"Queried article details\",\"=\"*30)\n",
    "    print('headline : ', news_dataset['headline'][indices[0]])\n",
    "    print(\"\\n\",\"=\"*25,\"Recommended articles : \",\"=\"*23)\n",
    "    return df.iloc[1:,].sort_values(by='Euclidean similarity with the queried article', ascending=False)\n",
    "    #return df.iloc[1:,]"
   ]
  },
  {
   "cell_type": "code",
   "execution_count": 196,
   "id": "6bcfeb2a",
   "metadata": {},
   "outputs": [
    {
     "name": "stdout",
     "output_type": "stream",
     "text": [
      "============================== Queried article details ==============================\n",
      "headline :  Gun Reform Advocate Lucy McBath Heads To Runoff For Georgia House Seat\n",
      "\n",
      " ========================= Recommended articles :  =======================\n"
     ]
    },
    {
     "data": {
      "text/html": [
       "<div>\n",
       "<style scoped>\n",
       "    .dataframe tbody tr th:only-of-type {\n",
       "        vertical-align: middle;\n",
       "    }\n",
       "\n",
       "    .dataframe tbody tr th {\n",
       "        vertical-align: top;\n",
       "    }\n",
       "\n",
       "    .dataframe thead th {\n",
       "        text-align: right;\n",
       "    }\n",
       "</style>\n",
       "<table border=\"1\" class=\"dataframe\">\n",
       "  <thead>\n",
       "    <tr style=\"text-align: right;\">\n",
       "      <th></th>\n",
       "      <th>publish_date</th>\n",
       "      <th>headline</th>\n",
       "      <th>Euclidean similarity with the queried article</th>\n",
       "    </tr>\n",
       "  </thead>\n",
       "  <tbody>\n",
       "    <tr>\n",
       "      <th>9</th>\n",
       "      <td>2017-08-21</td>\n",
       "      <td>The Troubling Persistence Of The Hatred Of Black People</td>\n",
       "      <td>0.977874</td>\n",
       "    </tr>\n",
       "    <tr>\n",
       "      <th>8</th>\n",
       "      <td>2017-05-26</td>\n",
       "      <td>Donald Trump's Isolationism Is His First Great Export, And Italy Could Be First In Line</td>\n",
       "      <td>0.968792</td>\n",
       "    </tr>\n",
       "    <tr>\n",
       "      <th>7</th>\n",
       "      <td>2017-08-29</td>\n",
       "      <td>Live Gecko Found Inside A Man's Ear</td>\n",
       "      <td>0.967747</td>\n",
       "    </tr>\n",
       "    <tr>\n",
       "      <th>6</th>\n",
       "      <td>2017-01-30</td>\n",
       "      <td>Gina Rodriguez Promises To Use New TV Deal To Spotlight ‘Faces Unseen’</td>\n",
       "      <td>0.960570</td>\n",
       "    </tr>\n",
       "    <tr>\n",
       "      <th>5</th>\n",
       "      <td>2018-05-23</td>\n",
       "      <td>GOP Candidate Who Pointed Gun At Teenager Advances To Georgia Governor Primary Runoff</td>\n",
       "      <td>0.944075</td>\n",
       "    </tr>\n",
       "    <tr>\n",
       "      <th>4</th>\n",
       "      <td>2017-12-14</td>\n",
       "      <td>Russell Simmons Denies Rape Accusations With #NotMe</td>\n",
       "      <td>0.937375</td>\n",
       "    </tr>\n",
       "    <tr>\n",
       "      <th>3</th>\n",
       "      <td>2017-06-30</td>\n",
       "      <td>Trump's Voter Fraud Expert Says 'We May Never Know' If Millions Really Voted Illegally</td>\n",
       "      <td>0.918897</td>\n",
       "    </tr>\n",
       "    <tr>\n",
       "      <th>2</th>\n",
       "      <td>2017-06-30</td>\n",
       "      <td>Now Trump Is Suggesting Maybe The Senate Should Repeal First, Replace Later</td>\n",
       "      <td>0.908970</td>\n",
       "    </tr>\n",
       "    <tr>\n",
       "      <th>1</th>\n",
       "      <td>2017-08-14</td>\n",
       "      <td>Taraji P. Henson On Charlottesville: We Must Continue To Fight, But Only Through Love</td>\n",
       "      <td>0.908415</td>\n",
       "    </tr>\n",
       "  </tbody>\n",
       "</table>\n",
       "</div>"
      ],
      "text/plain": [
       "  publish_date  \\\n",
       "9   2017-08-21   \n",
       "8   2017-05-26   \n",
       "7   2017-08-29   \n",
       "6   2017-01-30   \n",
       "5   2018-05-23   \n",
       "4   2017-12-14   \n",
       "3   2017-06-30   \n",
       "2   2017-06-30   \n",
       "1   2017-08-14   \n",
       "\n",
       "                                                                                  headline  \\\n",
       "9                                  The Troubling Persistence Of The Hatred Of Black People   \n",
       "8  Donald Trump's Isolationism Is His First Great Export, And Italy Could Be First In Line   \n",
       "7                                                      Live Gecko Found Inside A Man's Ear   \n",
       "6                   Gina Rodriguez Promises To Use New TV Deal To Spotlight ‘Faces Unseen’   \n",
       "5    GOP Candidate Who Pointed Gun At Teenager Advances To Georgia Governor Primary Runoff   \n",
       "4                                      Russell Simmons Denies Rape Accusations With #NotMe   \n",
       "3   Trump's Voter Fraud Expert Says 'We May Never Know' If Millions Really Voted Illegally   \n",
       "2              Now Trump Is Suggesting Maybe The Senate Should Repeal First, Replace Later   \n",
       "1    Taraji P. Henson On Charlottesville: We Must Continue To Fight, But Only Through Love   \n",
       "\n",
       "   Euclidean similarity with the queried article  \n",
       "9                                       0.977874  \n",
       "8                                       0.968792  \n",
       "7                                       0.967747  \n",
       "6                                       0.960570  \n",
       "5                                       0.944075  \n",
       "4                                       0.937375  \n",
       "3                                       0.918897  \n",
       "2                                       0.908970  \n",
       "1                                       0.908415  "
      ]
     },
     "execution_count": 196,
     "metadata": {},
     "output_type": "execute_result"
    }
   ],
   "source": [
    "avg_word2vec_model(201, 10)"
   ]
  },
  {
   "cell_type": "code",
   "execution_count": 55,
   "id": "4ffe95fe",
   "metadata": {},
   "outputs": [],
   "source": [
    "from gensim.models import Word2Vec\n",
    "import numpy as np\n",
    "import pandas as pd\n",
    "from sklearn.metrics.pairwise import cosine_similarity"
   ]
  },
  {
   "cell_type": "markdown",
   "id": "68c62e91",
   "metadata": {},
   "source": [
    "**define a function to generate word embeddings for a headline:**"
   ]
  },
  {
   "cell_type": "code",
   "execution_count": 165,
   "id": "b0513b19",
   "metadata": {},
   "outputs": [],
   "source": [
    "def generate_embeddings(headline):\n",
    "    words = headline\n",
    "    embeddings = [loaded_model[word] for word in words if word in loaded_model]\n",
    "    if embeddings:\n",
    "        return np.mean(embeddings, axis=0)\n",
    "    else:\n",
    "        return None"
   ]
  },
  {
   "cell_type": "markdown",
   "id": "10fa516b",
   "metadata": {},
   "source": [
    "define a function using **cosine similarity** to recommend top-N headlines based on a given headline:"
   ]
  },
  {
   "cell_type": "code",
   "execution_count": 166,
   "id": "fc509b5c",
   "metadata": {},
   "outputs": [],
   "source": [
    "# define a function to get the top n similar articles based on cosine similarity\n",
    "def recommend_headlines(headline, data, top_n=5):\n",
    "    # generate word embeddings for the input headline\n",
    "    query_embedding = generate_embeddings(headline)\n",
    "    if query_embedding is None:\n",
    "        return \"Sorry, we could not generate a word embedding for the input headline.\"\n",
    "\n",
    "    # compute cosine similarity between the input headline and all other headlines\n",
    "    headline_embeddings = [generate_embeddings(h) for h in data['headline']]\n",
    "    headline_embeddings = [e for e in headline_embeddings if e is not None]\n",
    "    if not headline_embeddings:\n",
    "        return \"Sorry, we could not generate any word embeddings from the headlines in the dataset.\"\n",
    "    similarity_scores = cosine_similarity([query_embedding], headline_embeddings)[0]\n",
    "\n",
    "    # sort headlines by their cosine similarity scores and return the top N most similar ones\n",
    "    top_indices = similarity_scores.argsort()[::-1][:top_n]\n",
    "    df = pd.DataFrame({'publish_date': data['date'][top_indices].values,\n",
    "                       'headline': data['headline'][top_indices].values,\n",
    "                       'cosine similarity': similarity_scores[top_indices]})\n",
    "\n",
    "    # display the input headline and the recommended headlines\n",
    "    print(\"=\"*30,\"Queried article details\",\"=\"*30)\n",
    "    print('headline : ',headline)\n",
    "    print(\"\\n\",\"=\"*25,\"Recommended articles : \",\"=\"*23)\n",
    "    #return df\n",
    "    return df.sort_values(by='cosine similarity', ascending=False)"
   ]
  },
  {
   "cell_type": "code",
   "execution_count": 169,
   "id": "1268205f",
   "metadata": {
    "scrolled": false
   },
   "outputs": [
    {
     "name": "stdout",
     "output_type": "stream",
     "text": [
      "============================== Queried article details ==============================\n",
      "headline :  Hugh Grant Marries For The First Time At Age 57\n",
      "\n",
      " ========================= Recommended articles :  =======================\n"
     ]
    },
    {
     "data": {
      "text/html": [
       "<div>\n",
       "<style scoped>\n",
       "    .dataframe tbody tr th:only-of-type {\n",
       "        vertical-align: middle;\n",
       "    }\n",
       "\n",
       "    .dataframe tbody tr th {\n",
       "        vertical-align: top;\n",
       "    }\n",
       "\n",
       "    .dataframe thead th {\n",
       "        text-align: right;\n",
       "    }\n",
       "</style>\n",
       "<table border=\"1\" class=\"dataframe\">\n",
       "  <thead>\n",
       "    <tr style=\"text-align: right;\">\n",
       "      <th></th>\n",
       "      <th>publish_date</th>\n",
       "      <th>headline</th>\n",
       "      <th>cosine similarity</th>\n",
       "    </tr>\n",
       "  </thead>\n",
       "  <tbody>\n",
       "    <tr>\n",
       "      <th>0</th>\n",
       "      <td>2018-05-26</td>\n",
       "      <td>Hugh Grant Marries For The First Time At Age 57</td>\n",
       "      <td>1.000000</td>\n",
       "    </tr>\n",
       "    <tr>\n",
       "      <th>1</th>\n",
       "      <td>2017-02-26</td>\n",
       "      <td>Obamacare IS The Conservative Alternative: No \"More Conservative\" Plan Works</td>\n",
       "      <td>0.987668</td>\n",
       "    </tr>\n",
       "    <tr>\n",
       "      <th>2</th>\n",
       "      <td>2017-12-13</td>\n",
       "      <td>A Heartfelt Thank You To The Women Who Broke Their Silence On Roy Moore</td>\n",
       "      <td>0.987535</td>\n",
       "    </tr>\n",
       "    <tr>\n",
       "      <th>3</th>\n",
       "      <td>2017-11-09</td>\n",
       "      <td>Can District Attorneys Be Partners In Justice Reform?</td>\n",
       "      <td>0.986797</td>\n",
       "    </tr>\n",
       "    <tr>\n",
       "      <th>4</th>\n",
       "      <td>2017-12-17</td>\n",
       "      <td>Texas Senator Challenges Legitimacy Of Mueller Probe As Push For Firing Continues</td>\n",
       "      <td>0.986604</td>\n",
       "    </tr>\n",
       "  </tbody>\n",
       "</table>\n",
       "</div>"
      ],
      "text/plain": [
       "  publish_date  \\\n",
       "0   2018-05-26   \n",
       "1   2017-02-26   \n",
       "2   2017-12-13   \n",
       "3   2017-11-09   \n",
       "4   2017-12-17   \n",
       "\n",
       "                                                                            headline  \\\n",
       "0                                    Hugh Grant Marries For The First Time At Age 57   \n",
       "1       Obamacare IS The Conservative Alternative: No \"More Conservative\" Plan Works   \n",
       "2            A Heartfelt Thank You To The Women Who Broke Their Silence On Roy Moore   \n",
       "3                              Can District Attorneys Be Partners In Justice Reform?   \n",
       "4  Texas Senator Challenges Legitimacy Of Mueller Probe As Push For Firing Continues   \n",
       "\n",
       "   cosine similarity  \n",
       "0           1.000000  \n",
       "1           0.987668  \n",
       "2           0.987535  \n",
       "3           0.986797  \n",
       "4           0.986604  "
      ]
     },
     "execution_count": 169,
     "metadata": {},
     "output_type": "execute_result"
    }
   ],
   "source": [
    "recommend_headlines(\"Hugh Grant Marries For The First Time At Age 57\", news_dataset, 5)"
   ]
  },
  {
   "cell_type": "markdown",
   "id": "512b2b0c",
   "metadata": {},
   "source": [
    "### d. Weighted similarity between multiple attributes:"
   ]
  },
  {
   "cell_type": "markdown",
   "id": "00e99388",
   "metadata": {},
   "source": [
    "#### In this approach, the similarity scores of multiple attributes such as headlines, authors, and publishers are combined to compute weighted similarity scores between the articles. One-hot encoding was used along with word2vec in this approach to calculate similarity. The purpose of one-hot encoding is to compare the articles based on category information."
   ]
  },
  {
   "cell_type": "code",
   "execution_count": 68,
   "id": "a2b94c19",
   "metadata": {},
   "outputs": [],
   "source": [
    "from sklearn.preprocessing import OneHotEncoder"
   ]
  },
  {
   "cell_type": "code",
   "execution_count": 69,
   "id": "5552876e",
   "metadata": {},
   "outputs": [],
   "source": [
    "category_onehot_encoded = OneHotEncoder().fit_transform(np.array(tmp_news_articles[\"category\"]).reshape(-1,1))"
   ]
  },
  {
   "cell_type": "markdown",
   "id": "e9e3918c",
   "metadata": {},
   "source": [
    "**In below function, we are combining headline and category features for recommending headlines**"
   ]
  },
  {
   "cell_type": "code",
   "execution_count": 180,
   "id": "7aa54c47",
   "metadata": {},
   "outputs": [],
   "source": [
    "def avg_word2vec_with_category(row_index, num_similar_items, w1,w2): \n",
    "    word2vec_dist  = pairwise_distances(word2vec_headline, word2vec_headline[row_index].reshape(1,-1))\n",
    "    category_dist = pairwise_distances(category_onehot_encoded, category_onehot_encoded[row_index]) + 1\n",
    "    weighted_couple_dist   = (w1 * word2vec_dist +  w2 * category_dist)/float(w1 + w2)\n",
    "    indices = np.argsort(weighted_couple_dist.flatten())[0:num_similar_items].tolist()\n",
    "    df = pd.DataFrame({'publish_date': news_dataset['date'][indices].values,\n",
    "               'headline': news_dataset['headline'][indices].values,\n",
    "                'Weighted Euclidean similarity with the queried article': weighted_couple_dist[indices].ravel()})\n",
    "    \n",
    "    print(\"=\"*30,\"Queried article details\",\"=\"*30)\n",
    "    print('headline : ', news_dataset['headline'][indices[0]])\n",
    "    print('Categoty : ', news_dataset['category'][indices[0]])\n",
    "    print(\"\\n\",\"=\"*25,\"Recommended articles : \",\"=\"*23)\n",
    "    #return df.iloc[1:,[1,5]]\n",
    "    return df.iloc[1:, ].sort_values(by='Weighted Euclidean similarity with the queried article', ascending=False)\n",
    "    #df.sort_values(by='cosine similarity', ascending=False)"
   ]
  },
  {
   "cell_type": "code",
   "execution_count": 194,
   "id": "face5cbd",
   "metadata": {
    "scrolled": false
   },
   "outputs": [
    {
     "name": "stdout",
     "output_type": "stream",
     "text": [
      "============================== Queried article details ==============================\n",
      "headline :  Terry Crews: Me Too Movement 'Is The Emancipation Proclamation'\n",
      "Categoty :  BLACK VOICES\n",
      "\n",
      " ========================= Recommended articles :  =======================\n"
     ]
    },
    {
     "data": {
      "text/html": [
       "<div>\n",
       "<style scoped>\n",
       "    .dataframe tbody tr th:only-of-type {\n",
       "        vertical-align: middle;\n",
       "    }\n",
       "\n",
       "    .dataframe tbody tr th {\n",
       "        vertical-align: top;\n",
       "    }\n",
       "\n",
       "    .dataframe thead th {\n",
       "        text-align: right;\n",
       "    }\n",
       "</style>\n",
       "<table border=\"1\" class=\"dataframe\">\n",
       "  <thead>\n",
       "    <tr style=\"text-align: right;\">\n",
       "      <th></th>\n",
       "      <th>publish_date</th>\n",
       "      <th>headline</th>\n",
       "      <th>Weighted Euclidean similarity with the queried article</th>\n",
       "    </tr>\n",
       "  </thead>\n",
       "  <tbody>\n",
       "    <tr>\n",
       "      <th>9</th>\n",
       "      <td>2017-12-30</td>\n",
       "      <td>Women Rewrite The Constitution In Jay-Z's 'Family Feud,' Directed By Ava DuVernay</td>\n",
       "      <td>0.991120</td>\n",
       "    </tr>\n",
       "    <tr>\n",
       "      <th>8</th>\n",
       "      <td>2017-08-27</td>\n",
       "      <td>A Moment Of Moral Clarity On Labor Day</td>\n",
       "      <td>0.990912</td>\n",
       "    </tr>\n",
       "    <tr>\n",
       "      <th>7</th>\n",
       "      <td>2017-04-24</td>\n",
       "      <td>France Could Elect A President With Seriously Troubling Ideas About Religion</td>\n",
       "      <td>0.990614</td>\n",
       "    </tr>\n",
       "    <tr>\n",
       "      <th>6</th>\n",
       "      <td>2017-08-21</td>\n",
       "      <td>Twitter Absolutely Loses It Over 'Evil' Avocado Macaroni And Cheese Recipe</td>\n",
       "      <td>0.990369</td>\n",
       "    </tr>\n",
       "    <tr>\n",
       "      <th>5</th>\n",
       "      <td>2017-04-11</td>\n",
       "      <td>Assad Is A Monster But If Trump Overthrows Him, Syria Will Likely Be Run By Terrorists</td>\n",
       "      <td>0.989069</td>\n",
       "    </tr>\n",
       "    <tr>\n",
       "      <th>4</th>\n",
       "      <td>2017-09-05</td>\n",
       "      <td>Sheryl Crow's Sons Like To Rewrite Her Songs With Silly Kid Humor</td>\n",
       "      <td>0.988452</td>\n",
       "    </tr>\n",
       "    <tr>\n",
       "      <th>3</th>\n",
       "      <td>2017-07-18</td>\n",
       "      <td>Swing Latino Takes Colombian Salsa To New Heights On 'World Of Dance'</td>\n",
       "      <td>0.988285</td>\n",
       "    </tr>\n",
       "    <tr>\n",
       "      <th>2</th>\n",
       "      <td>2017-12-01</td>\n",
       "      <td>The 20 Funniest Tweets From Women This Week</td>\n",
       "      <td>0.987243</td>\n",
       "    </tr>\n",
       "    <tr>\n",
       "      <th>1</th>\n",
       "      <td>2017-05-20</td>\n",
       "      <td>Dan Rather's 'Head Spins' Over News Bombshells: 'Bam. Bam. Bam.'</td>\n",
       "      <td>0.985048</td>\n",
       "    </tr>\n",
       "  </tbody>\n",
       "</table>\n",
       "</div>"
      ],
      "text/plain": [
       "  publish_date  \\\n",
       "9   2017-12-30   \n",
       "8   2017-08-27   \n",
       "7   2017-04-24   \n",
       "6   2017-08-21   \n",
       "5   2017-04-11   \n",
       "4   2017-09-05   \n",
       "3   2017-07-18   \n",
       "2   2017-12-01   \n",
       "1   2017-05-20   \n",
       "\n",
       "                                                                                 headline  \\\n",
       "9       Women Rewrite The Constitution In Jay-Z's 'Family Feud,' Directed By Ava DuVernay   \n",
       "8                                                  A Moment Of Moral Clarity On Labor Day   \n",
       "7            France Could Elect A President With Seriously Troubling Ideas About Religion   \n",
       "6              Twitter Absolutely Loses It Over 'Evil' Avocado Macaroni And Cheese Recipe   \n",
       "5  Assad Is A Monster But If Trump Overthrows Him, Syria Will Likely Be Run By Terrorists   \n",
       "4                       Sheryl Crow's Sons Like To Rewrite Her Songs With Silly Kid Humor   \n",
       "3                   Swing Latino Takes Colombian Salsa To New Heights On 'World Of Dance'   \n",
       "2                                             The 20 Funniest Tweets From Women This Week   \n",
       "1                        Dan Rather's 'Head Spins' Over News Bombshells: 'Bam. Bam. Bam.'   \n",
       "\n",
       "   Weighted Euclidean similarity with the queried article  \n",
       "9                                                0.991120  \n",
       "8                                                0.990912  \n",
       "7                                                0.990614  \n",
       "6                                                0.990369  \n",
       "5                                                0.989069  \n",
       "4                                                0.988452  \n",
       "3                                                0.988285  \n",
       "2                                                0.987243  \n",
       "1                                                0.985048  "
      ]
     },
     "execution_count": 194,
     "metadata": {},
     "output_type": "execute_result"
    }
   ],
   "source": [
    "avg_word2vec_with_category(528, 10, 0.1, 0.8)"
   ]
  },
  {
   "cell_type": "markdown",
   "id": "24975e9f",
   "metadata": {},
   "source": [
    "### f. Weighted similarity based on headline, category, author and publishing day:"
   ]
  },
  {
   "cell_type": "markdown",
   "id": "898c2625",
   "metadata": {},
   "source": [
    "* Adding a new column containing both day of the week and month, it will be required later while recommending based on day of the week and month"
   ]
  },
  {
   "cell_type": "code",
   "execution_count": 198,
   "id": "d4e06c41",
   "metadata": {},
   "outputs": [],
   "source": [
    "tmp_news_articles = news_dataset.copy()\n",
    "tmp_news_articles[\"day and month\"] = tmp_news_articles[\"date\"].dt.strftime(\"%a\") + \"_\" + tmp_news_articles[\"date\"].dt.strftime(\"%b\")"
   ]
  },
  {
   "cell_type": "code",
   "execution_count": 199,
   "id": "2d2e779e",
   "metadata": {},
   "outputs": [],
   "source": [
    "publishingday_onehot_encoded = OneHotEncoder().fit_transform(np.array(tmp_news_articles[\"day and month\"]).reshape(-1,1))"
   ]
  },
  {
   "cell_type": "markdown",
   "id": "b503bbb2",
   "metadata": {},
   "source": [
    "**In below function we are combining category, author, headline, and publish day for recommending headlines.**"
   ]
  },
  {
   "cell_type": "code",
   "execution_count": 204,
   "id": "16788340",
   "metadata": {},
   "outputs": [],
   "source": [
    "def avg_word2vec_with_category_authors_and_publshing_day(row_index, num_similar_items, w1,w2,w3,w4): \n",
    "    word2vec_dist  = pairwise_distances(word2vec_headline, word2vec_headline[row_index].reshape(1,-1))\n",
    "    category_dist = pairwise_distances(category_onehot_encoded, category_onehot_encoded[row_index]) + 1\n",
    "    authors_dist = pairwise_distances(authors_onehot_encoded, authors_onehot_encoded[row_index]) + 1\n",
    "    publishingday_dist = pairwise_distances(publishingday_onehot_encoded, publishingday_onehot_encoded[row_index]) + 1\n",
    "    weighted_couple_dist   = (w1 * word2vec_dist +  w2 * category_dist + w3 * authors_dist + w4 * publishingday_dist)/float(w1 + w2 + w3 + w4)\n",
    "    indices = np.argsort(weighted_couple_dist.flatten())[0:num_similar_items].tolist()\n",
    "    df = pd.DataFrame({'publish_date': news_dataset['date'][indices].values,\n",
    "                'headline_text': news_dataset['headline'][indices].values,\n",
    "                'Weighted Euclidean similarity with the queried article': weighted_couple_dist[indices].ravel(),\n",
    "                'Categoty': tmp_news_articles['category'][indices].values,\n",
    "                'Authors': tmp_news_articles['authors'][indices].values,\n",
    "                'Day and month': tmp_news_articles['day and month'][indices].values})\n",
    "    print(\"=\"*30,\"Queried article details\",\"=\"*30)\n",
    "    print('headline : ', tmp_news_articles['headline'][indices[0]])\n",
    "    print('Categoty : ', tmp_news_articles['category'][indices[0]])\n",
    "    print('Authors : ', tmp_news_articles['authors'][indices[0]])\n",
    "    print('Day and month : ', tmp_news_articles['day and month'][indices[0]])\n",
    "    print(\"\\n\",\"=\"*25,\"Recommended articles : \",\"=\"*23)\n",
    "    #return df.iloc[1:,[1,7,8,9]]\n",
    "    return df.iloc[1:, ].sort_values(by='Weighted Euclidean similarity with the queried article', ascending=False)"
   ]
  },
  {
   "cell_type": "code",
   "execution_count": 205,
   "id": "131e6836",
   "metadata": {},
   "outputs": [
    {
     "name": "stdout",
     "output_type": "stream",
     "text": [
      "============================== Queried article details ==============================\n",
      "headline :  Terry Crews: Me Too Movement 'Is The Emancipation Proclamation'\n",
      "Categoty :  BLACK VOICES\n",
      "Authors :  Curtis M. Wong\n",
      "Day and month :  Wed_May\n",
      "\n",
      " ========================= Recommended articles :  =======================\n"
     ]
    },
    {
     "data": {
      "text/html": [
       "<div>\n",
       "<style scoped>\n",
       "    .dataframe tbody tr th:only-of-type {\n",
       "        vertical-align: middle;\n",
       "    }\n",
       "\n",
       "    .dataframe tbody tr th {\n",
       "        vertical-align: top;\n",
       "    }\n",
       "\n",
       "    .dataframe thead th {\n",
       "        text-align: right;\n",
       "    }\n",
       "</style>\n",
       "<table border=\"1\" class=\"dataframe\">\n",
       "  <thead>\n",
       "    <tr style=\"text-align: right;\">\n",
       "      <th></th>\n",
       "      <th>publish_date</th>\n",
       "      <th>headline_text</th>\n",
       "      <th>Weighted Euclidean similarity with the queried article</th>\n",
       "      <th>Categoty</th>\n",
       "      <th>Authors</th>\n",
       "      <th>Day and month</th>\n",
       "    </tr>\n",
       "  </thead>\n",
       "  <tbody>\n",
       "    <tr>\n",
       "      <th>9</th>\n",
       "      <td>2018-05-09</td>\n",
       "      <td>Child Sexual Predator Roman Polanski Calls Me Too Movement 'Total Hypocrisy'</td>\n",
       "      <td>1.114766</td>\n",
       "      <td>WOMEN</td>\n",
       "      <td>Alanna Vagianos</td>\n",
       "      <td>Wed_May</td>\n",
       "    </tr>\n",
       "    <tr>\n",
       "      <th>8</th>\n",
       "      <td>2017-05-14</td>\n",
       "      <td>Controversial California Water Project Has New Life In Trump Era</td>\n",
       "      <td>1.114750</td>\n",
       "      <td>POLITICS</td>\n",
       "      <td>Joseph Erbentraut</td>\n",
       "      <td>Sun_May</td>\n",
       "    </tr>\n",
       "    <tr>\n",
       "      <th>7</th>\n",
       "      <td>2018-05-02</td>\n",
       "      <td>Protests Across Armenia Fuel Calls For Ruling Elite To Step Down</td>\n",
       "      <td>1.114341</td>\n",
       "      <td>WORLD NEWS</td>\n",
       "      <td>Margarita Antidze and Hasmik Mkrtchyan, Reuters</td>\n",
       "      <td>Wed_May</td>\n",
       "    </tr>\n",
       "    <tr>\n",
       "      <th>6</th>\n",
       "      <td>2017-06-04</td>\n",
       "      <td>America’s ‘Deep State’ Moves To Thwart Donald Trump</td>\n",
       "      <td>1.114207</td>\n",
       "      <td>POLITICS</td>\n",
       "      <td>Raghida Dergham, ContributorFounder and Executive Chairman of Beirut Institute</td>\n",
       "      <td>Sun_Jun</td>\n",
       "    </tr>\n",
       "    <tr>\n",
       "      <th>5</th>\n",
       "      <td>2018-05-09</td>\n",
       "      <td>This Jobs Program Just Might Get People Back To Work</td>\n",
       "      <td>1.113352</td>\n",
       "      <td>POLITICS</td>\n",
       "      <td>Stateline, Editorial Partner</td>\n",
       "      <td>Wed_May</td>\n",
       "    </tr>\n",
       "    <tr>\n",
       "      <th>4</th>\n",
       "      <td>2018-05-16</td>\n",
       "      <td>Thandie Newton's Cannes Dress Is A Celebration Of Black 'Star Wars' Characters</td>\n",
       "      <td>1.112241</td>\n",
       "      <td>BLACK VOICES</td>\n",
       "      <td>Lee Moran</td>\n",
       "      <td>Wed_May</td>\n",
       "    </tr>\n",
       "    <tr>\n",
       "      <th>3</th>\n",
       "      <td>2018-05-02</td>\n",
       "      <td>White Supremacist Found Guilty In Charlottesville Beating Of Black Man</td>\n",
       "      <td>1.110988</td>\n",
       "      <td>CRIME</td>\n",
       "      <td>Sara Boboltz</td>\n",
       "      <td>Wed_May</td>\n",
       "    </tr>\n",
       "    <tr>\n",
       "      <th>2</th>\n",
       "      <td>2018-05-09</td>\n",
       "      <td>'This Is America' Producer Reveals New Details About Childish Gambino's Viral Video</td>\n",
       "      <td>1.107493</td>\n",
       "      <td>BLACK VOICES</td>\n",
       "      <td>Hayley Miller</td>\n",
       "      <td>Wed_May</td>\n",
       "    </tr>\n",
       "    <tr>\n",
       "      <th>1</th>\n",
       "      <td>2018-05-23</td>\n",
       "      <td>Did You Spot Trevor Noah In 'Black Panther'? The 'Daily Show' Host's Stealth Cameo Revealed</td>\n",
       "      <td>1.104500</td>\n",
       "      <td>BLACK VOICES</td>\n",
       "      <td>Nick Schager, Yahoo Entertainment</td>\n",
       "      <td>Wed_May</td>\n",
       "    </tr>\n",
       "  </tbody>\n",
       "</table>\n",
       "</div>"
      ],
      "text/plain": [
       "  publish_date  \\\n",
       "9   2018-05-09   \n",
       "8   2017-05-14   \n",
       "7   2018-05-02   \n",
       "6   2017-06-04   \n",
       "5   2018-05-09   \n",
       "4   2018-05-16   \n",
       "3   2018-05-02   \n",
       "2   2018-05-09   \n",
       "1   2018-05-23   \n",
       "\n",
       "                                                                                 headline_text  \\\n",
       "9                 Child Sexual Predator Roman Polanski Calls Me Too Movement 'Total Hypocrisy'   \n",
       "8                             Controversial California Water Project Has New Life In Trump Era   \n",
       "7                             Protests Across Armenia Fuel Calls For Ruling Elite To Step Down   \n",
       "6                                          America’s ‘Deep State’ Moves To Thwart Donald Trump   \n",
       "5                                         This Jobs Program Just Might Get People Back To Work   \n",
       "4               Thandie Newton's Cannes Dress Is A Celebration Of Black 'Star Wars' Characters   \n",
       "3                       White Supremacist Found Guilty In Charlottesville Beating Of Black Man   \n",
       "2          'This Is America' Producer Reveals New Details About Childish Gambino's Viral Video   \n",
       "1  Did You Spot Trevor Noah In 'Black Panther'? The 'Daily Show' Host's Stealth Cameo Revealed   \n",
       "\n",
       "   Weighted Euclidean similarity with the queried article      Categoty  \\\n",
       "9                                                1.114766         WOMEN   \n",
       "8                                                1.114750      POLITICS   \n",
       "7                                                1.114341    WORLD NEWS   \n",
       "6                                                1.114207      POLITICS   \n",
       "5                                                1.113352      POLITICS   \n",
       "4                                                1.112241  BLACK VOICES   \n",
       "3                                                1.110988         CRIME   \n",
       "2                                                1.107493  BLACK VOICES   \n",
       "1                                                1.104500  BLACK VOICES   \n",
       "\n",
       "                                                                          Authors  \\\n",
       "9                                                                 Alanna Vagianos   \n",
       "8                                                               Joseph Erbentraut   \n",
       "7                                 Margarita Antidze and Hasmik Mkrtchyan, Reuters   \n",
       "6  Raghida Dergham, ContributorFounder and Executive Chairman of Beirut Institute   \n",
       "5                                                    Stateline, Editorial Partner   \n",
       "4                                                                       Lee Moran   \n",
       "3                                                                    Sara Boboltz   \n",
       "2                                                                   Hayley Miller   \n",
       "1                                               Nick Schager, Yahoo Entertainment   \n",
       "\n",
       "  Day and month  \n",
       "9       Wed_May  \n",
       "8       Sun_May  \n",
       "7       Wed_May  \n",
       "6       Sun_Jun  \n",
       "5       Wed_May  \n",
       "4       Wed_May  \n",
       "3       Wed_May  \n",
       "2       Wed_May  \n",
       "1       Wed_May  "
      ]
     },
     "execution_count": 205,
     "metadata": {},
     "output_type": "execute_result"
    }
   ],
   "source": [
    "avg_word2vec_with_category_authors_and_publshing_day(528,10,0.1,0.1,0.1,1)"
   ]
  }
 ],
 "metadata": {
  "kernelspec": {
   "display_name": "Python 3 (ipykernel)",
   "language": "python",
   "name": "python3"
  },
  "language_info": {
   "codemirror_mode": {
    "name": "ipython",
    "version": 3
   },
   "file_extension": ".py",
   "mimetype": "text/x-python",
   "name": "python",
   "nbconvert_exporter": "python",
   "pygments_lexer": "ipython3",
   "version": "3.8.16"
  }
 },
 "nbformat": 4,
 "nbformat_minor": 5
}
